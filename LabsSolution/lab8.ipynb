{
 "cells": [
  {
   "cell_type": "markdown",
   "metadata": {
    "id": "sns-wuTyDFAs"
   },
   "source": [
    "**<font size=\"5\">Applied Statistics</font>**\n",
    "\n",
    "<font size=\"3\">MSc in High Performance Computing Engineering, Computer Science and Engineering, Physics Engineering - A.Y. 2024-2025</font>\n",
    "\n",
    "Prof. Mario Beraha - Dott. Vittorio Torri\n",
    "\n",
    "---\n",
    "\n",
    "<font size=\"4\">**Lab 8 - Variable Selection, Cross Validation, Regularized Models**</font>"
   ]
  },
  {
   "cell_type": "markdown",
   "metadata": {
    "id": "ciEBGMI5alog"
   },
   "source": [
    "# Libraries"
   ]
  },
  {
   "cell_type": "code",
   "execution_count": null,
   "metadata": {
    "id": "V4tZOCOQanB9"
   },
   "outputs": [],
   "source": [
    "import pandas as pd\n",
    "pd.options.display.float_format = '{:.2f}'.format"
   ]
  },
  {
   "cell_type": "code",
   "execution_count": null,
   "metadata": {
    "id": "0qNen7Ljcx3t"
   },
   "outputs": [],
   "source": [
    "from sklearn.pipeline import Pipeline\n",
    "from sklearn.compose import ColumnTransformer\n",
    "from sklearn.linear_model import LinearRegression\n",
    "from sklearn.preprocessing import StandardScaler, OneHotEncoder\n",
    "from sklearn.linear_model import Ridge, Lasso\n",
    "from sklearn.model_selection import train_test_split, GridSearchCV\n",
    "from sklearn.metrics import mean_squared_error\n",
    "import numpy as np\n",
    "import matplotlib.pyplot as plt"
   ]
  },
  {
   "cell_type": "code",
   "execution_count": null,
   "metadata": {
    "id": "1_MvRLcN_No-"
   },
   "outputs": [],
   "source": [
    "import statsmodels.api as sm"
   ]
  },
  {
   "cell_type": "code",
   "execution_count": null,
   "metadata": {
    "id": "WcaQ5G3rJ5JR"
   },
   "outputs": [],
   "source": [
    "np.random.seed(1234)"
   ]
  },
  {
   "cell_type": "code",
   "execution_count": null,
   "metadata": {
    "id": "gEbCEGDUUmxr"
   },
   "outputs": [],
   "source": [
    "import scipy.stats as stats"
   ]
  },
  {
   "cell_type": "markdown",
   "metadata": {
    "id": "6vWzbwC_pr-7"
   },
   "source": [
    "# Load Dataset"
   ]
  },
  {
   "cell_type": "code",
   "execution_count": null,
   "metadata": {
    "id": "96NhBI6JW2oq"
   },
   "outputs": [],
   "source": [
    "df = pd.read_csv('../DatasetsLabs/heart_failure_clinical_records_dataset_smhd.csv')"
   ]
  },
  {
   "cell_type": "code",
   "execution_count": null,
   "metadata": {
    "id": "qz4KsntemxVT"
   },
   "outputs": [],
   "source": [
    "cat_vars = ['anaemia', 'diabetes', 'high_blood_pressure',  'sex',  'smoking',  'DEATH_EVENT']\n",
    "num_vars = ['age', 'creatinine_phosphokinase', 'ejection_fraction', 'platelets', 'serum_creatinine', 'serum_sodium', 'bmi', 'time']#, 'rehospitalizations']"
   ]
  },
  {
   "cell_type": "markdown",
   "metadata": {
    "id": "qD6meuIGZ6Yz"
   },
   "source": [
    "# Feature selection"
   ]
  },
  {
   "cell_type": "markdown",
   "metadata": {
    "id": "9vUIZKC6ceTw"
   },
   "source": [
    "## Linear Regression for ejection fraction"
   ]
  },
  {
   "cell_type": "code",
   "execution_count": null,
   "metadata": {
    "colab": {
     "base_uri": "https://localhost:8080/",
     "height": 365
    },
    "executionInfo": {
     "elapsed": 88345,
     "status": "error",
     "timestamp": 1751899353795,
     "user": {
      "displayName": "Emanuele Alberti",
      "userId": "01048477993232507094"
     },
     "user_tz": -120
    },
    "id": "dib3HTj3Z8gY",
    "outputId": "d38081c8-5164-4656-b392-b66ec64a42b2"
   },
   "outputs": [],
   "source": [
    "import time\n",
    "from sklearn.pipeline import Pipeline\n",
    "from sklearn.compose import ColumnTransformer\n",
    "from sklearn.preprocessing import StandardScaler, OneHotEncoder\n",
    "from sklearn.linear_model import LinearRegression\n",
    "from sklearn.feature_selection import SequentialFeatureSelector\n",
    "from sklearn.metrics import mean_squared_error\n",
    "from mlxtend.feature_selection import ExhaustiveFeatureSelector\n",
    "\n",
    "# Prepare data\n",
    "X = df[['age', 'anaemia', 'creatinine_phosphokinase', 'diabetes', 'high_blood_pressure',\n",
    "        'platelets', 'serum_creatinine', 'serum_sodium', 'sex', 'smoking', 'bmi', 'time',\n",
    "        'DEATH_EVENT']]\n",
    "y = df['ejection_fraction']\n",
    "\n",
    "numeric_vars = num_vars.copy()\n",
    "numeric_vars.remove('ejection_fraction')\n",
    "categorical_vars = cat_vars.copy()\n",
    "\n",
    "X_train, X_test, y_train, y_test = train_test_split(X, y, test_size=0.2, random_state=123)\n",
    "\n",
    "# Preprocessing\n",
    "preprocessor = ColumnTransformer([\n",
    "    ('num', StandardScaler(), numeric_vars),\n",
    "    ('cat', OneHotEncoder(drop='first', sparse_output=False), categorical_vars)\n",
    "])\n",
    "\n",
    "X_train_proc = preprocessor.fit_transform(X_train)\n",
    "X_test_proc = preprocessor.transform(X_test)\n",
    "feature_names = preprocessor.get_feature_names_out()\n",
    "n = len(y_test)\n",
    "\n",
    "# Helper for metrics computation\n",
    "def get_model_stats(y_true, y_pred, p, mse_full):\n",
    "    n = len(y_true)\n",
    "    rss = np.sum((y_true - y_pred) ** 2)\n",
    "    mse = rss / n\n",
    "    r2 = 1 - (rss / np.sum((y_true - np.mean(y_true)) ** 2))\n",
    "    adj_r2 = 1 - ((1 - r2) * (n - 1)) / (n - p - 1)\n",
    "    aic = n * np.log(mse) + 2 * p\n",
    "    bic = n * np.log(mse) + p * np.log(n)\n",
    "    cp = rss / mse_full - n + 2 * p\n",
    "    return aic, bic, cp, adj_r2\n",
    "\n",
    "\n",
    "# Full model (OLS)\n",
    "start = time.time()\n",
    "ols_model = LinearRegression().fit(X_train_proc, y_train)\n",
    "train_rss_full = np.sum((y_train - ols_model.predict(X_train_proc)) ** 2)\n",
    "mse_full = train_rss_full / len(y_train)\n",
    "y_pred_ols = ols_model.predict(X_test_proc)\n",
    "aic_ols, bic_ols, cp_ols, adj_r2_ols = get_model_stats(y_test, y_pred_ols, X_test_proc.shape[1] + 1, mse_full)\n",
    "time_ols = time.time() - start\n",
    "\n",
    "# Best Subset Selection\n",
    "start = time.time()\n",
    "efs = ExhaustiveFeatureSelector(LinearRegression(), min_features=1, max_features=10, scoring='r2', cv=5)\n",
    "efs.fit(X_train_proc, y_train)\n",
    "best_subset_idx = list(efs.best_idx_)\n",
    "model_best = LinearRegression().fit(X_train_proc[:, best_subset_idx], y_train)\n",
    "y_pred_best = model_best.predict(X_test_proc[:, best_subset_idx])\n",
    "aic_best, bic_best, cp_best, adj_r2_best = get_model_stats(y_test, y_pred_best, len(best_subset_idx) + 1, mse_full)\n",
    "time_best = time.time() - start\n",
    "\n",
    "# Forward Selection\n",
    "start = time.time()\n",
    "sfs_forward = SequentialFeatureSelector(LinearRegression(), direction='forward', cv=5, scoring='r2')\n",
    "sfs_forward.fit(X_train_proc, y_train)\n",
    "fmask = sfs_forward.get_support()\n",
    "model_fwd = LinearRegression().fit(X_train_proc[:, fmask], y_train)\n",
    "y_pred_fwd = model_fwd.predict(X_test_proc[:, fmask])\n",
    "aic_fwd, bic_fwd, cp_fwd, adj_r2_fwd = get_model_stats(y_test, y_pred_fwd, sum(fmask) + 1, mse_full)\n",
    "time_fwd = time.time() - start\n",
    "\n",
    "# Backward Selection\n",
    "start = time.time()\n",
    "sfs_backward = SequentialFeatureSelector(LinearRegression(), direction='backward', cv=5, scoring='r2')\n",
    "sfs_backward.fit(X_train_proc, y_train)\n",
    "bmask = sfs_backward.get_support()\n",
    "model_bwd = LinearRegression().fit(X_train_proc[:, bmask], y_train)\n",
    "y_pred_bwd = model_bwd.predict(X_test_proc[:, bmask])\n",
    "aic_bwd, bic_bwd, cp_bwd, adj_r2_bwd = get_model_stats(y_test, y_pred_bwd, sum(bmask) + 1, mse_full)\n",
    "time_bwd = time.time() - start\n",
    "\n",
    "# Compile metrics\n",
    "metrics_df = pd.DataFrame([\n",
    "    {'Model': 'OLS (All)', 'AIC': aic_ols, 'BIC': bic_ols, \"Cp\": cp_ols, 'Adj. R^2': adj_r2_ols, 'Time (s)': time_ols},\n",
    "    {'Model': 'Best Subset', 'AIC': aic_best, 'BIC': bic_best, \"Cp\": cp_best, 'Adj. R^2': adj_r2_best, 'Time (s)': time_best},\n",
    "    {'Model': 'Forward Selection', 'AIC': aic_fwd, 'BIC': bic_fwd, \"Cp\": cp_fwd, 'Adj. R^2': adj_r2_fwd, 'Time (s)': time_fwd},\n",
    "    {'Model': 'Backward Selection', 'AIC': aic_bwd, 'BIC': bic_bwd, \"Cp\": cp_bwd, 'Adj. R^2': adj_r2_bwd, 'Time (s)': time_bwd}\n",
    "])\n",
    "\n",
    "\n",
    "\n",
    "# Display\n",
    "print(\"\\n\\nModel Comparison (AIC, BIC, Cp, Time):\")\n",
    "print(metrics_df)\n",
    "\n",
    "print(\"\\nSelected Features:\")\n",
    "print('Best subset:\\n')\n",
    "print(feature_names[best_subset_idx])\n",
    "print('\\nForward selection:\\n')\n",
    "print(feature_names[fmask])\n",
    "print('\\nBackward selection:\\n')\n",
    "print(feature_names[bmask])\n"
   ]
  },
  {
   "cell_type": "markdown",
   "metadata": {
    "id": "jVa3ZgdechxD"
   },
   "source": [
    "## Logistic Regression for Death"
   ]
  },
  {
   "cell_type": "code",
   "execution_count": null,
   "metadata": {
    "id": "OjKOP7_xct8R"
   },
   "outputs": [],
   "source": [
    "from sklearn.linear_model import LogisticRegression\n",
    "from sklearn.metrics import accuracy_score, log_loss\n",
    "\n",
    "# Target\n",
    "X = df[['age', 'anaemia', 'creatinine_phosphokinase', 'diabetes', 'high_blood_pressure',\n",
    "        'platelets', 'serum_creatinine', 'serum_sodium', 'sex', 'smoking', 'bmi', 'time', 'ejection_fraction'\n",
    "        ]]\n",
    "y = df['DEATH_EVENT']\n",
    "\n",
    "# Feature groups\n",
    "numeric_vars = num_vars.copy()\n",
    "categorical_vars = cat_vars.copy()\n",
    "categorical_vars.remove('DEATH_EVENT')  # remove target\n",
    "\n",
    "# Train/test split\n",
    "X_train, X_test, y_train, y_test = train_test_split(X, y, test_size=0.2, random_state=123)\n",
    "\n",
    "# Preprocessing\n",
    "preprocessor = ColumnTransformer([\n",
    "    ('num', StandardScaler(), numeric_vars),\n",
    "    ('cat', OneHotEncoder(drop='first', sparse_output=False), categorical_vars)\n",
    "])\n",
    "\n",
    "X_train_proc = preprocessor.fit_transform(X_train)\n",
    "X_test_proc = preprocessor.transform(X_test)\n",
    "feature_names = preprocessor.get_feature_names_out()\n",
    "n = len(y_test)\n",
    "\n",
    "# Fit full logistic model\n",
    "start = time.time()\n",
    "logreg_full = LogisticRegression(max_iter=1000).fit(X_train_proc, y_train)\n",
    "y_pred_full = logreg_full.predict(X_test_proc)\n",
    "y_proba_full = logreg_full.predict_proba(X_test_proc)[:, 1]\n",
    "logloss_full = log_loss(y_test, y_proba_full)\n",
    "time_full = time.time() - start\n",
    "\n",
    "def get_classification_metrics(y_true, y_prob, p, logloss_full):\n",
    "    n = len(y_true)\n",
    "    log_loss_model = log_loss(y_true, y_prob)\n",
    "    ll = -log_loss(y_true, y_prob, normalize=False)\n",
    "    aic = 2 * p - 2 * ll\n",
    "    bic = p * np.log(n) - 2 * ll\n",
    "    cp = (n * log_loss_model) / logloss_full - n + 2 * p\n",
    "    return aic, bic, cp\n",
    "\n",
    "\n",
    "logloss_full = log_loss(y_test, y_proba_full)\n",
    "aic_full, bic_full, cp_full = get_classification_metrics(y_test, y_proba_full, X_train_proc.shape[1] + 1, logloss_full)\n",
    "\n",
    "\n",
    "# Best Subset Selection\n",
    "start = time.time()\n",
    "efs = ExhaustiveFeatureSelector(LogisticRegression(max_iter=1000), min_features=1, max_features=10,\n",
    "                                scoring='accuracy', cv=5, n_jobs=-1)\n",
    "efs.fit(X_train_proc, y_train)\n",
    "best_subset_idx = list(efs.best_idx_)\n",
    "model_best = LogisticRegression(max_iter=1000).fit(X_train_proc[:, best_subset_idx], y_train)\n",
    "y_pred_best = model_best.predict(X_test_proc[:, best_subset_idx])\n",
    "y_proba_best = model_best.predict_proba(X_test_proc[:, best_subset_idx])[:, 1]\n",
    "time_best = time.time() - start\n",
    "aic_best, bic_best, cp_best = get_classification_metrics(y_test, y_proba_best, len(best_subset_idx) + 1, logloss_full)\n",
    "\n",
    "\n",
    "# Forward Selection\n",
    "start = time.time()\n",
    "sfs_forward = SequentialFeatureSelector(LogisticRegression(max_iter=1000), direction='forward', scoring='accuracy', cv=5, n_jobs=-1)\n",
    "sfs_forward.fit(X_train_proc, y_train)\n",
    "fmask = sfs_forward.get_support()\n",
    "model_fwd = LogisticRegression(max_iter=1000).fit(X_train_proc[:, fmask], y_train)\n",
    "y_proba_fwd = model_fwd.predict_proba(X_test_proc[:, fmask])[:, 1]\n",
    "time_fwd = time.time() - start\n",
    "aic_fwd, bic_fwd, cp_fwd = get_classification_metrics(y_test, y_proba_fwd, sum(fmask) + 1, logloss_full)\n",
    "\n",
    "\n",
    "# Backward Selection\n",
    "start = time.time()\n",
    "sfs_backward = SequentialFeatureSelector(LogisticRegression(max_iter=1000), direction='backward', scoring='accuracy', cv=5, n_jobs=-1)\n",
    "sfs_backward.fit(X_train_proc, y_train)\n",
    "bmask = sfs_backward.get_support()\n",
    "model_bwd = LogisticRegression(max_iter=1000).fit(X_train_proc[:, bmask], y_train)\n",
    "y_proba_bwd = model_bwd.predict_proba(X_test_proc[:, bmask])[:, 1]\n",
    "time_bwd = time.time() - start\n",
    "aic_bwd, bic_bwd, cp_bwd = get_classification_metrics(y_test, y_proba_bwd, sum(bmask) + 1, logloss_full)\n",
    "\n",
    "# Summary table\n",
    "metrics_df = pd.DataFrame([\n",
    "    {'Model': 'Full Logistic', 'AIC': aic_full, 'BIC': bic_full, 'Cp': cp_full, 'Time (s)': time_full},\n",
    "    {'Model': 'Best Subset', 'AIC': aic_best, 'BIC': bic_best, 'Cp': cp_best, 'Time (s)': time_best},\n",
    "    {'Model': 'Forward Selection', 'AIC': aic_fwd, 'BIC': bic_fwd, 'Cp': cp_fwd, 'Time (s)': time_fwd},\n",
    "    {'Model': 'Backward Selection', 'AIC': aic_bwd, 'BIC': bic_bwd, 'Cp': cp_bwd, 'Time (s)': time_bwd}\n",
    "])\n",
    "\n",
    "# Selected features\n",
    "features_df = pd.concat([\n",
    "    pd.DataFrame({'Feature': feature_names[best_subset_idx], 'Method': 'Best Subset'}),\n",
    "    pd.DataFrame({'Feature': feature_names[fmask], 'Method': 'Forward Selection'}),\n",
    "    pd.DataFrame({'Feature': feature_names[bmask], 'Method': 'Backward Selection'})\n",
    "])\n",
    "\n",
    "# Output results\n",
    "print(\"Logistic Regression Model Comparison:\")\n",
    "print(metrics_df)\n",
    "\n",
    "print(\"\\nSelected Features per Method:\")\n",
    "print(features_df)\n"
   ]
  },
  {
   "cell_type": "markdown",
   "metadata": {
    "id": "_G2ch18AgpaP"
   },
   "source": [
    "# Cross-validation"
   ]
  },
  {
   "cell_type": "markdown",
   "metadata": {
    "id": "6UAL1i_n2gYb"
   },
   "source": [
    "Let's fit a pipeline including the pre-preocessing, a forward feature selection and a linear regression model on ejection fraction.\n",
    "\n",
    "NB: the forward feature selection here requires to set the n_features_to_select parameter so as to be runned automatically. You can specifiy a number or \"auto\".\n",
    "\n",
    "\n",
    "If *auto*, the behaviour depends on the *tol* parameter:\n",
    "\n",
    "  -> if *tol* is not *None*, then features are selected while the score change does not exceed tol. The score depends on the *scoring* parameters (default R^2 for regression, accuracy for classification)\n",
    "\n",
    "  -> otherwise, half of the features are selected.\n",
    "\n",
    "If integer, the parameter is the absolute number of features to select.\n",
    "\n",
    "If float between 0 and 1, it is the fraction of features to select."
   ]
  },
  {
   "cell_type": "code",
   "execution_count": null,
   "metadata": {},
   "outputs": [],
   "source": [
    "# converting true and false to 1 and 0\n",
    "y = y.astype(int)"
   ]
  },
  {
   "cell_type": "code",
   "execution_count": null,
   "metadata": {
    "colab": {
     "base_uri": "https://localhost:8080/"
    },
    "executionInfo": {
     "elapsed": 10230,
     "status": "ok",
     "timestamp": 1751899373650,
     "user": {
      "displayName": "Emanuele Alberti",
      "userId": "01048477993232507094"
     },
     "user_tz": -120
    },
    "id": "A_e5SEFNgrn2",
    "outputId": "b30b4cac-2e39-48e9-aac9-2fa3fd3f52bf"
   },
   "outputs": [],
   "source": [
    "from sklearn.feature_selection import SequentialFeatureSelector\n",
    "from sklearn.linear_model import LinearRegression\n",
    "from sklearn.pipeline import Pipeline\n",
    "from sklearn.compose import ColumnTransformer\n",
    "from sklearn.preprocessing import StandardScaler, OneHotEncoder\n",
    "from sklearn.metrics import make_scorer, mean_squared_error, mean_absolute_error, r2_score\n",
    "from sklearn.model_selection import cross_val_score, KFold, LeaveOneOut\n",
    "\n",
    "numeric_vars = num_vars.copy()\n",
    "numeric_vars.remove('ejection_fraction')\n",
    "categorical_vars = cat_vars.copy()\n",
    "categorical_vars = [var for var in categorical_vars if var != 'DEATH_EVENT']\n",
    "\n",
    "# Preprocessing\n",
    "preprocessor = ColumnTransformer([\n",
    "    ('num', StandardScaler(), numeric_vars),\n",
    "    ('cat', OneHotEncoder(drop='first', sparse_output=False), categorical_vars)\n",
    "])\n",
    "\n",
    "# Base regressor\n",
    "regressor = LinearRegression()\n",
    "\n",
    "# Forward feature selection (after preprocessing)\n",
    "#selector = SequentialFeatureSelector(regressor, direction='forward', n_features_to_select='auto', tol=0.1, cv=5)\n",
    "\n",
    "# Full pipeline with feature selection\n",
    "pipeline = Pipeline([\n",
    "    ('preprocessor', preprocessor),\n",
    "    ('regressor', regressor)\n",
    "])\n",
    "\n",
    "# Define scoring metrics\n",
    "scoring = {\n",
    "    'MSE': make_scorer(mean_squared_error),\n",
    "    'MAE': make_scorer(mean_absolute_error),\n",
    "    'R2': make_scorer(r2_score)\n",
    "}\n",
    "\n",
    "# K-Fold Cross-Validation\n",
    "k = 5\n",
    "kf = KFold(n_splits=k, shuffle=True, random_state=123)\n",
    "\n",
    "print(f\"\\n {k}-Fold Cross-Validation:\")\n",
    "kfold_results = {}\n",
    "for metric, scorer in scoring.items():\n",
    "    scores = cross_val_score(pipeline, X, y, scoring=scorer, cv=kf)\n",
    "    kfold_results[metric] = (np.mean(scores), np.std(scores))\n",
    "    print(f\"{metric}: Mean = {scores.mean():.3f}, Std = {scores.std():.3f}\")"
   ]
  },
  {
   "cell_type": "markdown",
   "metadata": {
    "id": "X_TZn_U82Pal"
   },
   "source": [
    "What if we use Leave-One-Out Cross-Validation? Be aware that next cell can take about 6 minutes"
   ]
  },
  {
   "cell_type": "code",
   "execution_count": null,
   "metadata": {
    "id": "a7Bg8Eec1-Sw"
   },
   "outputs": [],
   "source": [
    "loo = LeaveOneOut()\n",
    "\n",
    "print(\"\\n Leave-One-Out (LOO) Cross-Validation:\")\n",
    "loo_results = {}\n",
    "for metric, scorer in scoring.items():\n",
    "    if metric == \"R2\":\n",
    "        print(f\"{metric}: skipped (not defined for LOO)\")\n",
    "        continue\n",
    "    scores = cross_val_score(pipeline, X, y, scoring=scorer, cv=loo)\n",
    "    loo_results[metric] = (np.mean(scores), np.std(scores))\n",
    "    print(f\"{metric}: Mean = {scores.mean():.3f}, Std = {scores.std():.3f}\")"
   ]
  },
  {
   "cell_type": "markdown",
   "metadata": {
    "id": "v7iUflc6Osxy"
   },
   "source": [
    "# Penalized Linear Regression"
   ]
  },
  {
   "cell_type": "markdown",
   "metadata": {
    "id": "fkBxrcmSWdFA"
   },
   "source": [
    "Ridge Regression:\n",
    "\n",
    "$$\n",
    "\\hat{\\beta} = \\underset{\\beta}{\\arg \\min} \\left( \\sum_{i=1}^n (y_i - X_i \\beta)^2 + \\alpha \\sum_{j=1}^p \\beta_j^2 \\right)\n",
    "$$\n",
    "\n",
    "Lasso Regression:\n",
    "$$\n",
    "\\hat{\\beta} = \\underset{\\beta}{\\arg \\min} \\left( \\sum_{i=1}^n (y_i - X_i \\beta)^2 + \\alpha \\sum_{j=1}^p |\\beta_j| \\right)\n",
    "$$"
   ]
  },
  {
   "cell_type": "markdown",
   "metadata": {
    "id": "3VTdHQJsXXkh"
   },
   "source": [
    "## Only Ridge"
   ]
  },
  {
   "cell_type": "code",
   "execution_count": null,
   "metadata": {
    "id": "eL-D31yhWMKd"
   },
   "outputs": [],
   "source": [
    "#qui non trovo i parametri migliori ma semplicemente li valuto\n",
    "\n",
    "import pandas as pd\n",
    "import numpy as np\n",
    "import matplotlib.pyplot as plt\n",
    "\n",
    "from sklearn.pipeline import Pipeline\n",
    "from sklearn.compose import ColumnTransformer\n",
    "from sklearn.preprocessing import StandardScaler, OneHotEncoder\n",
    "from sklearn.linear_model import LinearRegression, Ridge\n",
    "from sklearn.metrics import r2_score, mean_squared_error, mean_absolute_error\n",
    "from sklearn.model_selection import cross_validate\n"
   ]
  },
  {
   "cell_type": "code",
   "execution_count": null,
   "metadata": {
    "id": "c_5TS8ecXPcO"
   },
   "outputs": [],
   "source": [
    "#qui non trovo i parametri migliori ma semplicemente li valuto\n",
    "\n",
    "import pandas as pd\n",
    "import numpy as np\n",
    "import matplotlib.pyplot as plt\n",
    "\n",
    "from sklearn.pipeline import Pipeline\n",
    "from sklearn.compose import ColumnTransformer\n",
    "from sklearn.preprocessing import StandardScaler, OneHotEncoder\n",
    "from sklearn.linear_model import LinearRegression, Ridge\n",
    "from sklearn.metrics import r2_score, mean_squared_error, mean_absolute_error\n",
    "from sklearn.model_selection import cross_validate\n",
    "\n",
    "# Define X and y\n",
    "X = df[['age', 'anaemia', 'creatinine_phosphokinase', 'diabetes', 'high_blood_pressure',\n",
    "        'platelets', 'serum_creatinine', 'serum_sodium', 'sex', 'smoking', 'bmi', 'time',\n",
    "        'DEATH_EVENT']]\n",
    "y = df['ejection_fraction']\n",
    "\n",
    "# Feature groups\n",
    "numeric_vars = num_vars.copy()\n",
    "numeric_vars.remove('ejection_fraction')\n",
    "categorical_vars = cat_vars.copy()\n",
    "\n",
    "# Preprocessor\n",
    "preprocessor = ColumnTransformer([\n",
    "    ('num', StandardScaler(), numeric_vars),\n",
    "    ('cat', OneHotEncoder(drop='first', sparse_output=False), categorical_vars)\n",
    "])\n",
    "\n",
    "# Pipelines\n",
    "ols_pipeline = Pipeline([\n",
    "    ('preprocessor', preprocessor),\n",
    "    ('regressor', LinearRegression())\n",
    "])\n",
    "\n",
    "ridge_pipeline = Pipeline([\n",
    "    ('preprocessor', preprocessor),\n",
    "    ('regressor', Ridge(alpha=100))  # Adjust alpha as desired\n",
    "])\n",
    "\n",
    "# Fit models (for coefficient comparison)\n",
    "ols_pipeline.fit(X, y)\n",
    "ridge_pipeline.fit(X, y)\n",
    "\n",
    "# Predictions on full data (just for coefficients, not performance)\n",
    "y_pred_ols = ols_pipeline.predict(X)\n",
    "y_pred_ridge = ridge_pipeline.predict(X)\n",
    "\n",
    "# Feature names\n",
    "feature_names = ridge_pipeline.named_steps['preprocessor'].get_feature_names_out()\n",
    "\n",
    "# Coefficients\n",
    "ols_coefs = ols_pipeline.named_steps['regressor'].coef_\n",
    "ridge_coefs = ridge_pipeline.named_steps['regressor'].coef_\n",
    "\n",
    "# Intercepts\n",
    "ols_intercept = ols_pipeline.named_steps['regressor'].intercept_\n",
    "ridge_intercept = ridge_pipeline.named_steps['regressor'].intercept_\n",
    "\n",
    "# Combine coefficients\n",
    "coef_df = pd.DataFrame({\n",
    "    'Feature': ['Intercept'] + list(feature_names),\n",
    "    'OLS': [ols_intercept] + list(ols_coefs),\n",
    "    'Ridge': [ridge_intercept] + list(ridge_coefs)\n",
    "})\n",
    "\n",
    "# --- Cross-Validation ---\n",
    "\n",
    "# Scoring metrics\n",
    "scoring = {\n",
    "    'r2': 'r2',\n",
    "    'neg_mse': 'neg_mean_squared_error',\n",
    "    'neg_mae': 'neg_mean_absolute_error'\n",
    "}\n",
    "\n",
    "# Perform CV\n",
    "cv_results_ols = cross_validate(ols_pipeline, X, y, cv=5, scoring=scoring)\n",
    "cv_results_ridge = cross_validate(ridge_pipeline, X, y, cv=5, scoring=scoring)\n",
    "\n",
    "def summarize_cv(cv_results, model_name):\n",
    "    r2 = np.mean(cv_results['test_r2'])\n",
    "    mse = -np.mean(cv_results['test_neg_mse'])\n",
    "    mae = -np.mean(cv_results['test_neg_mae'])\n",
    "    n, p = X.shape\n",
    "    adj_r2 = 1 - (1 - r2) * (n - 1) / (n - p - 1)\n",
    "    return {'Model': model_name, 'Adj R^2': adj_r2, 'MSE': mse, 'MAE': mae}\n",
    "\n",
    "metrics_cv_df = pd.DataFrame([\n",
    "    summarize_cv(cv_results_ols, 'OLS'),\n",
    "    summarize_cv(cv_results_ridge, 'Ridge')\n",
    "])\n",
    "\n",
    "print(\"Coefficient Comparison:\")\n",
    "print(coef_df)\n",
    "\n",
    "print(\"\\nCross-Validation Performance Metrics:\")\n",
    "print(metrics_cv_df)"
   ]
  },
  {
   "cell_type": "code",
   "execution_count": null,
   "metadata": {
    "colab": {
     "base_uri": "https://localhost:8080/"
    },
    "executionInfo": {
     "elapsed": 243,
     "status": "ok",
     "timestamp": 1751899545507,
     "user": {
      "displayName": "Emanuele Alberti",
      "userId": "01048477993232507094"
     },
     "user_tz": -120
    },
    "id": "azznuzcXVDjC",
    "outputId": "45b130c2-9cad-4b82-ed05-98ac3bdcf05b"
   },
   "outputs": [],
   "source": [
    "lasso_pipeline = Pipeline([\n",
    "    ('preprocessor', preprocessor),\n",
    "    ('regressor', Lasso(alpha=10))  # Adjust alpha as desired\n",
    "])\n",
    "\n",
    "cv_results_lasso = cross_validate(lasso_pipeline, X, y, cv=5, scoring=scoring)\n",
    "cv_results_lasso['test_r2']"
   ]
  },
  {
   "cell_type": "markdown",
   "metadata": {
    "id": "JQPUpyZSYAtJ"
   },
   "source": [
    "## Ridge and Lasso"
   ]
  },
  {
   "cell_type": "code",
   "execution_count": null,
   "metadata": {
    "colab": {
     "base_uri": "https://localhost:8080/"
    },
    "executionInfo": {
     "elapsed": 353,
     "status": "ok",
     "timestamp": 1751900142227,
     "user": {
      "displayName": "Emanuele Alberti",
      "userId": "01048477993232507094"
     },
     "user_tz": -120
    },
    "id": "oJuzJYRE46UQ",
    "outputId": "ffd2cf0c-cc2a-41cb-8354-9950063f0400"
   },
   "outputs": [],
   "source": [
    "# TODO: compare Ridge and OLS with Lasso Regression\n",
    "import pandas as pd\n",
    "import numpy as np\n",
    "import matplotlib.pyplot as plt\n",
    "\n",
    "from sklearn.pipeline import Pipeline\n",
    "from sklearn.compose import ColumnTransformer\n",
    "from sklearn.preprocessing import StandardScaler, OneHotEncoder\n",
    "from sklearn.linear_model import LinearRegression, Ridge, Lasso\n",
    "from sklearn.metrics import r2_score, mean_squared_error, mean_absolute_error\n",
    "from sklearn.model_selection import cross_validate\n",
    "\n",
    "# Define X and y\n",
    "X = df[['age', 'anaemia', 'creatinine_phosphokinase', 'diabetes', 'high_blood_pressure',\n",
    "        'platelets', 'serum_creatinine', 'serum_sodium', 'sex', 'smoking', 'bmi', 'time',\n",
    "        'DEATH_EVENT']]\n",
    "y = df['ejection_fraction']\n",
    "\n",
    "# Feature groups\n",
    "numeric_vars = num_vars.copy()\n",
    "numeric_vars.remove('ejection_fraction')\n",
    "categorical_vars = cat_vars.copy()\n",
    "\n",
    "# Preprocessor\n",
    "preprocessor = ColumnTransformer([\n",
    "    ('num', StandardScaler(), numeric_vars),\n",
    "    ('cat', OneHotEncoder(drop='first', sparse_output=False), categorical_vars)\n",
    "])\n",
    "\n",
    "# Pipelines\n",
    "ols_pipeline = Pipeline([\n",
    "    ('preprocessor', preprocessor),\n",
    "    ('regressor', LinearRegression())\n",
    "])\n",
    "\n",
    "ridge_pipeline = Pipeline([\n",
    "    ('preprocessor', preprocessor),\n",
    "    ('regressor', Ridge(alpha=10))  # Tune alpha if needed\n",
    "])\n",
    "\n",
    "lasso_pipeline = Pipeline([\n",
    "    ('preprocessor', preprocessor),\n",
    "    ('regressor', Lasso(alpha=1.0))  # Tune alpha if needed\n",
    "])\n",
    "\n",
    "# Fit models for coefficient comparison\n",
    "ols_pipeline.fit(X, y)\n",
    "ridge_pipeline.fit(X, y)\n",
    "lasso_pipeline.fit(X, y)\n",
    "\n",
    "# Predictions (only for coefficient comparison, not performance)\n",
    "y_pred_ols = ols_pipeline.predict(X)\n",
    "y_pred_ridge = ridge_pipeline.predict(X)\n",
    "y_pred_lasso = lasso_pipeline.predict(X)\n",
    "\n",
    "# Feature names\n",
    "feature_names = ridge_pipeline.named_steps['preprocessor'].get_feature_names_out()\n",
    "\n",
    "# Coefficients\n",
    "ols_coefs = ols_pipeline.named_steps['regressor'].coef_\n",
    "ridge_coefs = ridge_pipeline.named_steps['regressor'].coef_\n",
    "lasso_coefs = lasso_pipeline.named_steps['regressor'].coef_\n",
    "\n",
    "# Intercepts\n",
    "ols_intercept = ols_pipeline.named_steps['regressor'].intercept_\n",
    "ridge_intercept = ridge_pipeline.named_steps['regressor'].intercept_\n",
    "lasso_intercept = lasso_pipeline.named_steps['regressor'].intercept_\n",
    "\n",
    "# Combine coefficients\n",
    "coef_df = pd.DataFrame({\n",
    "    'Feature': ['Intercept'] + list(feature_names),\n",
    "    'OLS': [ols_intercept] + list(ols_coefs),\n",
    "    'Ridge': [ridge_intercept] + list(ridge_coefs),\n",
    "    'Lasso': [lasso_intercept] + list(lasso_coefs)\n",
    "})\n",
    "\n",
    "# --- Cross-Validation ---\n",
    "\n",
    "# Scoring metrics\n",
    "scoring = {\n",
    "    'r2': 'r2',\n",
    "    'neg_mse': 'neg_mean_squared_error',\n",
    "    'neg_mae': 'neg_mean_absolute_error'\n",
    "}\n",
    "\n",
    "# Perform CV\n",
    "cv_results_ols = cross_validate(ols_pipeline, X, y, cv=5, scoring=scoring)\n",
    "cv_results_ridge = cross_validate(ridge_pipeline, X, y, cv=5, scoring=scoring)\n",
    "cv_results_lasso = cross_validate(lasso_pipeline, X, y, cv=5, scoring=scoring)\n",
    "\n",
    "# Summary function\n",
    "def summarize_cv(cv_results, model_name):\n",
    "    r2 = np.mean(cv_results['test_r2'])\n",
    "    mse = -np.mean(cv_results['test_neg_mse'])\n",
    "    mae = -np.mean(cv_results['test_neg_mae'])\n",
    "    n, p = X.shape\n",
    "    adj_r2 = 1 - (1 - r2) * (n - 1) / (n - p - 1)\n",
    "    return {'Model': model_name, 'Adj R^2': adj_r2, 'MSE': mse, 'MAE': mae}\n",
    "\n",
    "# Compile metrics\n",
    "metrics_cv_df = pd.DataFrame([\n",
    "    summarize_cv(cv_results_ols, 'OLS'),\n",
    "    summarize_cv(cv_results_ridge, 'Ridge'),\n",
    "    summarize_cv(cv_results_lasso, 'Lasso')\n",
    "])\n",
    "\n",
    "# --- Display Results ---\n",
    "\n",
    "print(\"Coefficient Comparison:\")\n",
    "print(coef_df)\n",
    "\n",
    "print(\"\\nCross-Validation Performance Metrics:\")\n",
    "print(metrics_cv_df)\n"
   ]
  },
  {
   "cell_type": "markdown",
   "metadata": {
    "id": "KZ0lGUhPY81G"
   },
   "source": [
    "## CV for alpha"
   ]
  },
  {
   "cell_type": "code",
   "execution_count": null,
   "metadata": {
    "id": "Lg6JrcHlYpgK"
   },
   "outputs": [],
   "source": [
    "from sklearn.pipeline import Pipeline\n",
    "from sklearn.compose import ColumnTransformer\n",
    "from sklearn.preprocessing import StandardScaler, OneHotEncoder\n",
    "from sklearn.linear_model import LinearRegression, Ridge, Lasso\n",
    "from sklearn.model_selection import train_test_split, GridSearchCV\n",
    "from sklearn.metrics import r2_score, mean_squared_error, mean_absolute_error\n",
    "import pandas as pd\n",
    "import numpy as np\n",
    "import matplotlib.pyplot as plt\n",
    "\n",
    "#method to tune the hyperparameter alpha, it can be used as the inner cycle in a CV\n",
    "\n",
    "# Data and features\n",
    "X = df[['age', 'anaemia', 'creatinine_phosphokinase', 'diabetes', 'high_blood_pressure',\n",
    "        'platelets', 'serum_creatinine', 'serum_sodium', 'sex', 'smoking', 'bmi', 'time',\n",
    "        'DEATH_EVENT']]\n",
    "y = df['ejection_fraction']\n",
    "\n",
    "# Feature groups\n",
    "numeric_vars = num_vars.copy()\n",
    "numeric_vars.remove('ejection_fraction')\n",
    "categorical_vars = cat_vars.copy()\n",
    "\n",
    "# Train/Test Split\n",
    "X_train, X_test, y_train, y_test = train_test_split(X, y, test_size=0.2, random_state=123)\n",
    "\n",
    "# Preprocessing\n",
    "preprocessor = ColumnTransformer([\n",
    "    ('num', StandardScaler(), numeric_vars),\n",
    "    ('cat', OneHotEncoder(drop='first', sparse_output=False), categorical_vars)\n",
    "])\n",
    "\n",
    "# Pipelines\n",
    "ols_pipeline = Pipeline([\n",
    "    ('preprocessor', preprocessor),\n",
    "    ('regressor', LinearRegression())\n",
    "])\n",
    "\n",
    "ridge_pipeline = Pipeline([\n",
    "    ('preprocessor', preprocessor),\n",
    "    ('regressor', Ridge())\n",
    "])\n",
    "ridge_params = {'regressor__alpha': np.logspace(-3, 3, 50)}\n",
    "ridge_cv = GridSearchCV(ridge_pipeline, ridge_params, cv=5, scoring='r2') #r2 is already the default scoring\n",
    "\n",
    "lasso_pipeline = Pipeline([\n",
    "    ('preprocessor', preprocessor),\n",
    "    ('regressor', Lasso(max_iter=10000))\n",
    "])\n",
    "lasso_params = {'regressor__alpha': np.logspace(-3, 3, 50)}\n",
    "lasso_cv = GridSearchCV(lasso_pipeline, lasso_params, cv=5)\n",
    "\n",
    "# Fit models\n",
    "ols_pipeline.fit(X_train, y_train)\n",
    "ridge_cv.fit(X_train, y_train)\n",
    "lasso_cv.fit(X_train, y_train)\n",
    "\n",
    "# Best alphas\n",
    "print(\"Best alpha for Ridge:\", ridge_cv.best_params_['regressor__alpha'])\n",
    "print(\"Best alpha for Lasso:\", lasso_cv.best_params_['regressor__alpha'])\n",
    "\n",
    "# Predictions\n",
    "y_pred_ols = ols_pipeline.predict(X_test)\n",
    "y_pred_ridge = ridge_cv.predict(X_test)\n",
    "y_pred_lasso = lasso_cv.predict(X_test)\n",
    "\n",
    "# Evaluation function\n",
    "def evaluate(y_true, y_pred, model_name):\n",
    "    r2 = r2_score(y_true, y_pred)\n",
    "    n = len(y_true)\n",
    "    p = len(preprocessor.fit(X_train).get_feature_names_out())\n",
    "    adj_r2 = 1 - (1 - r2) * (n - 1) / (n - p - 1)\n",
    "    return {\n",
    "        'Model': model_name,\n",
    "        'Adj R^2': adj_r2,\n",
    "        'MSE': mean_squared_error(y_true, y_pred),\n",
    "        'MAE': mean_absolute_error(y_true, y_pred)\n",
    "    }\n",
    "\n",
    "# Metrics comparison\n",
    "metrics_df = pd.DataFrame([\n",
    "    evaluate(y_test, y_pred_ols, 'OLS'),\n",
    "    evaluate(y_test, y_pred_ridge, 'Ridge'),\n",
    "    evaluate(y_test, y_pred_lasso, 'Lasso')\n",
    "])\n",
    "\n",
    "# Coefficient comparison\n",
    "feature_names = preprocessor.get_feature_names_out()\n",
    "coef_df = pd.DataFrame({\n",
    "    'Feature': ['Intercept'] + list(feature_names),\n",
    "    'OLS': [ols_pipeline.named_steps['regressor'].intercept_] + list(ols_pipeline.named_steps['regressor'].coef_),\n",
    "    'Ridge': [ridge_cv.best_estimator_.named_steps['regressor'].intercept_] + list(ridge_cv.best_estimator_.named_steps['regressor'].coef_),\n",
    "    'Lasso': [lasso_cv.best_estimator_.named_steps['regressor'].intercept_] + list(lasso_cv.best_estimator_.named_steps['regressor'].coef_)\n",
    "})\n",
    "\n",
    "# Show results\n",
    "print(\"\\nModel Performance Comparison:\")\n",
    "print(metrics_df)\n",
    "\n",
    "print(\"\\nCoefficient Comparison:\")\n",
    "print(coef_df)\n"
   ]
  },
  {
   "cell_type": "markdown",
   "metadata": {
    "id": "bCQGIrcliDox"
   },
   "source": [
    "### Nested CV"
   ]
  },
  {
   "cell_type": "markdown",
   "metadata": {
    "id": "yyyk3Kfo5wRD"
   },
   "source": [
    "![image.png](data:image/png;base64,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)"
   ]
  },
  {
   "cell_type": "code",
   "execution_count": null,
   "metadata": {
    "id": "-1PosKdDZFKt"
   },
   "outputs": [],
   "source": [
    "from sklearn.model_selection import cross_validate\n",
    "\n",
    "# Preprocessing\n",
    "preprocessor = ColumnTransformer([\n",
    "    ('num', StandardScaler(), [col for col in num_vars if col != 'ejection_fraction']),\n",
    "    ('cat', OneHotEncoder(drop='first', sparse_output=False), cat_vars)\n",
    "])\n",
    "\n",
    "# Define model search spaces\n",
    "ridge_pipeline = Pipeline([\n",
    "    ('preprocessor', preprocessor),\n",
    "    ('regressor', Ridge())\n",
    "])\n",
    "\n",
    "ridge_params = {'regressor__alpha': np.logspace(-3, 3, 50)}\n",
    "ridge_nested = GridSearchCV(ridge_pipeline, ridge_params, cv=5)\n",
    "\n",
    "lasso_pipeline = Pipeline([\n",
    "    ('preprocessor', preprocessor),\n",
    "    ('regressor', Lasso(max_iter=10000))\n",
    "])\n",
    "lasso_params = {'regressor__alpha': np.logspace(-3, 3, 50)}\n",
    "lasso_nested = GridSearchCV(lasso_pipeline, lasso_params, cv=5)\n",
    "\n",
    "# Outer CV for nested evaluation\n",
    "outer_cv = KFold(n_splits=5, shuffle=True, random_state=42)\n",
    "\n",
    "# Evaluate nested Ridge\n",
    "ridge_scores = cross_validate(ridge_nested, X, y, scoring=(\n",
    "    'neg_mean_squared_error', 'neg_mean_absolute_error', 'r2'), cv=outer_cv)\n",
    "\n",
    "# Evaluate nested Lasso\n",
    "lasso_scores = cross_validate(lasso_nested, X, y, scoring=(\n",
    "    'neg_mean_squared_error', 'neg_mean_absolute_error', 'r2'), cv=outer_cv)\n",
    "\n",
    "# Function to format and print results\n",
    "def summarize_nested_cv(name, scores):\n",
    "    print(f\"\\n {name} Nested Cross-Validation Results (5-Fold):\")\n",
    "    mse = -scores['test_neg_mean_squared_error']\n",
    "    mae = -scores['test_neg_mean_absolute_error']\n",
    "    r2 = scores['test_r2']\n",
    "\n",
    "    print(f\"  ▸ MSE   : Mean = {mse.mean():.3f}, Std = {mse.std():.3f}\")\n",
    "    print(f\"  ▸ MAE   : Mean = {mae.mean():.3f}, Std = {mae.std():.3f}\")\n",
    "    print(f\"  ▸ R²    : Mean = {r2.mean():.3f}, Std = {r2.std():.3f}\")\n",
    "\n",
    "# Print summaries\n",
    "summarize_nested_cv(\"Ridge\", ridge_scores)\n",
    "summarize_nested_cv(\"Lasso\", lasso_scores)\n"
   ]
  },
  {
   "cell_type": "markdown",
   "metadata": {
    "id": "e2EtZ30vWJ09"
   },
   "source": [
    "Then need to re-tune on the whole training set to get the final best value of alpha"
   ]
  },
  {
   "cell_type": "markdown",
   "metadata": {
    "id": "E6LmIGhDpvVi"
   },
   "source": [
    "# Penalized Logistic Regression"
   ]
  },
  {
   "cell_type": "code",
   "execution_count": null,
   "metadata": {
    "id": "NRy4wyKMpxSO"
   },
   "outputs": [],
   "source": [
    "from sklearn.linear_model import LogisticRegression\n",
    "from sklearn.model_selection import train_test_split, GridSearchCV\n",
    "from sklearn.metrics import accuracy_score, precision_score, recall_score, f1_score, roc_auc_score, classification_report\n",
    "\n",
    "# Features and target\n",
    "X = df[['age', 'anaemia', 'creatinine_phosphokinase', 'diabetes', 'high_blood_pressure',\n",
    "        'platelets', 'serum_creatinine', 'serum_sodium', 'sex', 'smoking', 'bmi', 'time', 'ejection_fraction']]\n",
    "y = df['DEATH_EVENT']\n",
    "\n",
    "categorical_vars = cat_vars.copy()\n",
    "categorical_vars.remove('DEATH_EVENT')\n",
    "\n",
    "# Train/Test Split\n",
    "X_train, X_test, y_train, y_test = train_test_split(X, y, test_size=0.2, random_state=123)\n",
    "\n",
    "# Preprocessing\n",
    "preprocessor = ColumnTransformer([\n",
    "    ('num', StandardScaler(), num_vars),\n",
    "    ('cat', OneHotEncoder(drop='first', sparse_output=False), categorical_vars)\n",
    "])\n",
    "\n",
    "# Logistic Regression without regularization (penalty='none')\n",
    "logreg_none_pipeline = Pipeline([\n",
    "    ('preprocessor', preprocessor),\n",
    "    ('classifier', LogisticRegression(penalty=None, solver='lbfgs', max_iter=1000))\n",
    "])\n",
    "\n",
    "\n",
    "# Logistic Regression (L2)\n",
    "logreg_l2_pipeline = Pipeline([\n",
    "    ('preprocessor', preprocessor),\n",
    "    ('classifier', LogisticRegression(penalty='l2', solver='liblinear', max_iter=1000))\n",
    "])\n",
    "\n",
    "logreg_l2_params = {'classifier__C': np.logspace(-3, 3, 50)}\n",
    "logreg_l2_cv = GridSearchCV(logreg_l2_pipeline, logreg_l2_params, cv=5, scoring='roc_auc')\n",
    "\n",
    "# Logistic Regression (L1)\n",
    "logreg_l1_pipeline = Pipeline([\n",
    "    ('preprocessor', preprocessor),\n",
    "    ('classifier', LogisticRegression(penalty='l1', solver='liblinear', max_iter=1000))\n",
    "])\n",
    "\n",
    "logreg_l1_params = {'classifier__C': np.logspace(-3, 3, 50)}\n",
    "logreg_l1_cv = GridSearchCV(logreg_l1_pipeline, logreg_l1_params, cv=5, scoring='roc_auc')\n",
    "\n",
    "# Fit models\n",
    "logreg_l2_cv.fit(X_train, y_train)\n",
    "logreg_l1_cv.fit(X_train, y_train)\n",
    "logreg_none_pipeline.fit(X_train, y_train)\n",
    "\n",
    "print(\"Best C for Logistic Regression (L2):\", logreg_l2_cv.best_params_['classifier__C'])\n",
    "print(\"Best C for Logistic Regression (L1):\", logreg_l1_cv.best_params_['classifier__C'])\n",
    "\n",
    "# Predictions\n",
    "y_pred_none = logreg_none_pipeline.predict(X_test)\n",
    "y_proba_none = logreg_none_pipeline.predict_proba(X_test)[:, 1]\n",
    "\n",
    "y_pred_l2 = logreg_l2_cv.predict(X_test)\n",
    "y_proba_l2 = logreg_l2_cv.predict_proba(X_test)[:, 1]\n",
    "\n",
    "y_pred_l1 = logreg_l1_cv.predict(X_test)\n",
    "y_proba_l1 = logreg_l1_cv.predict_proba(X_test)[:, 1]\n",
    "\n",
    "# Evaluation function\n",
    "def evaluate_classification(y_true, y_pred, y_proba, model_name):\n",
    "    return {\n",
    "        'Model': model_name,\n",
    "        'Accuracy': accuracy_score(y_true, y_pred),\n",
    "        'Precision': precision_score(y_true, y_pred),\n",
    "        'Recall': recall_score(y_true, y_pred),\n",
    "        'F1 Score': f1_score(y_true, y_pred),\n",
    "        'ROC AUC': roc_auc_score(y_true, y_proba)\n",
    "    }\n",
    "\n",
    "# Compare metrics\n",
    "metrics_classif_df = pd.DataFrame([\n",
    "    evaluate_classification(y_test, y_pred_none, y_proba_none, 'LogReg None'),\n",
    "    evaluate_classification(y_test, y_pred_l2, y_proba_l2, 'LogReg L2'),\n",
    "    evaluate_classification(y_test, y_pred_l1, y_proba_l1, 'LogReg L1')\n",
    "])\n",
    "\n",
    "print(\"\\nClassification Performance:\")\n",
    "print(metrics_classif_df)\n",
    "\n",
    "# Coefficient Comparison\n",
    "feature_names = logreg_l2_cv.best_estimator_.named_steps['preprocessor'].get_feature_names_out()\n",
    "\n",
    "coef_df = pd.DataFrame({\n",
    "    'Feature': ['Intercept'] + list(feature_names),\n",
    "    'No Reg': [logreg_none_pipeline.named_steps['classifier'].intercept_[0]] +\n",
    "            list(logreg_none_pipeline.named_steps['classifier'].coef_[0]),\n",
    "    'L2': [logreg_l2_cv.best_estimator_.named_steps['classifier'].intercept_[0]] +\n",
    "          list(logreg_l2_cv.best_estimator_.named_steps['classifier'].coef_[0]),\n",
    "    'L1': [logreg_l1_cv.best_estimator_.named_steps['classifier'].intercept_[0]] +\n",
    "          list(logreg_l1_cv.best_estimator_.named_steps['classifier'].coef_[0])\n",
    "})\n",
    "\n",
    "print(\"\\nCoefficient Comparison:\")\n",
    "print(coef_df)"
   ]
  },
  {
   "cell_type": "markdown",
   "metadata": {
    "id": "_A171r4qua0O"
   },
   "source": [
    "# CV for KNN"
   ]
  },
  {
   "cell_type": "code",
   "execution_count": null,
   "metadata": {
    "id": "HPEVgBlCiRxC"
   },
   "outputs": [],
   "source": [
    "import numpy as np\n",
    "import matplotlib.pyplot as plt\n",
    "from sklearn.datasets import load_iris\n",
    "from sklearn.neighbors import KNeighborsClassifier\n",
    "from sklearn.model_selection import cross_val_score, StratifiedKFold\n",
    "\n",
    "# Load data\n",
    "iris = load_iris()\n",
    "X, y = iris.data, iris.target\n",
    "\n",
    "# Set up stratified CV\n",
    "cv = StratifiedKFold(n_splits=5, shuffle=True, random_state=42) # keeps y distribution constant among folds\n",
    "\n",
    "# Evaluate range of k\n",
    "k_range = range(1, 31)\n",
    "scores = [cross_val_score(KNeighborsClassifier(n_neighbors=k), X, y, cv=cv, scoring='f1_macro').mean()\n",
    "          for k in k_range]\n",
    "\n",
    "# Find best k\n",
    "best_score_idx = np.argmax(scores)\n",
    "best_k = k_range[best_score_idx]\n",
    "print(f\"Best k: {best_k} with macro-f1: {scores[best_score_idx]:.4f}\")\n",
    "\n",
    "# Train final model\n",
    "knn = KNeighborsClassifier(n_neighbors=best_k)\n",
    "knn.fit(X, y)\n",
    "\n",
    "# Plot results\n",
    "plt.plot(k_range, scores)\n",
    "plt.xlabel('Value of K for KNN')\n",
    "plt.ylabel('Cross-Validated Macro-F1')\n",
    "plt.title('KNN Hyperparameter Tuning')\n",
    "plt.grid(True)\n",
    "plt.show()\n"
   ]
  }
 ],
 "metadata": {
  "colab": {
   "provenance": [
    {
     "file_id": "1LJFQoxCw3oS5tMDaGXuLn0HD_0VCfhT-",
     "timestamp": 1749282545616
    }
   ],
   "toc_visible": true
  },
  "kernelspec": {
   "display_name": ".venv",
   "language": "python",
   "name": "python3"
  },
  "language_info": {
   "codemirror_mode": {
    "name": "ipython",
    "version": 3
   },
   "file_extension": ".py",
   "mimetype": "text/x-python",
   "name": "python",
   "nbconvert_exporter": "python",
   "pygments_lexer": "ipython3",
   "version": "3.13.5"
  }
 },
 "nbformat": 4,
 "nbformat_minor": 0
}
