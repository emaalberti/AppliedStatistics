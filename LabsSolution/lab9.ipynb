{
 "cells": [
  {
   "cell_type": "markdown",
   "metadata": {
    "id": "sns-wuTyDFAs"
   },
   "source": [
    "**<font size=\"5\">Applied Statistics</font>**\n",
    "\n",
    "<font size=\"3\">MSc in High Performance Computing Engineering, Computer Science and Engineering, Physics Engineering - A.Y. 2024-2025</font>\n",
    "\n",
    "Prof. Mario Beraha - Dott. Vittorio Torri\n",
    "\n",
    "---\n",
    "\n",
    "<font size=\"4\">**Lab 9 - Classification and Regression Trees, Random Forest, Boosting**</font>"
   ]
  },
  {
   "cell_type": "markdown",
   "metadata": {
    "id": "ciEBGMI5alog"
   },
   "source": [
    "# Libraries"
   ]
  },
  {
   "cell_type": "code",
   "execution_count": null,
   "metadata": {
    "executionInfo": {
     "elapsed": 6,
     "status": "ok",
     "timestamp": 1749994639473,
     "user": {
      "displayName": "Emanuele Alberti",
      "userId": "01048477993232507094"
     },
     "user_tz": -120
    },
    "id": "V4tZOCOQanB9"
   },
   "outputs": [],
   "source": [
    "import pandas as pd\n",
    "pd.options.display.float_format = '{:.2f}'.format"
   ]
  },
  {
   "cell_type": "code",
   "execution_count": null,
   "metadata": {
    "executionInfo": {
     "elapsed": 1,
     "status": "ok",
     "timestamp": 1749994639475,
     "user": {
      "displayName": "Emanuele Alberti",
      "userId": "01048477993232507094"
     },
     "user_tz": -120
    },
    "id": "0qNen7Ljcx3t"
   },
   "outputs": [],
   "source": [
    "from sklearn.pipeline import Pipeline\n",
    "from sklearn.preprocessing import StandardScaler\n",
    "from sklearn.model_selection import train_test_split, GridSearchCV\n",
    "from sklearn.metrics import mean_squared_error\n",
    "import numpy as np\n",
    "import matplotlib.pyplot as plt\n",
    "from sklearn.compose import ColumnTransformer\n",
    "from sklearn.preprocessing import StandardScaler, OneHotEncoder\n",
    "from sklearn.metrics import make_scorer, mean_squared_error, mean_absolute_error, r2_score, classification_report"
   ]
  },
  {
   "cell_type": "code",
   "execution_count": null,
   "metadata": {
    "executionInfo": {
     "elapsed": 4,
     "status": "ok",
     "timestamp": 1749994639487,
     "user": {
      "displayName": "Emanuele Alberti",
      "userId": "01048477993232507094"
     },
     "user_tz": -120
    },
    "id": "1_MvRLcN_No-"
   },
   "outputs": [],
   "source": [
    "import statsmodels.api as sm"
   ]
  },
  {
   "cell_type": "code",
   "execution_count": null,
   "metadata": {
    "executionInfo": {
     "elapsed": 7,
     "status": "ok",
     "timestamp": 1749994639500,
     "user": {
      "displayName": "Emanuele Alberti",
      "userId": "01048477993232507094"
     },
     "user_tz": -120
    },
    "id": "WcaQ5G3rJ5JR"
   },
   "outputs": [],
   "source": [
    "np.random.seed(1234)"
   ]
  },
  {
   "cell_type": "code",
   "execution_count": null,
   "metadata": {
    "executionInfo": {
     "elapsed": 6,
     "status": "ok",
     "timestamp": 1749994639507,
     "user": {
      "displayName": "Emanuele Alberti",
      "userId": "01048477993232507094"
     },
     "user_tz": -120
    },
    "id": "gEbCEGDUUmxr"
   },
   "outputs": [],
   "source": [
    "import scipy.stats as stats"
   ]
  },
  {
   "cell_type": "markdown",
   "metadata": {
    "id": "6vWzbwC_pr-7"
   },
   "source": [
    "# Load Dataset"
   ]
  },
  {
   "cell_type": "code",
   "execution_count": null,
   "metadata": {
    "executionInfo": {
     "elapsed": 3,
     "status": "ok",
     "timestamp": 1749994640725,
     "user": {
      "displayName": "Emanuele Alberti",
      "userId": "01048477993232507094"
     },
     "user_tz": -120
    },
    "id": "96NhBI6JW2oq"
   },
   "outputs": [],
   "source": [
    "df = pd.read_csv('../DatasetsLabs/heart_failure_clinical_records_dataset_smhd.csv')"
   ]
  },
  {
   "cell_type": "code",
   "execution_count": null,
   "metadata": {
    "executionInfo": {
     "elapsed": 3,
     "status": "ok",
     "timestamp": 1749994640789,
     "user": {
      "displayName": "Emanuele Alberti",
      "userId": "01048477993232507094"
     },
     "user_tz": -120
    },
    "id": "qz4KsntemxVT"
   },
   "outputs": [],
   "source": [
    "cat_vars = ['anaemia', 'diabetes', 'high_blood_pressure',  'sex',  'smoking',  'DEATH_EVENT']\n",
    "num_vars = ['age', 'creatinine_phosphokinase', 'ejection_fraction', 'platelets', 'serum_creatinine', 'serum_sodium', 'bmi', 'time']#, 'rehospitalizations']"
   ]
  },
  {
   "cell_type": "markdown",
   "metadata": {
    "id": "l2RCAZD6YL1b"
   },
   "source": [
    "# Decision Trees"
   ]
  },
  {
   "cell_type": "code",
   "execution_count": null,
   "metadata": {
    "colab": {
     "base_uri": "https://localhost:8080/",
     "height": 885
    },
    "executionInfo": {
     "elapsed": 602,
     "status": "ok",
     "timestamp": 1749994641391,
     "user": {
      "displayName": "Emanuele Alberti",
      "userId": "01048477993232507094"
     },
     "user_tz": -120
    },
    "id": "ebz_cdDdY6Y7",
    "outputId": "58b03ea2-eda6-49ab-d9b9-3d9e3837f2e9"
   },
   "outputs": [],
   "source": [
    "from sklearn.datasets import load_iris\n",
    "from sklearn.tree import DecisionTreeClassifier, plot_tree\n",
    "from sklearn.model_selection import train_test_split\n",
    "from sklearn.metrics import accuracy_score\n",
    "from mpl_toolkits.mplot3d import Axes3D\n",
    "\n",
    "# Load data\n",
    "iris = load_iris()\n",
    "X = iris.data\n",
    "y = iris.target\n",
    "feature_names = iris.feature_names\n",
    "target_names = iris.target_names\n",
    "\n",
    "# Train/test split\n",
    "X_train, X_test, y_train, y_test = train_test_split(X, y, stratify=y, random_state=42, test_size=0.2)\n",
    "\n",
    "# Train decision tree using all features\n",
    "clf = DecisionTreeClassifier(max_depth=3, random_state=42)\n",
    "clf.fit(X_train, y_train)\n",
    "\n",
    "# Evaluate\n",
    "y_pred = clf.predict(X_test)\n",
    "train_acc = accuracy_score(y_train, clf.predict(X_train))\n",
    "test_acc = accuracy_score(y_test, y_pred)\n",
    "\n",
    "print(f\"Train Accuracy: {train_acc:.2f}\")\n",
    "print(f\"Test Accuracy:  {test_acc:.2f}\")\n",
    "print(classification_report(y_test, y_pred, target_names=target_names))\n",
    "\n",
    "# Tree Visualization\n",
    "plt.figure(figsize=(16, 10))\n",
    "plot_tree(clf, feature_names=feature_names, class_names=target_names, filled=True, rounded=True)\n",
    "plt.title(\"Decision Tree Trained on All Features\")\n",
    "plt.show()"
   ]
  },
  {
   "cell_type": "code",
   "execution_count": null,
   "metadata": {
    "colab": {
     "base_uri": "https://localhost:8080/",
     "height": 720
    },
    "executionInfo": {
     "elapsed": 1665,
     "status": "ok",
     "timestamp": 1749994643058,
     "user": {
      "displayName": "Emanuele Alberti",
      "userId": "01048477993232507094"
     },
     "user_tz": -120
    },
    "id": "wKAfjhvcucR9",
    "outputId": "fca70a4f-82f2-4605-e1a9-ec7aa47afa25"
   },
   "outputs": [],
   "source": [
    "import matplotlib.pyplot as plt\n",
    "import numpy as np\n",
    "import itertools\n",
    "from matplotlib.colors import ListedColormap\n",
    "\n",
    "# Define class-specific colors\n",
    "class_colors = ['#1f77b4', '#2ca02c', '#d62728']  # blue, green, red\n",
    "cmap_light = ListedColormap(class_colors)\n",
    "\n",
    "# All feature pairs\n",
    "pairs = list(itertools.combinations(range(X.shape[1]), 2))\n",
    "plot_step = 0.02\n",
    "fig, axes = plt.subplots(2, 3, figsize=(18, 12))\n",
    "axes = axes.flatten()\n",
    "\n",
    "for idx, (i, j) in enumerate(pairs):\n",
    "    ax = axes[idx]\n",
    "\n",
    "    # Create mesh for the selected feature pair\n",
    "    x_min, x_max = X[:, i].min() - 1, X[:, i].max() + 1\n",
    "    y_min, y_max = X[:, j].min() - 1, X[:, j].max() + 1\n",
    "    xx, yy = np.meshgrid(np.arange(x_min, x_max, plot_step),\n",
    "                         np.arange(y_min, y_max, plot_step))\n",
    "\n",
    "    # Input for prediction (other features fixed)\n",
    "    X_slice = np.zeros((xx.ravel().shape[0], X.shape[1]))\n",
    "    X_slice[:, i] = xx.ravel()\n",
    "    X_slice[:, j] = yy.ravel()\n",
    "    for k in range(X.shape[1]):\n",
    "        if k != i and k != j:\n",
    "            X_slice[:, k] = X[:, k].mean()\n",
    "\n",
    "    Z = clf.predict(X_slice).reshape(xx.shape)\n",
    "\n",
    "    # Plot decision surface\n",
    "    ax.contourf(xx, yy, Z, alpha=0.3, cmap=cmap_light)\n",
    "\n",
    "    # Plot data points\n",
    "    for class_idx, class_color in enumerate(class_colors):\n",
    "        ax.scatter(X[y == class_idx, i],\n",
    "                   X[y == class_idx, j],\n",
    "                   label=target_names[class_idx],\n",
    "                   c=class_color, edgecolor='k', s=40)\n",
    "\n",
    "    ax.set_xlabel(feature_names[i])\n",
    "    ax.set_ylabel(feature_names[j])\n",
    "    ax.set_title(f\"{feature_names[i]} vs {feature_names[j]}\")\n",
    "    ax.legend()\n",
    "\n",
    "plt.tight_layout()\n",
    "plt.suptitle(\"2D Decision Boundaries\", fontsize=16, y=1.03)\n",
    "plt.show()\n"
   ]
  },
  {
   "cell_type": "markdown",
   "metadata": {
    "id": "CMsYIOHpcBS_"
   },
   "source": [
    "Different criteria can be used to decide where to split:\n",
    "\n",
    "$$\\text{Gini}(t) = 1 - \\sum_{i=1}^{C} p_i^2$$\n",
    "\n",
    "$$\\Delta \\text{Gini} = \\text{Gini}_{\\text{parent}} - \\left( \\frac{N_L}{N} \\cdot \\text{Gini}_L + \\frac{N_R}{N} \\cdot \\text{Gini}_R \\right)$$\n",
    "\n",
    "$$\\text{Entropy}(t) = -\\sum_{i=1}^{C} p_i \\log_2 p_i\n",
    "$$\n",
    "\n",
    "$$\\text{Information Gain} = \\text{Entropy}_{\\text{parent}} - \\left( \\frac{N_L}{N} \\cdot \\text{Entropy}_L + \\frac{N_R}{N} \\cdot \\text{Entropy}_R \\right)\n",
    "$$\n",
    "\n",
    "Both measures are biased toward variables with many levels\n",
    "\n",
    "\n"
   ]
  },
  {
   "cell_type": "code",
   "execution_count": null,
   "metadata": {
    "colab": {
     "base_uri": "https://localhost:8080/"
    },
    "executionInfo": {
     "elapsed": 4,
     "status": "ok",
     "timestamp": 1749994643063,
     "user": {
      "displayName": "Emanuele Alberti",
      "userId": "01048477993232507094"
     },
     "user_tz": -120
    },
    "id": "pV5kMYYiboRj",
    "outputId": "22393b24-cea9-4981-e6d4-13c68d500295"
   },
   "outputs": [],
   "source": [
    "clf_gini = DecisionTreeClassifier(criterion='gini', max_depth=3, random_state=42)\n",
    "clf_entropy = DecisionTreeClassifier(criterion='entropy', max_depth=3, random_state=42)\n",
    "\n",
    "clf_gini.fit(X_train, y_train)\n",
    "clf_entropy.fit(X_train, y_train)\n",
    "\n",
    "print(f\"Gini Test Accuracy:    {accuracy_score(y_test, clf_gini.predict(X_test)):.2f}\")\n",
    "print(f\"Entropy Test Accuracy: {accuracy_score(y_test, clf_entropy.predict(X_test)):.2f}\")\n"
   ]
  },
  {
   "cell_type": "markdown",
   "metadata": {
    "id": "iHjLYRBrcbwQ"
   },
   "source": [
    "We can measure feature importance as the (weighted) sum of the delta gini / entropy in all nodes in which it was used\n",
    "\n",
    "$$\n",
    "\\text{Importance of feature } j = \\sum_{\\text{nodes } t \\text{ using } j} \\frac{N_t}{N} \\cdot \\Delta \\text{Impurity}_t\n",
    "$$"
   ]
  },
  {
   "cell_type": "code",
   "execution_count": null,
   "metadata": {
    "colab": {
     "base_uri": "https://localhost:8080/"
    },
    "executionInfo": {
     "elapsed": 8,
     "status": "ok",
     "timestamp": 1749994643072,
     "user": {
      "displayName": "Emanuele Alberti",
      "userId": "01048477993232507094"
     },
     "user_tz": -120
    },
    "id": "z8AvO0WWcLNp",
    "outputId": "9afcb803-1b58-4325-9c6e-244710591e22"
   },
   "outputs": [],
   "source": [
    "importances = clf.feature_importances_\n",
    "for name, score in sorted(zip(feature_names, importances), key=lambda x: -x[1]):\n",
    "    print(f\"{name:25s}: {score:.3f}\")\n"
   ]
  },
  {
   "cell_type": "markdown",
   "metadata": {
    "id": "whvwLLkfdPp2"
   },
   "source": [
    "## Depth control"
   ]
  },
  {
   "cell_type": "markdown",
   "metadata": {
    "id": "X7Cfsys5cftM"
   },
   "source": [
    "Depth of the tree is a critical parameter:"
   ]
  },
  {
   "cell_type": "code",
   "execution_count": null,
   "metadata": {
    "colab": {
     "base_uri": "https://localhost:8080/",
     "height": 472
    },
    "executionInfo": {
     "elapsed": 16,
     "status": "ok",
     "timestamp": 1749994643089,
     "user": {
      "displayName": "Emanuele Alberti",
      "userId": "01048477993232507094"
     },
     "user_tz": -120
    },
    "id": "KMQr_Hcgca2c",
    "outputId": "a9b85679-4f52-43cf-f370-e6b4a323f60e"
   },
   "outputs": [],
   "source": [
    "depths = range(1, 11)\n",
    "train_scores = []\n",
    "test_scores = []\n",
    "\n",
    "for d in depths:\n",
    "    clf = DecisionTreeClassifier(max_depth=d, random_state=42)\n",
    "    clf.fit(X_train, y_train)\n",
    "    train_scores.append(clf.score(X_train, y_train))\n",
    "    test_scores.append(clf.score(X_test, y_test))\n",
    "\n",
    "plt.plot(depths, train_scores, label=\"Train\")\n",
    "plt.plot(depths, test_scores, label=\"Test\")\n",
    "plt.xlabel(\"Tree Depth\")\n",
    "plt.ylabel(\"Accuracy\")\n",
    "plt.title(\"Decision Tree Depth vs. Accuracy\")\n",
    "plt.legend()\n",
    "plt.grid(True)\n",
    "plt.show()\n"
   ]
  },
  {
   "cell_type": "markdown",
   "metadata": {
    "id": "qi4eXcPac08P"
   },
   "source": [
    "If you want to to the pruning during fitting:"
   ]
  },
  {
   "cell_type": "code",
   "execution_count": null,
   "metadata": {
    "colab": {
     "base_uri": "https://localhost:8080/"
    },
    "executionInfo": {
     "elapsed": 11,
     "status": "ok",
     "timestamp": 1749994643101,
     "user": {
      "displayName": "Emanuele Alberti",
      "userId": "01048477993232507094"
     },
     "user_tz": -120
    },
    "id": "gjmeTQkRckXK",
    "outputId": "f0460aae-d95f-4331-e655-436437bb45f4"
   },
   "outputs": [],
   "source": [
    "path = clf.cost_complexity_pruning_path(X_train, y_train)\n",
    "alphas = path.ccp_alphas[:-1]  # skip last (trivial) tree\n",
    "\n",
    "for alpha in alphas:\n",
    "    clf_pruned = DecisionTreeClassifier(random_state=42, ccp_alpha=alpha)\n",
    "    clf_pruned.fit(X_train, y_train)\n",
    "    print(f\"Alpha: {alpha:.5f} | Test Accuracy: {clf_pruned.score(X_test, y_test):.3f}\")\n"
   ]
  },
  {
   "cell_type": "markdown",
   "metadata": {
    "id": "FQLPrLGSd4Zl"
   },
   "source": [
    "`clf.cost_complexity_pruning_path(X_train, y_train)` returns the effective alphas (regularization strengths) at which:\n",
    "\n",
    "*   Removing a branch would minimally increase the total impurity\n",
    "*   But reduce model complexity (number of leaves)"
   ]
  },
  {
   "cell_type": "code",
   "execution_count": null,
   "metadata": {
    "colab": {
     "base_uri": "https://localhost:8080/",
     "height": 989
    },
    "executionInfo": {
     "elapsed": 1915,
     "status": "ok",
     "timestamp": 1749994645017,
     "user": {
      "displayName": "Emanuele Alberti",
      "userId": "01048477993232507094"
     },
     "user_tz": -120
    },
    "id": "DwUDJTmsdLkP",
    "outputId": "e58c47f5-9bf5-425c-e609-63e74316d096"
   },
   "outputs": [],
   "source": [
    "# Get pruning path\n",
    "clf = DecisionTreeClassifier(random_state=42)\n",
    "path = clf.cost_complexity_pruning_path(X_train, y_train)\n",
    "ccp_alphas = path.ccp_alphas[:-1]  # exclude the last alpha (always leads to root-only tree)\n",
    "\n",
    "# Train a tree for each alpha\n",
    "clfs = []\n",
    "for alpha in ccp_alphas:\n",
    "    clf = DecisionTreeClassifier(random_state=42, ccp_alpha=alpha)\n",
    "    clf.fit(X_train, y_train)\n",
    "    clfs.append(clf)\n",
    "\n",
    "# Plot the trees for a selected subset of alpha values\n",
    "n_trees_to_plot = min(6, len(clfs))  # limit to 6 for clarity\n",
    "indices_to_plot = np.linspace(0, len(clfs) - 1, n_trees_to_plot, dtype=int)\n",
    "\n",
    "plt.figure(figsize=(20, 20))\n",
    "for i, idx in enumerate(indices_to_plot):\n",
    "    clf = clfs[idx]\n",
    "    plt.subplot(2, 3, i + 1)\n",
    "    plot_tree(clf,\n",
    "              filled=True,\n",
    "              rounded=True,\n",
    "              class_names=target_names,\n",
    "              feature_names=feature_names)\n",
    "    plt.title(f\"ccp_alpha = {ccp_alphas[idx]:.4f}\\nDepth = {clf.get_depth()}, Leaves = {clf.get_n_leaves()}\")\n",
    "plt.suptitle(\"Decision Trees Pruned at Various ccp_alpha Values\", fontsize=18)\n",
    "plt.tight_layout(rect=[0, 0.03, 1, 0.95])\n",
    "plt.show()\n"
   ]
  },
  {
   "cell_type": "markdown",
   "metadata": {
    "id": "IRYv16YDeQDf"
   },
   "source": [
    "Selection of ccp_alpha can be done via CV:"
   ]
  },
  {
   "cell_type": "code",
   "execution_count": null,
   "metadata": {
    "colab": {
     "base_uri": "https://localhost:8080/",
     "height": 600
    },
    "executionInfo": {
     "elapsed": 104,
     "status": "ok",
     "timestamp": 1749994645123,
     "user": {
      "displayName": "Emanuele Alberti",
      "userId": "01048477993232507094"
     },
     "user_tz": -120
    },
    "id": "wnwELMw_eTSm",
    "outputId": "537ee9c8-b40c-4a9a-f33c-fc70a3d4fcf5"
   },
   "outputs": [],
   "source": [
    "from sklearn.model_selection import cross_val_score\n",
    "\n",
    "# Step 1: Get pruning path\n",
    "clf = DecisionTreeClassifier(random_state=1234)\n",
    "path = clf.cost_complexity_pruning_path(X_train, y_train)\n",
    "ccp_alphas = path.ccp_alphas[:-1]  # skip the last one (trivial tree)\n",
    "\n",
    "# Step 2: Train trees with different alphas + CV\n",
    "clfs = []\n",
    "cv_scores = []\n",
    "\n",
    "for alpha in ccp_alphas:\n",
    "    clf = DecisionTreeClassifier(random_state=42, ccp_alpha=alpha)\n",
    "    scores = cross_val_score(clf, X_train, y_train, cv=5)\n",
    "    clfs.append(clf)\n",
    "    cv_scores.append(scores.mean())\n",
    "\n",
    "# Step 3: Select best alpha\n",
    "best_idx = np.argmax(cv_scores)\n",
    "best_alpha = ccp_alphas[best_idx]\n",
    "print(f\"Best ccp_alpha: {best_alpha:.5f} with CV accuracy: {cv_scores[best_idx]:.4f}\")\n",
    "\n",
    "# Step 4: Retrain final model on full training set with best alpha\n",
    "final_tree = DecisionTreeClassifier(random_state=42, ccp_alpha=best_alpha)\n",
    "final_tree.fit(X_train, y_train)\n",
    "\n",
    "# Evaluate on test set\n",
    "test_acc = final_tree.score(X_test, y_test)\n",
    "print(f\"Test accuracy of pruned tree: {test_acc:.4f}\")\n",
    "\n",
    "# Step 5: Plot alpha vs. CV accuracy\n",
    "plt.figure(figsize=(10, 6))\n",
    "plt.plot(ccp_alphas, cv_scores, marker='o', drawstyle=\"steps-post\")\n",
    "plt.xlabel(\"ccp_alpha\")\n",
    "plt.ylabel(\"Mean CV Accuracy\")\n",
    "plt.title(\"Selecting Optimal ccp_alpha via Cross-Validation\")\n",
    "plt.grid(True)\n",
    "plt.show()"
   ]
  },
  {
   "cell_type": "markdown",
   "metadata": {
    "id": "Rr3WzwjYfJ_L"
   },
   "source": [
    "# Regression Tree"
   ]
  },
  {
   "cell_type": "code",
   "execution_count": null,
   "metadata": {
    "colab": {
     "base_uri": "https://localhost:8080/"
    },
    "executionInfo": {
     "elapsed": 56,
     "status": "ok",
     "timestamp": 1749994645180,
     "user": {
      "displayName": "Emanuele Alberti",
      "userId": "01048477993232507094"
     },
     "user_tz": -120
    },
    "id": "F-F1_g4xfMGo",
    "outputId": "99f2391f-edb1-4031-d53b-79aa54296e53"
   },
   "outputs": [],
   "source": [
    "from sklearn.tree import DecisionTreeRegressor\n",
    "\n",
    "# Separate features/target\n",
    "X = df.drop(columns='ejection_fraction')\n",
    "y = df['ejection_fraction']\n",
    "\n",
    "numeric_vars = num_vars.copy()\n",
    "numeric_vars.remove('ejection_fraction')\n",
    "categorical_vars = cat_vars.copy()\n",
    "\n",
    "# Preprocessing\n",
    "preprocessor = ColumnTransformer([\n",
    "    ('num', StandardScaler(), numeric_vars),\n",
    "    ('cat', OneHotEncoder(drop='first'), categorical_vars)\n",
    "])\n",
    "\n",
    "# Pipeline\n",
    "pipeline = Pipeline([\n",
    "    ('preprocessor', preprocessor),\n",
    "    ('regressor', DecisionTreeRegressor(random_state=42, max_depth=4))\n",
    "])\n",
    "\n",
    "# Train/test split\n",
    "X_train, X_test, y_train, y_test = train_test_split(X, y, test_size=0.2, random_state=42)\n",
    "\n",
    "# Fit model\n",
    "pipeline.fit(X_train, y_train)\n",
    "y_pred = pipeline.predict(X_test)\n",
    "\n",
    "# Adjusted R²\n",
    "r2 = r2_score(y_test, y_pred)\n",
    "n = len(y_test)\n",
    "p = preprocessor.fit(X_train).transform(X_train).shape[1]\n",
    "adj_r2 = 1 - ((1 - r2) * (n - 1)) / (n - p - 1)\n",
    "\n",
    "# Metrics\n",
    "mse = mean_squared_error(y_test, y_pred)\n",
    "mae = mean_absolute_error(y_test, y_pred)\n",
    "\n",
    "print(f\"R² Score:       {r2:.3f}\")\n",
    "print(f\"Adjusted R²:    {adj_r2:.3f}\")\n",
    "print(f\"MSE:            {mse:.3f}\")\n",
    "print(f\"MAE:            {mae:.3f}\")\n"
   ]
  },
  {
   "cell_type": "code",
   "execution_count": null,
   "metadata": {
    "colab": {
     "base_uri": "https://localhost:8080/",
     "height": 702
    },
    "executionInfo": {
     "elapsed": 2057,
     "status": "ok",
     "timestamp": 1749994647238,
     "user": {
      "displayName": "Emanuele Alberti",
      "userId": "01048477993232507094"
     },
     "user_tz": -120
    },
    "id": "QFq3WwmpgMZz",
    "outputId": "71ef5418-48e7-4a56-e859-084f504a3378"
   },
   "outputs": [],
   "source": [
    "# Get feature names after encoding\n",
    "encoded_feature_names = preprocessor.named_transformers_['cat'].get_feature_names_out(categorical_vars)\n",
    "all_feature_names = numeric_vars + list(encoded_feature_names)\n",
    "\n",
    "# Plot the tree\n",
    "reg_tree = pipeline.named_steps['regressor']\n",
    "\n",
    "plt.figure(figsize=(30, 20))\n",
    "plot_tree(reg_tree,\n",
    "          feature_names=all_feature_names,\n",
    "          filled=True,\n",
    "          rounded=True,)\n",
    "plt.title(\"Decision Tree Regressor for Ejection Fraction\")\n",
    "plt.show()"
   ]
  },
  {
   "cell_type": "markdown",
   "metadata": {
    "id": "s8V_sPuHesoL"
   },
   "source": [
    "# Random Forest"
   ]
  },
  {
   "cell_type": "code",
   "execution_count": null,
   "metadata": {
    "colab": {
     "base_uri": "https://localhost:8080/"
    },
    "executionInfo": {
     "elapsed": 175,
     "status": "ok",
     "timestamp": 1749994647414,
     "user": {
      "displayName": "Emanuele Alberti",
      "userId": "01048477993232507094"
     },
     "user_tz": -120
    },
    "id": "dgjPzPjfejC5",
    "outputId": "a8049297-85c3-4a36-d016-2d33083da045"
   },
   "outputs": [],
   "source": [
    "import numpy as np\n",
    "import pandas as pd\n",
    "import matplotlib.pyplot as plt\n",
    "from sklearn.datasets import load_iris\n",
    "from sklearn.ensemble import RandomForestClassifier\n",
    "from sklearn.model_selection import train_test_split, cross_val_score\n",
    "from sklearn.metrics import accuracy_score, classification_report, ConfusionMatrixDisplay\n",
    "\n",
    "# Load data\n",
    "iris = load_iris()\n",
    "X, y = iris.data, iris.target\n",
    "feature_names = iris.feature_names\n",
    "target_names = iris.target_names\n",
    "\n",
    "# Train/test split\n",
    "X_train, X_test, y_train, y_test = train_test_split(X, y, stratify=y, test_size=0.2, random_state=42)\n",
    "\n",
    "# Train Random Forest\n",
    "rf = RandomForestClassifier(n_estimators=100, max_depth=5, random_state=42)\n",
    "rf.fit(X_train, y_train)\n",
    "\n",
    "# Predict\n",
    "y_pred = rf.predict(X_test)\n",
    "\n",
    "# Evaluate\n",
    "acc = accuracy_score(y_test, y_pred)\n",
    "print(f\"Test Accuracy: {acc:.3f}\")\n",
    "print(\"\\nClassification Report:\")\n",
    "print(classification_report(y_test, y_pred, target_names=target_names))"
   ]
  },
  {
   "cell_type": "markdown",
   "metadata": {
    "id": "LHc1rdZbiWpC"
   },
   "source": [
    "## Hyperparameters"
   ]
  },
  {
   "cell_type": "markdown",
   "metadata": {
    "id": "PYfigs-sjKQR"
   },
   "source": [
    "Recommended values are $m=p/3$ for regression and $m=\\sqrt{p}$ for classification, with m being the % of features to keep (max_features)"
   ]
  },
  {
   "cell_type": "code",
   "execution_count": null,
   "metadata": {
    "colab": {
     "base_uri": "https://localhost:8080/"
    },
    "executionInfo": {
     "elapsed": 17873,
     "status": "ok",
     "timestamp": 1749994665286,
     "user": {
      "displayName": "Emanuele Alberti",
      "userId": "01048477993232507094"
     },
     "user_tz": -120
    },
    "id": "HpIdr4i4iOh4",
    "outputId": "0065c388-ef11-45e0-86a7-ebcec8c1b6c6"
   },
   "outputs": [],
   "source": [
    "from sklearn.ensemble import RandomForestClassifier\n",
    "from sklearn.metrics import accuracy_score\n",
    "\n",
    "# Define parameter grid\n",
    "param_grid = {\n",
    "    'n_estimators': [10, 50, 100],\n",
    "    'max_depth': [None, 3, 5, 10],\n",
    "    'max_features': ['sqrt', 'log2', None]  # or you can use int values\n",
    "}\n",
    "\n",
    "# Setup grid search\n",
    "rf = RandomForestClassifier(random_state=42)\n",
    "grid_search = GridSearchCV(rf, param_grid, cv=5, scoring='accuracy', n_jobs=-1, verbose=1)\n",
    "grid_search.fit(X_train, y_train)\n",
    "\n",
    "# Best model\n",
    "best_rf = grid_search.best_estimator_\n",
    "print(f\"\\nBest Parameters: {grid_search.best_params_}\")\n",
    "print(f\"Best CV Accuracy: {grid_search.best_score_:.3f}\")\n",
    "\n",
    "# Test performance\n",
    "y_pred = best_rf.predict(X_test)\n",
    "print(\"\\nTest Accuracy:\", accuracy_score(y_test, y_pred))\n",
    "print(\"\\nClassification Report:\\n\", classification_report(y_test, y_pred, target_names=target_names))"
   ]
  },
  {
   "cell_type": "markdown",
   "metadata": {
    "id": "fR_dz7O7jlre"
   },
   "source": [
    "## Out-Of-Bag evaluation"
   ]
  },
  {
   "cell_type": "markdown",
   "metadata": {
    "id": "RUCVd5wskZjS"
   },
   "source": [
    "\n",
    "\n",
    "1.   For each training point, collect predictions from only the trees that didn’t see it.\n",
    "2.  Compare these predictions to the true labels.\n",
    "3.  Average the accuracy (or other metric) over all such point\n",
    "\n",
    "\n",
    "\n",
    "\n"
   ]
  },
  {
   "cell_type": "code",
   "execution_count": null,
   "metadata": {
    "colab": {
     "base_uri": "https://localhost:8080/"
    },
    "executionInfo": {
     "elapsed": 154,
     "status": "ok",
     "timestamp": 1749994665431,
     "user": {
      "displayName": "Emanuele Alberti",
      "userId": "01048477993232507094"
     },
     "user_tz": -120
    },
    "id": "HCUdbvDXieau",
    "outputId": "5b0db26a-94be-4fbb-a8ba-689aa0fa9141"
   },
   "outputs": [],
   "source": [
    "rf_oob = RandomForestClassifier(oob_score=True, n_estimators=100, random_state=42)\n",
    "rf_oob.fit(X, y)\n",
    "print(\"OOB Score:\", rf_oob.oob_score_)"
   ]
  },
  {
   "cell_type": "markdown",
   "metadata": {
    "id": "gRnscvrtlHpw"
   },
   "source": [
    "The scikit-learn OOB implementation is limited to accuracy for classification and R^2 for regression. Other metrics can be computed by accessing the OOB predictions:"
   ]
  },
  {
   "cell_type": "code",
   "execution_count": null,
   "metadata": {
    "colab": {
     "base_uri": "https://localhost:8080/"
    },
    "executionInfo": {
     "elapsed": 5,
     "status": "ok",
     "timestamp": 1749994665443,
     "user": {
      "displayName": "Emanuele Alberti",
      "userId": "01048477993232507094"
     },
     "user_tz": -120
    },
    "id": "J4F2Rzu5lMEm",
    "outputId": "852c1252-711d-4cd5-be6b-a6b74b5827af"
   },
   "outputs": [],
   "source": [
    "from sklearn.metrics import f1_score\n",
    "\n",
    "y_pred_oob = np.argmax(rf_oob.oob_decision_function_, axis=1)\n",
    "f1 = f1_score(y, y_pred_oob, average='macro')\n",
    "print(f\"OOB F1 Score (macro): {f1:.3f}\")"
   ]
  },
  {
   "cell_type": "markdown",
   "metadata": {
    "id": "D_olv4jHj0R3"
   },
   "source": [
    "## Interpretation"
   ]
  },
  {
   "cell_type": "code",
   "execution_count": null,
   "metadata": {
    "colab": {
     "base_uri": "https://localhost:8080/",
     "height": 564
    },
    "executionInfo": {
     "elapsed": 132,
     "status": "ok",
     "timestamp": 1749994665586,
     "user": {
      "displayName": "Emanuele Alberti",
      "userId": "01048477993232507094"
     },
     "user_tz": -120
    },
    "id": "Gd3Le1-oj1_A",
    "outputId": "072c8206-1a9c-48c2-cf0e-03400f95952a"
   },
   "outputs": [],
   "source": [
    "importances = best_rf.feature_importances_\n",
    "sorted_idx = np.argsort(importances)[::-1]\n",
    "\n",
    "plt.figure(figsize=(8, 6))\n",
    "plt.barh(np.array(feature_names)[sorted_idx], importances[sorted_idx])\n",
    "plt.xlabel(\"Feature Importance\")\n",
    "plt.title(\"Random Forest Feature Importance\")\n",
    "plt.gca().invert_yaxis()\n",
    "plt.show()"
   ]
  },
  {
   "cell_type": "markdown",
   "metadata": {
    "id": "HjqFj8_qjtre"
   },
   "source": [
    "Partial Dependency Plots"
   ]
  },
  {
   "cell_type": "code",
   "execution_count": null,
   "metadata": {
    "colab": {
     "base_uri": "https://localhost:8080/",
     "height": 691
    },
    "executionInfo": {
     "elapsed": 966,
     "status": "ok",
     "timestamp": 1749994666553,
     "user": {
      "displayName": "Emanuele Alberti",
      "userId": "01048477993232507094"
     },
     "user_tz": -120
    },
    "id": "1SolhcoHju_l",
    "outputId": "d29ae031-0e34-43a9-b652-5381a58385f4"
   },
   "outputs": [],
   "source": [
    "from sklearn.inspection import PartialDependenceDisplay\n",
    "\n",
    "fig, ax = plt.subplots(2, 2, figsize=(12, 8))  # Adjust as needed\n",
    "PartialDependenceDisplay.from_estimator(best_rf, X, features=[0, 1, 2, 3], feature_names=feature_names, target=1, ax=ax)\n",
    "plt.tight_layout()\n",
    "plt.show()"
   ]
  },
  {
   "cell_type": "markdown",
   "metadata": {
    "id": "L5GkI6bR9PMb"
   },
   "source": [
    "## Random Forest for Regression"
   ]
  },
  {
   "cell_type": "code",
   "execution_count": null,
   "metadata": {
    "colab": {
     "base_uri": "https://localhost:8080/"
    },
    "executionInfo": {
     "elapsed": 300,
     "status": "ok",
     "timestamp": 1749994666855,
     "user": {
      "displayName": "Emanuele Alberti",
      "userId": "01048477993232507094"
     },
     "user_tz": -120
    },
    "id": "-tG_CXYnkCao",
    "outputId": "e68b3304-01b3-4891-e67f-de28b92c3d24"
   },
   "outputs": [],
   "source": [
    "from sklearn.ensemble import RandomForestRegressor\n",
    "\n",
    "# Separate features/target\n",
    "X = df.drop(columns='ejection_fraction')\n",
    "y = df['ejection_fraction']\n",
    "\n",
    "numeric_vars = num_vars.copy()\n",
    "numeric_vars.remove('ejection_fraction')\n",
    "categorical_vars = cat_vars.copy()\n",
    "\n",
    "# Preprocessing pipeline\n",
    "preprocessor = ColumnTransformer([\n",
    "    ('num', StandardScaler(), numeric_vars),\n",
    "    ('cat', OneHotEncoder(drop='first'), categorical_vars)\n",
    "])\n",
    "\n",
    "# Full pipeline with RandomForestRegressor\n",
    "pipeline = Pipeline([\n",
    "    ('preprocessor', preprocessor),\n",
    "    ('model', RandomForestRegressor(n_estimators=100, random_state=42, oob_score=True))\n",
    "])\n",
    "\n",
    "# Split data\n",
    "X_train, X_test, y_train, y_test = train_test_split(X, y, test_size=0.2, random_state=42)\n",
    "\n",
    "# Fit model\n",
    "pipeline.fit(X_train, y_train)\n",
    "y_pred = pipeline.predict(X_test)\n",
    "\n",
    "# Adjusted R²\n",
    "r2 = r2_score(y_test, y_pred)\n",
    "n = len(y_test)\n",
    "p = preprocessor.fit(X_train).transform(X_train).shape[1]\n",
    "adj_r2 = 1 - ((1 - r2) * (n - 1)) / (n - p - 1)\n",
    "\n",
    "mse = mean_squared_error(y_test, y_pred)\n",
    "mae = mean_absolute_error(y_test, y_pred)\n",
    "\n",
    "# Output\n",
    "rf_model = pipeline.named_steps['model']\n",
    "print(f\"OOB R²: {rf_model.oob_score_:.3f}\")\n",
    "print(f\"R²:        {r2:.3f}\")\n",
    "print(f\"Adjusted R²:    {adj_r2:.3f}\")\n",
    "print(f\"MSE:            {mse:.2f}\")\n",
    "print(f\"MAE:            {mae:.2f}\")\n"
   ]
  },
  {
   "cell_type": "markdown",
   "metadata": {
    "id": "Tw1GUQYt_Ige"
   },
   "source": [
    "# Gradient Boosting"
   ]
  },
  {
   "cell_type": "markdown",
   "metadata": {
    "id": "Ih9mjYHqutwp"
   },
   "source": [
    "![image.png](data:image/png;base64,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)"
   ]
  },
  {
   "cell_type": "markdown",
   "metadata": {
    "id": "WNPd-kXi8BWX"
   },
   "source": [
    "## Gradient Boosting Regressor"
   ]
  },
  {
   "cell_type": "code",
   "execution_count": null,
   "metadata": {
    "colab": {
     "base_uri": "https://localhost:8080/"
    },
    "executionInfo": {
     "elapsed": 227,
     "status": "ok",
     "timestamp": 1749994667084,
     "user": {
      "displayName": "Emanuele Alberti",
      "userId": "01048477993232507094"
     },
     "user_tz": -120
    },
    "id": "s8Fzyz4T-CRo",
    "outputId": "747971d6-d1b5-4803-f7cf-29dc768a58fe"
   },
   "outputs": [],
   "source": [
    "from sklearn.ensemble import GradientBoostingRegressor\n",
    "\n",
    "# Separate features/target\n",
    "X = df.drop(columns='ejection_fraction')\n",
    "y = df['ejection_fraction']\n",
    "\n",
    "numeric_vars = num_vars.copy()\n",
    "numeric_vars.remove('ejection_fraction')\n",
    "categorical_vars = cat_vars.copy()\n",
    "\n",
    "# Preprocessing\n",
    "preprocessor = ColumnTransformer([\n",
    "    ('num', StandardScaler(), numeric_vars),\n",
    "    ('cat', OneHotEncoder(drop='first'), categorical_vars)\n",
    "])\n",
    "\n",
    "# Pipeline with Gradient Boosting\n",
    "pipeline = Pipeline([\n",
    "    ('preprocessor', preprocessor),\n",
    "    ('model', GradientBoostingRegressor(\n",
    "        n_estimators=100,\n",
    "        learning_rate=0.1,\n",
    "        max_depth=3,\n",
    "        random_state=42))\n",
    "])\n",
    "\n",
    "# Train/test split\n",
    "X_train, X_test, y_train, y_test = train_test_split(X, y, test_size=0.3, random_state=42)\n",
    "\n",
    "# Fit model\n",
    "pipeline.fit(X_train, y_train)\n",
    "y_pred = pipeline.predict(X_test)\n",
    "\n",
    "# Adjusted R²\n",
    "r2 = r2_score(y_test, y_pred)\n",
    "n = len(y_test)\n",
    "p = preprocessor.fit(X_train).transform(X_train).shape[1]\n",
    "adj_r2 = 1 - ((1 - r2) * (n - 1)) / (n - p - 1)\n",
    "\n",
    "mse = mean_squared_error(y_test, y_pred)\n",
    "mae = mean_absolute_error(y_test, y_pred)\n",
    "\n",
    "# Output\n",
    "print(f\"R²:        {r2:.3f}\")\n",
    "print(f\"Adjusted R²:    {adj_r2:.3f}\")\n",
    "print(f\"MSE:            {mse:.2f}\")\n",
    "print(f\"MAE:            {mae:.2f}\")\n"
   ]
  },
  {
   "cell_type": "markdown",
   "metadata": {
    "id": "b-AV7pwc8r5J"
   },
   "source": [
    "## Gradient Boosting Classifier"
   ]
  },
  {
   "cell_type": "code",
   "execution_count": null,
   "metadata": {
    "colab": {
     "base_uri": "https://localhost:8080/",
     "height": 704
    },
    "executionInfo": {
     "elapsed": 475,
     "status": "ok",
     "timestamp": 1749994667559,
     "user": {
      "displayName": "Emanuele Alberti",
      "userId": "01048477993232507094"
     },
     "user_tz": -120
    },
    "id": "pDz-sYRW8uot",
    "outputId": "08dfc19f-21e0-4bec-ae5e-d4216701059d"
   },
   "outputs": [],
   "source": [
    "from sklearn.datasets import load_iris\n",
    "from sklearn.ensemble import GradientBoostingClassifier\n",
    "from sklearn.model_selection import train_test_split, cross_val_score\n",
    "from sklearn.metrics import accuracy_score, classification_report, ConfusionMatrixDisplay\n",
    "\n",
    "# Load iris data\n",
    "iris = load_iris()\n",
    "X, y = iris.data, iris.target\n",
    "feature_names = iris.feature_names\n",
    "target_names = iris.target_names\n",
    "\n",
    "# Train/test split\n",
    "X_train, X_test, y_train, y_test = train_test_split(X, y, stratify=y, test_size=0.2, random_state=42)\n",
    "\n",
    "# Gradient Boosting fit\n",
    "gb = GradientBoostingClassifier(n_estimators=100, learning_rate=0.1, max_depth=3, random_state=42)\n",
    "gb.fit(X_train, y_train)\n",
    "\n",
    "# Predict\n",
    "y_pred = gb.predict(X_test)\n",
    "\n",
    "# Evaluate\n",
    "acc = accuracy_score(y_test, y_pred)\n",
    "print(f\"Test Accuracy: {acc:.3f}\")\n",
    "print(\"\\nClassification Report:\")\n",
    "print(classification_report(y_test, y_pred, target_names=target_names))\n",
    "\n",
    "ConfusionMatrixDisplay.from_estimator(gb, X_test, y_test, display_labels=target_names)\n",
    "plt.title(\"Confusion Matrix - Gradient Boosting\")\n",
    "plt.show()\n"
   ]
  },
  {
   "cell_type": "code",
   "execution_count": null,
   "metadata": {
    "executionInfo": {
     "elapsed": 1,
     "status": "ok",
     "timestamp": 1749994667562,
     "user": {
      "displayName": "Emanuele Alberti",
      "userId": "01048477993232507094"
     },
     "user_tz": -120
    },
    "id": "99eV3gP4H6ha"
   },
   "outputs": [],
   "source": [
    "from sklearn.linear_model import LinearRegression\n",
    "model = LinearRegression()\n"
   ]
  },
  {
   "cell_type": "code",
   "execution_count": null,
   "metadata": {
    "colab": {
     "base_uri": "https://localhost:8080/",
     "height": 80
    },
    "executionInfo": {
     "elapsed": 31,
     "status": "ok",
     "timestamp": 1749994667602,
     "user": {
      "displayName": "Emanuele Alberti",
      "userId": "01048477993232507094"
     },
     "user_tz": -120
    },
    "id": "Bxg79T24IUmv",
    "outputId": "2ea914ee-2cd4-4ea8-c9de-8e9c2cf9cda9"
   },
   "outputs": [],
   "source": [
    "num_vars = ['age', 'creatinine_phosphokinase', 'ejection_fraction', 'platelets', 'serum_creatinine', 'serum_sodium', 'bmi', 'time']#, 'rehospitalizations']\n",
    "num_vars.remove('ejection_fraction')\n",
    "\n",
    "X = df[num_vars]\n",
    "y = df['ejection_fraction']\n",
    "\n",
    "model.fit(X,y)"
   ]
  },
  {
   "cell_type": "code",
   "execution_count": null,
   "metadata": {
    "executionInfo": {
     "elapsed": 8,
     "status": "ok",
     "timestamp": 1749994667611,
     "user": {
      "displayName": "Emanuele Alberti",
      "userId": "01048477993232507094"
     },
     "user_tz": -120
    },
    "id": "ddGF-_M2I4JB"
   },
   "outputs": [],
   "source": [
    "y_pred = model.predict(X)\n",
    "residuals = y - y_pred"
   ]
  },
  {
   "cell_type": "code",
   "execution_count": null,
   "metadata": {
    "colab": {
     "base_uri": "https://localhost:8080/",
     "height": 448
    },
    "executionInfo": {
     "elapsed": 170,
     "status": "ok",
     "timestamp": 1749994667782,
     "user": {
      "displayName": "Emanuele Alberti",
      "userId": "01048477993232507094"
     },
     "user_tz": -120
    },
    "id": "VuSIZyq1JBVk",
    "outputId": "75174a66-27ef-492c-88e7-f645c7f62998"
   },
   "outputs": [],
   "source": [
    "#plotting\n",
    "import matplotlib.pyplot as plt\n",
    "plt.scatter(y_pred, residuals)\n",
    "len(residuals)"
   ]
  },
  {
   "cell_type": "code",
   "execution_count": null,
   "metadata": {
    "colab": {
     "base_uri": "https://localhost:8080/",
     "height": 593
    },
    "executionInfo": {
     "elapsed": 340,
     "status": "error",
     "timestamp": 1749994668123,
     "user": {
      "displayName": "Emanuele Alberti",
      "userId": "01048477993232507094"
     },
     "user_tz": -120
    },
    "id": "C_TIZB2vKpdD",
    "outputId": "7f669466-baef-4e7a-9fb5-348c03460744"
   },
   "outputs": [],
   "source": [
    "x_plotting = np.linspace(0, 100, 299)\n",
    "plt.scatter(x_plotting, residuals)\n"
   ]
  },
  {
   "cell_type": "markdown",
   "metadata": {
    "id": "3UnF10pp_wNu"
   },
   "source": [
    "## Manual implementation"
   ]
  },
  {
   "cell_type": "code",
   "execution_count": null,
   "metadata": {
    "executionInfo": {
     "elapsed": 10,
     "status": "aborted",
     "timestamp": 1749994668126,
     "user": {
      "displayName": "Emanuele Alberti",
      "userId": "01048477993232507094"
     },
     "user_tz": -120
    },
    "id": "_eM8LyLT_x22"
   },
   "outputs": [],
   "source": [
    "from sklearn.tree import DecisionTreeRegressor\n",
    "\n",
    "# -----------------------------\n",
    "# Data generation and plotting\n",
    "# -----------------------------\n",
    "\n",
    "def GenerateData():\n",
    "    X = np.arange(0, 50).reshape(-1, 1)\n",
    "\n",
    "    y = np.concatenate([\n",
    "        np.random.uniform(10, 15, 10),\n",
    "        np.random.uniform(20, 25, 10),\n",
    "        np.random.uniform(0, 5, 10),\n",
    "        np.random.uniform(30, 32, 10),\n",
    "        np.random.uniform(13, 17, 10)\n",
    "    ])\n",
    "\n",
    "    return X, y.reshape(-1, 1)\n",
    "\n",
    "def PlotModel(X, y, yp, title='', fn=None):\n",
    "    plt.figure(figsize=(20,10))\n",
    "    plt.scatter(X, y, color='blue', label='True y')\n",
    "    plt.plot(X, yp, color='red', label='Prediction')\n",
    "    plt.xlim([-1, 51])\n",
    "    plt.ylim([-1, 35])\n",
    "    plt.xlabel('x')\n",
    "    plt.ylabel('y')\n",
    "    plt.title(title)\n",
    "    plt.legend()\n",
    "    if fn:\n",
    "        plt.savefig(fn)\n",
    "    plt.show()\n",
    "\n",
    "def PlotResidual(X, residuals, title='', fn=None):\n",
    "    plt.figure(figsize=(20,10))\n",
    "    plt.scatter(X, residuals, color='green')\n",
    "    plt.xlim([-1, 51])\n",
    "    plt.ylim([-25, 25])\n",
    "    plt.xlabel('x')\n",
    "    plt.ylabel('residual')\n",
    "    plt.title(title)\n",
    "    if fn:\n",
    "        plt.savefig(fn)\n",
    "    plt.show()\n",
    "\n",
    "# -----------------------------\n",
    "# Gradient Boosting Logic\n",
    "# -----------------------------\n",
    "\n",
    "def GradientBoosting(X, y, n_iterations=30, max_depth=1, plot=True):\n",
    "    # Initial prediction is the mean\n",
    "    initial_pred = np.ones_like(y) * y.mean()\n",
    "    prediction = initial_pred.copy()\n",
    "\n",
    "    if plot:\n",
    "        PlotModel(X, y, initial_pred, title='Iteration #1 - Initial Mean')\n",
    "        PlotResidual(X, y - prediction, title='Iteration #1 - Residual')\n",
    "\n",
    "    for i in range(n_iterations):\n",
    "        residuals = y - prediction\n",
    "\n",
    "        stump = DecisionTreeRegressor(max_depth=max_depth)\n",
    "        stump.fit(X, residuals)\n",
    "        update = stump.predict(X).reshape(-1, 1)\n",
    "\n",
    "        prediction += update\n",
    "\n",
    "        if plot and (i+2)%5==0:\n",
    "            PlotModel(X, y, prediction, title=f'Iteration #{i+2} - Model')\n",
    "            PlotResidual(X, y - prediction, title=f'Iteration #{i+2} - Residual')\n",
    "\n",
    "    return prediction"
   ]
  },
  {
   "cell_type": "code",
   "execution_count": null,
   "metadata": {
    "executionInfo": {
     "elapsed": 10,
     "status": "aborted",
     "timestamp": 1749994668126,
     "user": {
      "displayName": "Emanuele Alberti",
      "userId": "01048477993232507094"
     },
     "user_tz": -120
    },
    "id": "Gl8c7XBg_9zu"
   },
   "outputs": [],
   "source": [
    "X, y = GenerateData()\n",
    "final_prediction = GradientBoosting(X, y, n_iterations=30, max_depth=1, plot=True)"
   ]
  },
  {
   "cell_type": "markdown",
   "metadata": {
    "id": "7YkZOar_7Vfn"
   },
   "source": [
    "## XGBoost"
   ]
  },
  {
   "cell_type": "markdown",
   "metadata": {
    "id": "kYpUnPax7YOO"
   },
   "source": [
    "Have a look at it, with its improvements over Gradient Boosting, if you are curious!"
   ]
  },
  {
   "cell_type": "markdown",
   "metadata": {
    "id": "u7M5FPpNQ3-z"
   },
   "source": [
    "# Final Quiz"
   ]
  },
  {
   "cell_type": "markdown",
   "metadata": {
    "id": "s-1Zs9zqQ6sr"
   },
   "source": [
    "[Quiz link](https://app.wooclap.com/USSDDI?from=event-page)"
   ]
  }
 ],
 "metadata": {
  "colab": {
   "provenance": [
    {
     "file_id": "1qNhFiyHLq6perOg-Bq8KjJjsITGhoAbu",
     "timestamp": 1749456284476
    }
   ],
   "toc_visible": true
  },
  "kernelspec": {
   "display_name": ".venv",
   "language": "python",
   "name": "python3"
  },
  "language_info": {
   "codemirror_mode": {
    "name": "ipython",
    "version": 3
   },
   "file_extension": ".py",
   "mimetype": "text/x-python",
   "name": "python",
   "nbconvert_exporter": "python",
   "pygments_lexer": "ipython3",
   "version": "3.13.5"
  }
 },
 "nbformat": 4,
 "nbformat_minor": 0
}
