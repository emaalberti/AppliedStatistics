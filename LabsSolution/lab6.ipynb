{
 "cells": [
  {
   "cell_type": "markdown",
   "metadata": {
    "id": "v213oWQNY_4e"
   },
   "source": [
    "**<font size=\"5\">Applied Statistics</font>**\n",
    "\n",
    "<font size=\"3\">MSc in High Performance Computing Engineering, Computer Science and Engineering, Physics Engineering - A.Y. 2024-2025</font>\n",
    "\n",
    "Prof. Mario Beraha - Dott. Vittorio Torri\n",
    "\n",
    "---\n",
    "\n",
    "<font size=\"4\">**Lab 6 - Linear Regression**</font>"
   ]
  },
  {
   "cell_type": "markdown",
   "metadata": {
    "id": "ciEBGMI5alog"
   },
   "source": [
    "# Libraries"
   ]
  },
  {
   "cell_type": "code",
   "execution_count": null,
   "metadata": {
    "id": "V4tZOCOQanB9"
   },
   "outputs": [],
   "source": [
    "import pandas as pd\n",
    "pd.options.display.float_format = '{:.2f}'.format"
   ]
  },
  {
   "cell_type": "code",
   "execution_count": null,
   "metadata": {
    "id": "B56Kp3nQectc"
   },
   "outputs": [],
   "source": [
    "import matplotlib.pyplot as plt\n",
    "import seaborn as sns"
   ]
  },
  {
   "cell_type": "code",
   "execution_count": null,
   "metadata": {
    "id": "XBmIG3NMcLCO"
   },
   "outputs": [],
   "source": [
    "import numpy as np"
   ]
  },
  {
   "cell_type": "code",
   "execution_count": null,
   "metadata": {
    "id": "0qNen7Ljcx3t"
   },
   "outputs": [],
   "source": [
    "from sklearn.metrics import r2_score\n",
    "from sklearn.metrics import mean_squared_error\n",
    "from sklearn.preprocessing import StandardScaler, MinMaxScaler\n",
    "from sklearn.preprocessing import PolynomialFeatures"
   ]
  },
  {
   "cell_type": "code",
   "execution_count": null,
   "metadata": {
    "id": "1_MvRLcN_No-"
   },
   "outputs": [],
   "source": [
    "import statsmodels.api as sm"
   ]
  },
  {
   "cell_type": "code",
   "execution_count": null,
   "metadata": {
    "id": "WcaQ5G3rJ5JR"
   },
   "outputs": [],
   "source": [
    "np.random.seed(1234)"
   ]
  },
  {
   "cell_type": "code",
   "execution_count": null,
   "metadata": {
    "id": "gEbCEGDUUmxr"
   },
   "outputs": [],
   "source": [
    "import scipy.stats as stats"
   ]
  },
  {
   "cell_type": "markdown",
   "metadata": {
    "id": "6vWzbwC_pr-7"
   },
   "source": [
    "# Load Dataset"
   ]
  },
  {
   "cell_type": "code",
   "execution_count": null,
   "metadata": {
    "id": "KrcL7EH9YktP"
   },
   "outputs": [],
   "source": [
    "df = pd.read_csv('../DatasetsLabs/heart_failure_clinical_records_dataset_smhd.csv')\n",
    "df"
   ]
  },
  {
   "cell_type": "code",
   "execution_count": null,
   "metadata": {
    "id": "qz4KsntemxVT"
   },
   "outputs": [],
   "source": [
    "cat_vars = ['anaemia', 'diabetes', 'high_blood_pressure',  'sex',  'smoking',  'DEATH_EVENT']\n",
    "num_vars = ['age', 'creatinine_phosphokinase', 'ejection_fraction', 'platelets', 'serum_creatinine', 'serum_sodium', 'bmi', 'time']"
   ]
  },
  {
   "cell_type": "markdown",
   "metadata": {
    "id": "44FLh9uKSq-V"
   },
   "source": [
    "# Simple Linear Regression"
   ]
  },
  {
   "cell_type": "markdown",
   "metadata": {
    "id": "HTqg5ZdmUVwP"
   },
   "source": [
    "Let's look at the scatterplot of bmi and ejection fraction"
   ]
  },
  {
   "cell_type": "code",
   "execution_count": null,
   "metadata": {
    "id": "sTxbJMiyMmkO"
   },
   "outputs": [],
   "source": [
    "TARGET = 'bmi'"
   ]
  },
  {
   "cell_type": "code",
   "execution_count": null,
   "metadata": {
    "colab": {
     "base_uri": "https://localhost:8080/",
     "height": 661
    },
    "executionInfo": {
     "elapsed": 164,
     "status": "ok",
     "timestamp": 1749537726030,
     "user": {
      "displayName": "Emanuele Alberti",
      "userId": "01048477993232507094"
     },
     "user_tz": -120
    },
    "id": "-aCiTJE6Ssoo",
    "outputId": "43d8b97c-22ce-4eeb-d31c-16bceee090f8"
   },
   "outputs": [],
   "source": [
    "sns.relplot(x=\"ejection_fraction\", y=\"bmi\", palette=\"muted\", height=6, data=df)"
   ]
  },
  {
   "cell_type": "markdown",
   "metadata": {
    "id": "bYZ-Vkx8UaLA"
   },
   "source": [
    "It looks like there is a relationship between them: we can try to predict BMI based on ejection fraction"
   ]
  },
  {
   "cell_type": "code",
   "execution_count": null,
   "metadata": {
    "colab": {
     "base_uri": "https://localhost:8080/"
    },
    "executionInfo": {
     "elapsed": 7,
     "status": "ok",
     "timestamp": 1749537738289,
     "user": {
      "displayName": "Emanuele Alberti",
      "userId": "01048477993232507094"
     },
     "user_tz": -120
    },
    "id": "ZUgBUUYScph7",
    "outputId": "141482ba-5ec7-47bc-a441-6a60a6fe9e0e"
   },
   "outputs": [],
   "source": [
    "X = df['ejection_fraction'].values.reshape(-1,1) #da un array 1d ad uno 2d con una colonna\n",
    "y = df['bmi']\n",
    "y.shape, X.shape"
   ]
  },
  {
   "cell_type": "code",
   "execution_count": null,
   "metadata": {
    "id": "BVFQXNc0yCwz"
   },
   "outputs": [],
   "source": [
    "X_const = sm.add_constant(X)"
   ]
  },
  {
   "cell_type": "code",
   "execution_count": null,
   "metadata": {
    "colab": {
     "base_uri": "https://localhost:8080/"
    },
    "executionInfo": {
     "elapsed": 7,
     "status": "ok",
     "timestamp": 1749537795380,
     "user": {
      "displayName": "Emanuele Alberti",
      "userId": "01048477993232507094"
     },
     "user_tz": -120
    },
    "id": "TfawXKw90xS6",
    "outputId": "2ff0db52-d33d-4839-b18a-5a528bd21106"
   },
   "outputs": [],
   "source": [
    "X_const.shape, y.shape, type(X_const)"
   ]
  },
  {
   "cell_type": "markdown",
   "metadata": {
    "id": "tGg_tPMXU2UU"
   },
   "source": [
    "$$ bmi = \\beta_0 + \\beta_1 \\cdot ef + \\epsilon $$"
   ]
  },
  {
   "cell_type": "code",
   "execution_count": null,
   "metadata": {
    "colab": {
     "base_uri": "https://localhost:8080/"
    },
    "executionInfo": {
     "elapsed": 12,
     "status": "ok",
     "timestamp": 1749537744331,
     "user": {
      "displayName": "Emanuele Alberti",
      "userId": "01048477993232507094"
     },
     "user_tz": -120
    },
    "id": "Fx-4VWM8JKnn",
    "outputId": "e60e047c-ab50-429f-e56a-972cd97cc051"
   },
   "outputs": [],
   "source": [
    "model = sm.OLS(y, X_const)\n",
    "results = model.fit()\n",
    "print(results.summary())\n"
   ]
  },
  {
   "cell_type": "code",
   "execution_count": null,
   "metadata": {
    "colab": {
     "base_uri": "https://localhost:8080/"
    },
    "executionInfo": {
     "elapsed": 5,
     "status": "ok",
     "timestamp": 1749537748706,
     "user": {
      "displayName": "Emanuele Alberti",
      "userId": "01048477993232507094"
     },
     "user_tz": -120
    },
    "id": "retBsP9QeJxr",
    "outputId": "f947e837-1885-427f-ad9d-f7a6265773da"
   },
   "outputs": [],
   "source": [
    "y_pred = results.predict(X_const)\n",
    "\n",
    "r2 = r2_score(y,y_pred)\n",
    "mse = mean_squared_error(y,y_pred)\n",
    "\n",
    "print(f'R2: {r2:.4f}')\n",
    "print(f'MSE: {mse:.4f}')"
   ]
  },
  {
   "cell_type": "code",
   "execution_count": null,
   "metadata": {
    "colab": {
     "base_uri": "https://localhost:8080/",
     "height": 448
    },
    "executionInfo": {
     "elapsed": 127,
     "status": "ok",
     "timestamp": 1749537758664,
     "user": {
      "displayName": "Emanuele Alberti",
      "userId": "01048477993232507094"
     },
     "user_tz": -120
    },
    "id": "Uk4s8icVc2Fd",
    "outputId": "14cb12a0-a0c9-41a2-cac3-99b8b74939a2"
   },
   "outputs": [],
   "source": [
    "X_plot = np.arange(np.min(X),np.max(X),0.1).reshape(-1,1)\n",
    "X_plot = sm.add_constant(X_plot)\n",
    "y_plot = results.predict(X_plot)\n",
    "\n",
    "plt.scatter(X, y)\n",
    "plt.plot(X_plot[:,1], y_plot, c='blue')"
   ]
  },
  {
   "cell_type": "code",
   "execution_count": null,
   "metadata": {
    "colab": {
     "base_uri": "https://localhost:8080/",
     "height": 430
    },
    "executionInfo": {
     "elapsed": 261,
     "status": "ok",
     "timestamp": 1749538516845,
     "user": {
      "displayName": "Emanuele Alberti",
      "userId": "01048477993232507094"
     },
     "user_tz": -120
    },
    "id": "ueA60Vu7k81Z",
    "outputId": "313d8ab7-6720-4bcb-dd55-486a09f83024"
   },
   "outputs": [],
   "source": [
    "ef_point = 45\n",
    "X0_const = np.array([1, ef_point])\n",
    "prediction = results.get_prediction(X0_const) #ritorna una oggetto di una classe\n",
    "intervals = prediction.summary_frame(alpha=0.05)\n",
    "intervals\n",
    "prediction = intervals['mean']\n",
    "ci_lower = intervals['mean_ci_lower']\n",
    "ci_upper = intervals['mean_ci_upper']\n",
    "pi_lower = intervals['obs_ci_lower']\n",
    "pi_upper = intervals['obs_ci_upper']\n",
    "\n",
    "#plotting\n",
    "plt.scatter(X0_const[1], prediction, c='red')\n",
    "plt.scatter(X0_const[1], ci_lower, c='blue')\n",
    "plt.scatter(X0_const[1], ci_upper, c='blue')\n",
    "plt.scatter(X0_const[1], pi_lower, c='green')\n",
    "plt.scatter(X0_const[1], pi_upper, c='green')\n",
    "plt.show()"
   ]
  },
  {
   "cell_type": "markdown",
   "metadata": {
    "id": "L093onGfkEb7"
   },
   "source": [
    "## Confidence/Prediction intervals"
   ]
  },
  {
   "cell_type": "code",
   "execution_count": null,
   "metadata": {
    "colab": {
     "base_uri": "https://localhost:8080/",
     "height": 424
    },
    "executionInfo": {
     "elapsed": 6,
     "status": "ok",
     "timestamp": 1749537766851,
     "user": {
      "displayName": "Emanuele Alberti",
      "userId": "01048477993232507094"
     },
     "user_tz": -120
    },
    "id": "1j3KBkeukGtN",
    "outputId": "60a3cf42-7586-4178-e9a4-bef761ac2d23"
   },
   "outputs": [],
   "source": [
    "X_plot = np.linspace(X.min(), X.max(), 100).reshape(-1, 1)\n",
    "X_plot_const = sm.add_constant(X_plot)\n",
    "\n",
    "# Predict with confidence intervals\n",
    "predictions = results.get_prediction(X_plot_const)\n",
    "summary_frame = predictions.summary_frame(alpha=0.05)  # 95% intervals\n",
    "summary_frame\n"
   ]
  },
  {
   "cell_type": "code",
   "execution_count": null,
   "metadata": {
    "colab": {
     "base_uri": "https://localhost:8080/",
     "height": 607
    },
    "executionInfo": {
     "elapsed": 361,
     "status": "ok",
     "timestamp": 1749538484645,
     "user": {
      "displayName": "Emanuele Alberti",
      "userId": "01048477993232507094"
     },
     "user_tz": -120
    },
    "id": "UCJwm1Swim1v",
    "outputId": "647f7aa3-c94c-4e3f-b13e-5e6008f04909"
   },
   "outputs": [],
   "source": [
    "# Extract the values\n",
    "y_pred = summary_frame['mean']\n",
    "ci_lower = summary_frame['mean_ci_lower']\n",
    "ci_upper = summary_frame['mean_ci_upper']\n",
    "pi_lower = summary_frame['obs_ci_lower']\n",
    "pi_upper = summary_frame['obs_ci_upper']\n",
    "\n",
    "plt.figure(figsize=(10, 6))\n",
    "sns.scatterplot(x=df['ejection_fraction'], y=df['bmi'], label='Data', color='black')\n",
    "plt.plot(X_plot, y_pred, color='red', label='Regression Line')\n",
    "plt.fill_between(X_plot.flatten(), ci_lower, ci_upper, color='blue', alpha=0.3, label='95% Confidence Interval')\n",
    "plt.fill_between(X_plot.flatten(), pi_lower, pi_upper, color='orange', alpha=0.2, label='95% Prediction Interval')\n",
    "plt.xlabel('Ejection Fraction')\n",
    "plt.ylabel('BMI')\n",
    "plt.title('Linear Regression with Confidence and Prediction Intervals')\n",
    "plt.legend()\n",
    "plt.grid(True)\n",
    "plt.tight_layout()\n",
    "plt.show()\n"
   ]
  },
  {
   "cell_type": "code",
   "execution_count": null,
   "metadata": {
    "colab": {
     "base_uri": "https://localhost:8080/"
    },
    "executionInfo": {
     "elapsed": 7,
     "status": "ok",
     "timestamp": 1749537578390,
     "user": {
      "displayName": "Emanuele Alberti",
      "userId": "01048477993232507094"
     },
     "user_tz": -120
    },
    "id": "GyOA-jc1kw4E",
    "outputId": "c414f8a2-902a-4178-c878-f5363c0ff00e"
   },
   "outputs": [],
   "source": [
    "x_mean = X.mean()\n",
    "idx_closest = np.argmin(np.abs(X_plot.flatten() - x_mean))\n",
    "\n",
    "ci_width_at_mean = ci_upper.iloc[idx_closest] - ci_lower.iloc[idx_closest]\n",
    "pi_width_at_mean = pi_upper.iloc[idx_closest] - pi_lower.iloc[idx_closest]\n",
    "\n",
    "print(f'CI width at mean(X) = {x_mean:.2f}: {ci_width_at_mean:.4f}')\n",
    "print(f'PI width at mean(X) = {x_mean:.2f}: {pi_width_at_mean:.4f}')\n",
    "\n",
    "print(\"CI width (start/end):\", ci_upper.iloc[0] - ci_lower.iloc[0], ci_upper.iloc[-1] - ci_lower.iloc[-1])\n",
    "print(\"PI width (start/end):\", pi_upper.iloc[0] - pi_lower.iloc[0], pi_upper.iloc[-1] - pi_lower.iloc[-1])"
   ]
  },
  {
   "cell_type": "markdown",
   "metadata": {
    "id": "IBiLqwSTo3R2"
   },
   "source": [
    "Prediction and confidence intervals for a pecific point, ef=45"
   ]
  },
  {
   "cell_type": "code",
   "execution_count": null,
   "metadata": {
    "id": "ZAwboAufkTZ1"
   },
   "outputs": [],
   "source": [
    "ef_point = 45\n",
    "X_new = [1, ef_point] # Add constant manually"
   ]
  },
  {
   "cell_type": "code",
   "execution_count": null,
   "metadata": {
    "colab": {
     "base_uri": "https://localhost:8080/",
     "height": 678
    },
    "executionInfo": {
     "elapsed": 127,
     "status": "ok",
     "timestamp": 1749537578515,
     "user": {
      "displayName": "Emanuele Alberti",
      "userId": "01048477993232507094"
     },
     "user_tz": -120
    },
    "id": "491DyjYDoYxU",
    "outputId": "76fcc6cd-fcb2-423d-d64e-24f3360ba1cc"
   },
   "outputs": [],
   "source": [
    "### TODO\n",
    "ef_point = 45\n",
    "X_new = np.array([[1, ef_point]])  # Add constant manually\n",
    "\n",
    "# Get predictions with confidence and prediction intervals\n",
    "pred_result = results.get_prediction(X_new)\n",
    "pred_summary = pred_result.summary_frame(alpha=0.05)\n",
    "\n",
    "# Extract predicted values and intervals\n",
    "mean_pred = pred_summary['mean'].values[0]\n",
    "ci_lower = pred_summary['mean_ci_lower'].values[0]\n",
    "ci_upper = pred_summary['mean_ci_upper'].values[0]\n",
    "pi_lower = pred_summary['obs_ci_lower'].values[0]\n",
    "pi_upper = pred_summary['obs_ci_upper'].values[0]\n",
    "\n",
    "print(f\"EF = {ef_point}\")\n",
    "print(f\"Predicted BMI: {mean_pred:.2f}\")\n",
    "print(f\"95% Confidence Interval (mean): [{ci_lower:.2f}, {ci_upper:.2f}]\")\n",
    "print(f\"95% Prediction Interval (new patient): [{pi_lower:.2f}, {pi_upper:.2f}]\")\n",
    "\n",
    "# --- Plot ---\n",
    "plt.figure(figsize=(8,6))\n",
    "sns.scatterplot(x=df['ejection_fraction'], y=df['bmi'], label='Data', color='gray')\n",
    "plt.axvline(x=ef_point, color='grey', linestyle='--', label=f'EF = {ef_point}')\n",
    "\n",
    "\n",
    "# PI for new observation\n",
    "plt.errorbar(ef_point, mean_pred,\n",
    "             yerr=[[mean_pred - pi_lower], [pi_upper - mean_pred]],\n",
    "             fmt='o', color='orange', capsize=10, alpha=0.5, label='95% PI (New Obs)')\n",
    "\n",
    "# CI for mean\n",
    "plt.errorbar(ef_point, mean_pred,\n",
    "             yerr=[[mean_pred - ci_lower], [ci_upper - mean_pred]],\n",
    "             fmt='o', color='red', capsize=5, label='95% CI (Mean)')\n",
    "\n",
    "plt.xlabel('Ejection Fraction')\n",
    "plt.ylabel('BMI')\n",
    "plt.title(f'Prediction at EF = {ef_point}: Mean & New Observation Intervals')\n",
    "plt.legend()\n",
    "plt.grid(True)\n",
    "plt.tight_layout()\n",
    "plt.show()\n"
   ]
  },
  {
   "cell_type": "markdown",
   "metadata": {
    "id": "OTz5PITEP0Cx"
   },
   "source": [
    "## Train-test set"
   ]
  },
  {
   "cell_type": "markdown",
   "metadata": {
    "id": "yaccy9TQN-UH"
   },
   "source": [
    "So far we are evaluating the model on the same data it was trained on.."
   ]
  },
  {
   "cell_type": "code",
   "execution_count": null,
   "metadata": {
    "id": "leZatsmLeGnH"
   },
   "outputs": [],
   "source": [
    "from sklearn import model_selection\n",
    "\n",
    "X = df[['age', 'anaemia', 'creatinine_phosphokinase', 'diabetes', 'high_blood_pressure', 'platelets', 'serum_creatinine', 'serum_sodium', 'sex', 'smoking', 'ejection_fraction', 'time']]\n",
    "\n",
    "X_train, X_test, y_train, y_test = model_selection.train_test_split(X, y, test_size=0.20, random_state=1234)\n",
    "\n",
    "train_index = X_train.index\n",
    "test_index = X_test.index"
   ]
  },
  {
   "cell_type": "code",
   "execution_count": null,
   "metadata": {
    "colab": {
     "base_uri": "https://localhost:8080/"
    },
    "executionInfo": {
     "elapsed": 4,
     "status": "ok",
     "timestamp": 1749537578547,
     "user": {
      "displayName": "Emanuele Alberti",
      "userId": "01048477993232507094"
     },
     "user_tz": -120
    },
    "id": "jZMbLOoxOF9s",
    "outputId": "9abaa201-89a3-455e-ac4e-06d5808df134"
   },
   "outputs": [],
   "source": [
    "### TODO: FIT THE MODEL ON TRAINING DATA\n",
    "X_train_1 = X_train[['ejection_fraction']]\n",
    "X_test_1 = X_test[['ejection_fraction']]\n",
    "X_train_1 = sm.add_constant(X_train_1)\n",
    "X_test_1 = sm.add_constant(X_test_1)\n",
    "\n",
    "model = sm.OLS(y_train, X_train_1)\n",
    "results = model.fit()\n",
    "print(results.summary())"
   ]
  },
  {
   "cell_type": "code",
   "execution_count": null,
   "metadata": {
    "colab": {
     "base_uri": "https://localhost:8080/"
    },
    "executionInfo": {
     "elapsed": 11,
     "status": "ok",
     "timestamp": 1749537578559,
     "user": {
      "displayName": "Emanuele Alberti",
      "userId": "01048477993232507094"
     },
     "user_tz": -120
    },
    "id": "EN9or1bbJY63",
    "outputId": "7d5bf19b-ed9a-43df-e08f-e411caf12ad2"
   },
   "outputs": [],
   "source": [
    "### TODO: COMPUTE MSE AND R^2 ON TEST DATA\n",
    "y_pred = results.predict(X_test_1)\n",
    "r2 = r2_score(y_test,y_pred)\n",
    "mse = mean_squared_error(y_test,y_pred)\n",
    "print(r2)\n",
    "print(mse)"
   ]
  },
  {
   "cell_type": "markdown",
   "metadata": {
    "id": "4Wvd8SYSsXwS"
   },
   "source": [
    "# Multiple linear regression"
   ]
  },
  {
   "cell_type": "markdown",
   "metadata": {
    "id": "xstNp3L70osU"
   },
   "source": [
    "## Multiple input variables"
   ]
  },
  {
   "cell_type": "code",
   "execution_count": null,
   "metadata": {
    "id": "XkRl80fx0UEw"
   },
   "outputs": [],
   "source": [
    "variables = num_vars.copy()\n",
    "variables.remove('bmi')\n",
    "\n",
    "X_train_2 = X_train[variables]\n",
    "X_test_2 = X_test[variables]\n",
    "X_train_2 = sm.add_constant(X_train_2)\n",
    "X_test_2 = sm.add_constant(X_test_2)"
   ]
  },
  {
   "cell_type": "code",
   "execution_count": null,
   "metadata": {
    "colab": {
     "base_uri": "https://localhost:8080/"
    },
    "executionInfo": {
     "elapsed": 15,
     "status": "ok",
     "timestamp": 1749537578587,
     "user": {
      "displayName": "Emanuele Alberti",
      "userId": "01048477993232507094"
     },
     "user_tz": -120
    },
    "id": "Kr9FAuQ60Y0J",
    "outputId": "11aece45-b049-4415-c91d-e90ccd93666b"
   },
   "outputs": [],
   "source": [
    "model = sm.OLS(y_train, X_train_2)\n",
    "results = model.fit()\n",
    "print(results.summary())"
   ]
  },
  {
   "cell_type": "code",
   "execution_count": null,
   "metadata": {
    "colab": {
     "base_uri": "https://localhost:8080/"
    },
    "executionInfo": {
     "elapsed": 5,
     "status": "ok",
     "timestamp": 1749537578593,
     "user": {
      "displayName": "Emanuele Alberti",
      "userId": "01048477993232507094"
     },
     "user_tz": -120
    },
    "id": "m5mtIr-z0mCh",
    "outputId": "9e61e503-a920-4724-e114-ba859d2a799f"
   },
   "outputs": [],
   "source": [
    "y_pred = results.predict(X_test_2)\n",
    "r2 = r2_score(y_test,y_pred)\n",
    "mse = mean_squared_error(y_test,y_pred)\n",
    "\n",
    "n = len(y_test)\n",
    "p = X_test_2.shape[1]\n",
    "adj_r2 = 1 - (1 - r2) * (n - 1) / (n - p - 1)\n",
    "print(f'R2: {r2:.4f}')\n",
    "print(f'adj_R2: {adj_r2:.4f}')\n",
    "print(f'MSE: {mse:.4f}')"
   ]
  },
  {
   "cell_type": "markdown",
   "metadata": {
    "id": "XsJxdcduPybA"
   },
   "source": [
    "$$ R^2 = 1 - \\frac{RSS}{TSS} = 1 - \\frac{\\sum{(y_i - \\hat{y_i})^2}}{\\sum{(y_i - \\bar{y})^2}}$$\n",
    "\n",
    "$$ AdjR^2 = 1 - \\frac{n - 1}{n - k -1} \\frac{RSS}{TSS} = 1 - \\frac{n - 1}{n - k -1} (1 - R^2)$$\n",
    "\n",
    "where $k$ is the number of regressors"
   ]
  },
  {
   "cell_type": "markdown",
   "metadata": {
    "id": "ls8_Nc5_wShq"
   },
   "source": [
    "## Collinearity"
   ]
  },
  {
   "cell_type": "markdown",
   "metadata": {
    "id": "oAaOG6saA_Pn"
   },
   "source": [
    "The Variance Inflation Factor (VIF) indicates how good a variable can be predicted from the others\n",
    "\n",
    "A high VIF means there is collinearity with some other variable\n",
    "\n",
    "Rule of thumb: VIF > 5 for a variable is problematic"
   ]
  },
  {
   "cell_type": "code",
   "execution_count": null,
   "metadata": {
    "colab": {
     "base_uri": "https://localhost:8080/"
    },
    "executionInfo": {
     "elapsed": 17,
     "status": "ok",
     "timestamp": 1749541290654,
     "user": {
      "displayName": "Emanuele Alberti",
      "userId": "01048477993232507094"
     },
     "user_tz": -120
    },
    "id": "_ycNEgfAA24z",
    "outputId": "111cff2e-3850-4e4a-9340-2f903cc2181b"
   },
   "outputs": [],
   "source": [
    "from statsmodels.stats.outliers_influence import variance_inflation_factor\n",
    "\n",
    "data = X_train_2\n",
    "\n",
    "vif_data = pd.DataFrame()\n",
    "vif_data[\"Variable\"] = data.columns\n",
    "\n",
    "vif_data[\"VIF\"] = [variance_inflation_factor(data.values, i) for i in range(data.shape[1])]\n",
    "\n",
    "print(vif_data)"
   ]
  },
  {
   "cell_type": "markdown",
   "metadata": {
    "id": "hRmb32RMENWM"
   },
   "source": [
    "The correlation coefficients can also identify collinearity, but not always. If a variable X1 is a linear transformation of a variable X2, their linear correlation coefficient will be high. But if the collinearity involves a group of variable, then it might not be evident from the correlation matrix"
   ]
  },
  {
   "cell_type": "code",
   "execution_count": null,
   "metadata": {
    "colab": {
     "base_uri": "https://localhost:8080/",
     "height": 620
    },
    "executionInfo": {
     "elapsed": 658,
     "status": "ok",
     "timestamp": 1749542493838,
     "user": {
      "displayName": "Emanuele Alberti",
      "userId": "01048477993232507094"
     },
     "user_tz": -120
    },
    "id": "t-CdubuGwUfe",
    "outputId": "a9b6ddda-2a40-4635-a90c-69ddc05647d2"
   },
   "outputs": [],
   "source": [
    "sns.heatmap(df[num_vars].corr(), cmap=\"Blues\",annot=True)"
   ]
  },
  {
   "cell_type": "markdown",
   "metadata": {
    "id": "C4D-4YA218jn"
   },
   "source": [
    "## Scale variables"
   ]
  },
  {
   "cell_type": "markdown",
   "metadata": {
    "id": "279luzPIP4Zx"
   },
   "source": [
    "Numerical variables having different scales are often problematic. Many models have their coefficients' computation affected by this, but while this is not the case of linear regression with least square method, it is still useful to **standardize** the features for interpretability of coefficients and to reduce the condition numer when it is not due to a direct multicollinearity among the variables. The VIF is scale invariant, but the condition number is not.\n",
    "\n",
    "Moreover, this is necessary when penalizations are introduced in linear regression models (more on this in the next lectures)\n",
    "\n",
    "To standardize a variable x:\n",
    "\n",
    "$$ z = \\frac{x - \\mu }{\\sigma}$$"
   ]
  },
  {
   "cell_type": "markdown",
   "metadata": {
    "id": "kGID2zcfPisq"
   },
   "source": [
    "$$ $$"
   ]
  },
  {
   "cell_type": "code",
   "execution_count": null,
   "metadata": {
    "id": "9CBYB412pyfq"
   },
   "outputs": [],
   "source": [
    "X_train_2 = X_train[variables]\n",
    "X_test_2 = X_test[variables]\n",
    "\n",
    "scaler = StandardScaler()\n",
    "X_train_2_scaled = pd.DataFrame(scaler.fit_transform(X_train_2), columns=X_train_2.columns, index=X_train_2.index)\n",
    "X_test_2_scaled = pd.DataFrame(scaler.transform(X_test_2), columns=X_test_2.columns, index=X_test_2.index)\n",
    "\n",
    "X_train_2_scaled = sm.add_constant(X_train_2_scaled)\n",
    "X_test_2_scaled = sm.add_constant(X_test_2_scaled)\n"
   ]
  },
  {
   "cell_type": "code",
   "execution_count": null,
   "metadata": {
    "colab": {
     "base_uri": "https://localhost:8080/"
    },
    "executionInfo": {
     "elapsed": 36,
     "status": "ok",
     "timestamp": 1749544223000,
     "user": {
      "displayName": "Emanuele Alberti",
      "userId": "01048477993232507094"
     },
     "user_tz": -120
    },
    "id": "6lzN9qrFp5GE",
    "outputId": "befb084f-1ddb-46f8-9813-8a11dcd077c8"
   },
   "outputs": [],
   "source": [
    "model = sm.OLS(y_train, X_train_2_scaled)\n",
    "results = model.fit()\n",
    "print(results.summary())"
   ]
  },
  {
   "cell_type": "code",
   "execution_count": null,
   "metadata": {
    "colab": {
     "base_uri": "https://localhost:8080/"
    },
    "executionInfo": {
     "elapsed": 5,
     "status": "ok",
     "timestamp": 1749544225403,
     "user": {
      "displayName": "Emanuele Alberti",
      "userId": "01048477993232507094"
     },
     "user_tz": -120
    },
    "id": "sV4AiGB5qAef",
    "outputId": "756d82c3-fe1b-4896-d41a-1b41306e05b2"
   },
   "outputs": [],
   "source": [
    "y_pred = results.predict(X_test_2_scaled)\n",
    "r2 = r2_score(y_test,y_pred)\n",
    "mse = mean_squared_error(y_test,y_pred)\n",
    "n = len(y_test)\n",
    "p = X_test_2_scaled.shape[1]\n",
    "adj_r2 = 1 - (1 - r2) * (n - 1) / (n - p - 1)\n",
    "print(f'R2: {r2:.4f}')\n",
    "print(f'adj_R2: {adj_r2:.4f}')\n",
    "print(f'MSE: {mse:.4f}')"
   ]
  },
  {
   "cell_type": "markdown",
   "metadata": {
    "id": "2EEmvyUWdPbE"
   },
   "source": [
    "## Reduce the number of variables"
   ]
  },
  {
   "cell_type": "markdown",
   "metadata": {
    "id": "r1zRIwzr15Qp"
   },
   "source": [
    "### EF + creatinine"
   ]
  },
  {
   "cell_type": "markdown",
   "metadata": {
    "id": "DnO172BVPShL"
   },
   "source": [
    "$$ bmi = \\beta_0 + \\beta_1 \\cdot ef + \\beta_2 \\cdot creatinine + \\epsilon $$"
   ]
  },
  {
   "cell_type": "code",
   "execution_count": null,
   "metadata": {
    "id": "Dqhp2j93dSet"
   },
   "outputs": [],
   "source": [
    "variables = ['ejection_fraction', 'serum_creatinine']\n",
    "\n",
    "X_train_3 = X_train[variables]\n",
    "X_test_3 = X_test[variables]\n",
    "X_train_3 = sm.add_constant(X_train_3)\n",
    "X_test_3 = sm.add_constant(X_test_3)"
   ]
  },
  {
   "cell_type": "code",
   "execution_count": null,
   "metadata": {
    "colab": {
     "base_uri": "https://localhost:8080/"
    },
    "executionInfo": {
     "elapsed": 7,
     "status": "ok",
     "timestamp": 1749544227539,
     "user": {
      "displayName": "Emanuele Alberti",
      "userId": "01048477993232507094"
     },
     "user_tz": -120
    },
    "id": "lVsX0ItZddjO",
    "outputId": "2f57ea80-ee1b-41fb-a7aa-32e32d67a335"
   },
   "outputs": [],
   "source": [
    "model = sm.OLS(y_train, X_train_3)\n",
    "results = model.fit()\n",
    "print(results.summary())"
   ]
  },
  {
   "cell_type": "code",
   "execution_count": null,
   "metadata": {
    "colab": {
     "base_uri": "https://localhost:8080/"
    },
    "executionInfo": {
     "elapsed": 92,
     "status": "ok",
     "timestamp": 1749544230119,
     "user": {
      "displayName": "Emanuele Alberti",
      "userId": "01048477993232507094"
     },
     "user_tz": -120
    },
    "id": "PTvDsoKSdhSe",
    "outputId": "1805471b-2d8e-4dff-ed13-808b80b5c6cd"
   },
   "outputs": [],
   "source": [
    "y_pred = results.predict(X_test_3)\n",
    "r2 = r2_score(y_test,y_pred)\n",
    "mse = mean_squared_error(y_test,y_pred)\n",
    "n = len(y_test)\n",
    "p = X_test_3.shape[1]\n",
    "adj_r2 = 1 - (1 - r2) * (n - 1) / (n - p - 1)\n",
    "print(f'R2: {r2:.4f}')\n",
    "print(f'adj_R2: {adj_r2:.4f}')\n",
    "print(f'MSE: {mse:.4f}')"
   ]
  },
  {
   "cell_type": "markdown",
   "metadata": {
    "id": "3NU7IyvxHCyu"
   },
   "source": [
    "with 2 regressors we can still visualize a plane:"
   ]
  },
  {
   "cell_type": "code",
   "execution_count": null,
   "metadata": {
    "colab": {
     "base_uri": "https://localhost:8080/"
    },
    "executionInfo": {
     "elapsed": 12,
     "status": "ok",
     "timestamp": 1749544522609,
     "user": {
      "displayName": "Emanuele Alberti",
      "userId": "01048477993232507094"
     },
     "user_tz": -120
    },
    "id": "doqY88PoHGR1",
    "outputId": "0f031b90-738d-4c14-c6e4-f633bca7f69d"
   },
   "outputs": [],
   "source": [
    "# TODO\n",
    "x1 = X_train_3['ejection_fraction']\n",
    "x2 = X_train_3['serum_creatinine']\n",
    "y = y_train\n",
    "\n",
    "# Get model coefficients\n",
    "b0, b1, b2 = results.params\n",
    "\n",
    "# Create a grid for plotting the regression plane\n",
    "x1_grid, x2_grid = np.meshgrid(\n",
    "    np.linspace(x1.min(), x1.max(), 30),\n",
    "    np.linspace(x2.min(), x2.max(), 30)\n",
    ")\n",
    "x2_grid.shape, y.shape,"
   ]
  },
  {
   "cell_type": "code",
   "execution_count": null,
   "metadata": {
    "colab": {
     "base_uri": "https://localhost:8080/"
    },
    "executionInfo": {
     "elapsed": 7,
     "status": "ok",
     "timestamp": 1749544567268,
     "user": {
      "displayName": "Emanuele Alberti",
      "userId": "01048477993232507094"
     },
     "user_tz": -120
    },
    "id": "5-dUym479iFZ",
    "outputId": "443ec234-734e-4c0c-a316-9131b96193dc"
   },
   "outputs": [],
   "source": [
    "# Compute predicted y values over the grid\n",
    "y_pred_grid = b0 + b1 * x1_grid + b2 * x2_grid\n",
    "y_pred_grid.shape, b1, b0\n"
   ]
  },
  {
   "cell_type": "code",
   "execution_count": null,
   "metadata": {
    "colab": {
     "base_uri": "https://localhost:8080/",
     "height": 931
    },
    "executionInfo": {
     "elapsed": 2395,
     "status": "ok",
     "timestamp": 1749544567260,
     "user": {
      "displayName": "Emanuele Alberti",
      "userId": "01048477993232507094"
     },
     "user_tz": -120
    },
    "id": "ugeDLGnO-24D",
    "outputId": "3eb7ccbc-bd07-4e3b-eed6-3ce5a142d89c"
   },
   "outputs": [],
   "source": [
    "# Plot\n",
    "fig = plt.figure(figsize=(16, 12))\n",
    "\n",
    "views = [\n",
    "    (0, 45),\n",
    "    (20, 135),\n",
    "    (0, 0),\n",
    "    (10, 220)\n",
    "]\n",
    "\n",
    "titles = [\n",
    "    \"Regression Plane View 1\",\n",
    "    \"Regression Plane View 2\",\n",
    "    \"Regression Plane View 3\",\n",
    "    \"Regression Plane View 4\"\n",
    "]\n",
    "\n",
    "for i, (elev, azim) in enumerate(views):\n",
    "    ax = fig.add_subplot(2, 2, i+1, projection='3d')\n",
    "    ax.scatter(x1, x2, y, color='r', label='Data')\n",
    "    ax.plot_surface(x1_grid, x2_grid, y_pred_grid, alpha=0.4)\n",
    "    ax.set_xlabel('Ejection Fraction')\n",
    "    ax.set_ylabel('Serum Creatinine')\n",
    "    ax.set_zlabel('Target')\n",
    "    ax.view_init(elev=elev, azim=azim)\n",
    "    ax.set_title(titles[i])\n",
    "\n",
    "plt.tight_layout()\n",
    "plt.show()"
   ]
  },
  {
   "cell_type": "markdown",
   "metadata": {
    "id": "ZDEH51exFSfI"
   },
   "source": [
    "with standardization:"
   ]
  },
  {
   "cell_type": "code",
   "execution_count": null,
   "metadata": {
    "colab": {
     "base_uri": "https://localhost:8080/"
    },
    "executionInfo": {
     "elapsed": 9,
     "status": "ok",
     "timestamp": 1749544811680,
     "user": {
      "displayName": "Emanuele Alberti",
      "userId": "01048477993232507094"
     },
     "user_tz": -120
    },
    "id": "bpXQyGD0_fhm",
    "outputId": "bdbd2d9f-0f05-4f93-ccfd-2cf53b63b704"
   },
   "outputs": [],
   "source": [
    "scaletor = StandardScaler()\n",
    "X_train_scaled = scaletor.fit_transform(X_train[num_vars])\n",
    "X_train_scaled #ci sta che i valori non siano compresi tra -1 e 1, hanno solo media 0 e deviazione standard 1"
   ]
  },
  {
   "cell_type": "code",
   "execution_count": null,
   "metadata": {
    "colab": {
     "base_uri": "https://localhost:8080/",
     "height": 424
    },
    "executionInfo": {
     "elapsed": 35,
     "status": "ok",
     "timestamp": 1749544824277,
     "user": {
      "displayName": "Emanuele Alberti",
      "userId": "01048477993232507094"
     },
     "user_tz": -120
    },
    "id": "lKSDxLg8FTpv",
    "outputId": "fbc8917d-d892-4945-dfbe-68f07a1a681d"
   },
   "outputs": [],
   "source": [
    "X_train_3 = X_train[variables]\n",
    "X_test_3 = X_test[variables]\n",
    "\n",
    "scaler = StandardScaler()\n",
    "X_train_3_scaled = pd.DataFrame(scaler.fit_transform(X_train_3), columns=X_train_3.columns, index=X_train_3.index)\n",
    "X_test_3_scaled = pd.DataFrame(scaler.transform(X_test_3), columns=X_test_3.columns, index=X_test_3.index)\n",
    "\n",
    "X_train_3_scaled = sm.add_constant(X_train_3_scaled)\n",
    "X_test_3_scaled = sm.add_constant(X_test_3_scaled)\n",
    "\n"
   ]
  },
  {
   "cell_type": "code",
   "execution_count": null,
   "metadata": {
    "colab": {
     "base_uri": "https://localhost:8080/"
    },
    "executionInfo": {
     "elapsed": 8,
     "status": "ok",
     "timestamp": 1749537580212,
     "user": {
      "displayName": "Emanuele Alberti",
      "userId": "01048477993232507094"
     },
     "user_tz": -120
    },
    "id": "pWQm6LE2Ff4m",
    "outputId": "70f3cd65-daed-4f41-b650-7f1a961b85b5"
   },
   "outputs": [],
   "source": [
    "model = sm.OLS(y_train, X_train_3_scaled)\n",
    "results = model.fit()\n",
    "print(results.summary())"
   ]
  },
  {
   "cell_type": "code",
   "execution_count": null,
   "metadata": {
    "colab": {
     "base_uri": "https://localhost:8080/"
    },
    "executionInfo": {
     "elapsed": 6,
     "status": "ok",
     "timestamp": 1749537580219,
     "user": {
      "displayName": "Emanuele Alberti",
      "userId": "01048477993232507094"
     },
     "user_tz": -120
    },
    "id": "sdJ3nYKWFii7",
    "outputId": "9be8ab7b-8d98-4f4d-9f8b-b59ac9c3ea77"
   },
   "outputs": [],
   "source": [
    "y_pred = results.predict(X_test_3_scaled)\n",
    "r2 = r2_score(y_test,y_pred)\n",
    "mse = mean_squared_error(y_test,y_pred)\n",
    "n = len(y_test)\n",
    "p = X_test_3_scaled.shape[1]\n",
    "adj_r2 = 1 - (1 - r2) * (n - 1) / (n - p - 1)\n",
    "print(f'R2: {r2:.4f}')\n",
    "print(f'adj_R2: {adj_r2:.4f}')\n",
    "print(f'MSE: {mse:.4f}')"
   ]
  },
  {
   "cell_type": "markdown",
   "metadata": {
    "id": "-MepDiXY1_Qv"
   },
   "source": [
    "### EF + creatinine + time"
   ]
  },
  {
   "cell_type": "markdown",
   "metadata": {
    "id": "sVaMlpZbSZTF"
   },
   "source": [
    "$$ bmi = \\beta_0 + \\beta_1 \\cdot ef + \\beta_2 \\cdot creatinine + \\beta_3 \\cdot time + \\epsilon $$"
   ]
  },
  {
   "cell_type": "code",
   "execution_count": null,
   "metadata": {
    "id": "tJPjLRSsDY7n"
   },
   "outputs": [],
   "source": [
    "# TODO"
   ]
  },
  {
   "cell_type": "markdown",
   "metadata": {
    "id": "Q4f4yPryPp8X"
   },
   "source": [
    "## Polynomial features"
   ]
  },
  {
   "cell_type": "markdown",
   "metadata": {
    "id": "oMFR-C3WSq2v"
   },
   "source": [
    "$$ bmi = \\beta_0 + \\beta_1 \\cdot ef + \\beta_2 \\cdot ef^2 + \\epsilon $$"
   ]
  },
  {
   "cell_type": "code",
   "execution_count": null,
   "metadata": {
    "id": "ZCymbOcNsZMB"
   },
   "outputs": [],
   "source": [
    "from sklearn.preprocessing import PolynomialFeatures"
   ]
  },
  {
   "cell_type": "code",
   "execution_count": null,
   "metadata": {
    "id": "2VmIeDfFqO5K"
   },
   "outputs": [],
   "source": [
    "variables = ['ejection_fraction']\n",
    "\n",
    "X_train_6 = X_train[variables]\n",
    "X_test_6 = X_test[variables]\n",
    "\n",
    "polynomial2 = PolynomialFeatures(degree=2, include_bias=True)\n",
    "X_train_6 = polynomial2.fit_transform(X_train_6)\n",
    "X_test_6 = polynomial2.fit_transform(X_test_6)"
   ]
  },
  {
   "cell_type": "code",
   "execution_count": null,
   "metadata": {
    "id": "G_7fWJOM6BCp"
   },
   "outputs": [],
   "source": [
    "variables = ['ejection_fraction']\n",
    "\n",
    "X_train_6 = X_train[variables]\n",
    "X_test_6 = X_test[variables]\n",
    "\n",
    "polynomial2 = PolynomialFeatures(degree=2, include_bias=True)\n",
    "X_train_6 = polynomial2.fit_transform(X_train_6)\n",
    "X_test_6 = polynomial2.fit_transform(X_test_6)\n",
    "\n",
    "scaler = StandardScaler()\n",
    "\n",
    "# Scale everything except the constant term (column index 0)\n",
    "X_train_6[:, 1:] = scaler.fit_transform(X_train_6[:, 1:])\n",
    "X_test_6[:, 1:] = scaler.transform(X_test_6[:, 1:])\n",
    "\n",
    "# Convert to DataFrame, maintaining the column names\n",
    "cols = ['const', 'ef', 'ef^2']\n",
    "#cols = polynomial2.get_feature_names_out()\n",
    "X_train_6 = pd.DataFrame(X_train_6, columns=cols, index=train_index)\n",
    "X_test_6 = pd.DataFrame(X_test_6, columns=cols, index=test_index)"
   ]
  },
  {
   "cell_type": "code",
   "execution_count": null,
   "metadata": {
    "colab": {
     "base_uri": "https://localhost:8080/",
     "height": 424
    },
    "executionInfo": {
     "elapsed": 2,
     "status": "ok",
     "timestamp": 1749537580227,
     "user": {
      "displayName": "Emanuele Alberti",
      "userId": "01048477993232507094"
     },
     "user_tz": -120
    },
    "id": "F-aiQCCI6BCq",
    "outputId": "cedd9857-2bda-4814-a93e-26aa6eba7673"
   },
   "outputs": [],
   "source": [
    "X_train_6"
   ]
  },
  {
   "cell_type": "code",
   "execution_count": null,
   "metadata": {
    "colab": {
     "base_uri": "https://localhost:8080/"
    },
    "executionInfo": {
     "elapsed": 47,
     "status": "ok",
     "timestamp": 1749549334607,
     "user": {
      "displayName": "Emanuele Alberti",
      "userId": "01048477993232507094"
     },
     "user_tz": -120
    },
    "id": "6Mchp_ON6BCq",
    "outputId": "d4b5febe-14e5-413b-b590-af9d29a7c70a"
   },
   "outputs": [],
   "source": [
    "model = sm.OLS(y_train, X_train_6)\n",
    "results = model.fit()\n",
    "print(results.summary())"
   ]
  },
  {
   "cell_type": "code",
   "execution_count": null,
   "metadata": {
    "colab": {
     "base_uri": "https://localhost:8080/"
    },
    "executionInfo": {
     "elapsed": 5,
     "status": "ok",
     "timestamp": 1749549336348,
     "user": {
      "displayName": "Emanuele Alberti",
      "userId": "01048477993232507094"
     },
     "user_tz": -120
    },
    "id": "vSGX6MMJ6BCr",
    "outputId": "ec605915-f897-4ebd-f80f-bfccef43118d"
   },
   "outputs": [],
   "source": [
    "y_pred = results.predict(X_test_6)\n",
    "r2 = r2_score(y_test,y_pred)\n",
    "mse = mean_squared_error(y_test,y_pred)\n",
    "n = len(y_test)\n",
    "p = X_test_6.shape[1]\n",
    "adj_r2 = 1 - (1 - r2) * (n - 1) / (n - p - 1)\n",
    "\n",
    "print(f'R2: {r2:.4f}')\n",
    "print(f'adj_R2: {adj_r2:.4f}')\n",
    "print(f'MSE: {mse:.4f}')"
   ]
  },
  {
   "cell_type": "code",
   "execution_count": null,
   "metadata": {
    "colab": {
     "base_uri": "https://localhost:8080/",
     "height": 716
    },
    "executionInfo": {
     "elapsed": 261,
     "status": "ok",
     "timestamp": 1749549338534,
     "user": {
      "displayName": "Emanuele Alberti",
      "userId": "01048477993232507094"
     },
     "user_tz": -120
    },
    "id": "oGFfUNlws9C3",
    "outputId": "ec28bddb-99db-42d6-8408-1b501e3c7a39"
   },
   "outputs": [],
   "source": [
    "## TODO: plot the line fitted by this polinomial regression, compare to the simple regression on ef\n",
    "X_plot = np.arange(np.min(X_train['ejection_fraction']),np.max(X_train['ejection_fraction']),0.1).reshape(-1,1)\n",
    "X_plot_6 = polynomial2.transform(X_plot)\n",
    "\n",
    "X_plot_6_scaled = X_plot_6\n",
    "X_plot_6_scaled[:,1:] = scaler.transform(X_plot_6_scaled[:,1:])\n",
    "y_plot_6 = results.predict(X_plot_6_scaled)\n",
    "\n",
    "sns.relplot(y=\"bmi\", x=\"ejection_fraction\", palette=\"muted\",\n",
    "            height=6, data=df)\n",
    "sns.lineplot(x=X_plot[:,0], y=y_plot_6,color='red')\n",
    "sns.lineplot(x=X_plot[:,0], y=y_plot,color='green')"
   ]
  },
  {
   "cell_type": "markdown",
   "metadata": {
    "id": "SfrgLIV5Rrn6"
   },
   "source": [
    "$$ bmi = \\beta_0 + \\beta_1 \\cdot ef + \\beta_2 \\cdot creatinine + \\beta_3 \\cdot ef^2 + \\beta_4 \\cdot ef \\cdot creatinine + \\beta_5 \\cdot creatinine^2 + \\epsilon $$"
   ]
  },
  {
   "cell_type": "code",
   "execution_count": null,
   "metadata": {
    "id": "Y5kq8Q5hOwGD"
   },
   "outputs": [],
   "source": [
    "variables = ['ejection_fraction', 'serum_creatinine']\n",
    "\n",
    "X_train_7 = X_train[variables]\n",
    "X_test_7 = X_test[variables]\n",
    "\n",
    "polynomial2 = PolynomialFeatures(degree=2, include_bias=True)\n",
    "X_train_7 = polynomial2.fit_transform(X_train_7)\n",
    "X_test_7 = polynomial2.fit_transform(X_test_7)\n",
    "\n",
    "scaler = StandardScaler()\n",
    "\n",
    "# Scale everything except the constant term (column index 0)\n",
    "X_train_7[:, 1:] = scaler.fit_transform(X_train_7[:, 1:])\n",
    "X_test_7[:, 1:] = scaler.transform(X_test_7[:, 1:])\n",
    "\n",
    "# Convert to DataFrame, maintaining the column names\n",
    "cols = polynomial2.get_feature_names_out()\n",
    "X_train_7 = pd.DataFrame(X_train_7, columns=cols, index=train_index)\n",
    "X_test_7 = pd.DataFrame(X_test_7, columns=cols, index=test_index)"
   ]
  },
  {
   "cell_type": "code",
   "execution_count": null,
   "metadata": {
    "colab": {
     "base_uri": "https://localhost:8080/"
    },
    "executionInfo": {
     "elapsed": 105,
     "status": "ok",
     "timestamp": 1749537580411,
     "user": {
      "displayName": "Emanuele Alberti",
      "userId": "01048477993232507094"
     },
     "user_tz": -120
    },
    "id": "TXNkiFtqsfv7",
    "outputId": "27fc0046-d353-4378-9a00-59da11ca2051"
   },
   "outputs": [],
   "source": [
    "model = sm.OLS(y_train, X_train_7)\n",
    "results = model.fit()\n",
    "print(results.summary())"
   ]
  },
  {
   "cell_type": "code",
   "execution_count": null,
   "metadata": {
    "colab": {
     "base_uri": "https://localhost:8080/"
    },
    "executionInfo": {
     "elapsed": 7,
     "status": "ok",
     "timestamp": 1749537580411,
     "user": {
      "displayName": "Emanuele Alberti",
      "userId": "01048477993232507094"
     },
     "user_tz": -120
    },
    "id": "w_Xc9Siosn6_",
    "outputId": "aede1de0-20fd-42e4-9bab-c87ab75c2b8a"
   },
   "outputs": [],
   "source": [
    "y_pred = results.predict(X_test_7)\n",
    "r2 = r2_score(y_test,y_pred)\n",
    "mse = mean_squared_error(y_test,y_pred)\n",
    "n = len(y_test)\n",
    "p = X_test_7.shape[1]\n",
    "adj_r2 = 1 - (1 - r2) * (n - 1) / (n - p - 1)\n",
    "print(f'R2: {r2:.4f}')\n",
    "print(f'adj_R2: {adj_r2:.4f}')\n",
    "print(f'MSE: {mse:.4f}')"
   ]
  },
  {
   "cell_type": "markdown",
   "metadata": {
    "id": "adyBL0d5SCXv"
   },
   "source": [
    "$$ bmi = \\beta_0 + \\beta_1 \\cdot ef + \\beta_2 \\cdot creatinine + \\beta_3 \\cdot ef \\cdot creatinine + \\beta_4 \\cdot creatinine^2 + \\epsilon $$"
   ]
  },
  {
   "cell_type": "code",
   "execution_count": null,
   "metadata": {
    "id": "P_2amWIE4Y3x"
   },
   "outputs": [],
   "source": [
    "X_train_8 = X_train_7.drop('ejection_fraction^2', axis=1)\n",
    "X_test_8 = X_test_7.drop('ejection_fraction^2', axis=1)"
   ]
  },
  {
   "cell_type": "code",
   "execution_count": null,
   "metadata": {
    "colab": {
     "base_uri": "https://localhost:8080/"
    },
    "executionInfo": {
     "elapsed": 5,
     "status": "ok",
     "timestamp": 1749537580415,
     "user": {
      "displayName": "Emanuele Alberti",
      "userId": "01048477993232507094"
     },
     "user_tz": -120
    },
    "id": "VVRlel6d4kf8",
    "outputId": "da3cb01f-322d-4b84-f0f3-19967cf3b897"
   },
   "outputs": [],
   "source": [
    "model = sm.OLS(y_train, X_train_8)\n",
    "results = model.fit()\n",
    "print(results.summary())"
   ]
  },
  {
   "cell_type": "code",
   "execution_count": null,
   "metadata": {
    "colab": {
     "base_uri": "https://localhost:8080/"
    },
    "executionInfo": {
     "elapsed": 6,
     "status": "ok",
     "timestamp": 1749537580422,
     "user": {
      "displayName": "Emanuele Alberti",
      "userId": "01048477993232507094"
     },
     "user_tz": -120
    },
    "id": "RXHruxVb4m-M",
    "outputId": "7298d7c3-9b19-4618-eeef-01d3c967b7ca"
   },
   "outputs": [],
   "source": [
    "y_pred = results.predict(X_test_8)\n",
    "r2 = r2_score(y_test,y_pred)\n",
    "mse = mean_squared_error(y_test,y_pred)\n",
    "n = len(y_test)\n",
    "p = X_test_8.shape[1]\n",
    "adj_r2 = 1 - (1 - r2) * (n - 1) / (n - p - 1)\n",
    "print(f'R2: {r2:.4f}')\n",
    "print(f'adj_R2: {adj_r2:.4f}')\n",
    "print(f'MSE: {mse:.4f}')"
   ]
  },
  {
   "cell_type": "markdown",
   "metadata": {
    "id": "wy6V5Tko0y0N"
   },
   "source": [
    "## Categorical Features"
   ]
  },
  {
   "cell_type": "markdown",
   "metadata": {
    "id": "ppFgrjXv09xg"
   },
   "source": [
    "To use them we need to transform categorical variables with one-hot encoding\n"
   ]
  },
  {
   "cell_type": "code",
   "execution_count": null,
   "metadata": {
    "colab": {
     "base_uri": "https://localhost:8080/",
     "height": 444
    },
    "executionInfo": {
     "elapsed": 2,
     "status": "ok",
     "timestamp": 1749537580423,
     "user": {
      "displayName": "Emanuele Alberti",
      "userId": "01048477993232507094"
     },
     "user_tz": -120
    },
    "id": "QWFQ-FGTl8vB",
    "outputId": "209919dd-3517-4b00-95af-b5af3f410021"
   },
   "outputs": [],
   "source": [
    "from sklearn.preprocessing import OneHotEncoder\n",
    "\n",
    "encoder = OneHotEncoder(drop='first', sparse_output=False)\n",
    "\n",
    "encoded_feature = encoder.fit_transform(df[cat_vars])\n",
    "df_encoded = pd.DataFrame(encoded_feature, columns=encoder.get_feature_names_out(cat_vars))\n",
    "df_encoded = pd.concat([df.drop(cat_vars, axis=1), df_encoded], axis=1)\n",
    "df_encoded"
   ]
  },
  {
   "cell_type": "markdown",
   "metadata": {
    "id": "CrF9oNLcScLV"
   },
   "source": [
    "$$ bmi = \\beta_0 + \\beta_1 \\cdot ef + \\beta_2 \\cdot death+ \\epsilon $$"
   ]
  },
  {
   "cell_type": "code",
   "execution_count": null,
   "metadata": {
    "id": "gDNtBHXYCw_J"
   },
   "outputs": [],
   "source": [
    "num_variables = ['ejection_fraction']\n",
    "cat_variables = ['DEATH_EVENT_True']\n",
    "\n",
    "X_train_9_num = X_train[num_variables]\n",
    "X_test_9_num = X_test[num_variables]\n",
    "\n",
    "X_train_9_cat = df_encoded.loc[train_index, cat_variables]\n",
    "X_test_9_cat = df_encoded.loc[test_index, cat_variables]\n",
    "\n",
    "\n",
    "# Concatenate the polynomial features with the one-hot encoded categorical variable\n",
    "X_train_9 = np.concatenate([X_train_9_num, X_train_9_cat], axis=1)\n",
    "X_test_9 = np.concatenate([X_test_9_num, X_test_9_cat], axis=1)\n",
    "\n",
    "cols = num_variables + cat_variables\n",
    "X_train_9 = pd.DataFrame(X_train_9, index=train_index, columns=cols)\n",
    "X_test_9 = pd.DataFrame(X_test_9, index=test_index, columns=cols)\n",
    "\n",
    "X_train_9 = sm.add_constant(X_train_9)\n",
    "X_test_9 = sm.add_constant(X_test_9)"
   ]
  },
  {
   "cell_type": "code",
   "execution_count": null,
   "metadata": {
    "colab": {
     "base_uri": "https://localhost:8080/"
    },
    "executionInfo": {
     "elapsed": 16,
     "status": "ok",
     "timestamp": 1749537580439,
     "user": {
      "displayName": "Emanuele Alberti",
      "userId": "01048477993232507094"
     },
     "user_tz": -120
    },
    "id": "fwg3LS4jDOjZ",
    "outputId": "3b33ba78-cb62-43a4-d9c3-7cc5b5c006c9"
   },
   "outputs": [],
   "source": [
    "model = sm.OLS(y_train, X_train_9)\n",
    "results = model.fit()\n",
    "print(results.summary())"
   ]
  },
  {
   "cell_type": "code",
   "execution_count": null,
   "metadata": {
    "colab": {
     "base_uri": "https://localhost:8080/",
     "height": 625
    },
    "executionInfo": {
     "elapsed": 243,
     "status": "ok",
     "timestamp": 1749537580682,
     "user": {
      "displayName": "Emanuele Alberti",
      "userId": "01048477993232507094"
     },
     "user_tz": -120
    },
    "id": "QsDfTltwDdxS",
    "outputId": "636f2e92-87d0-4da2-fce0-51817c5f7671"
   },
   "outputs": [],
   "source": [
    "X_plot = np.arange(np.min(df['ejection_fraction']), np.max(df['ejection_fraction']), 0.1).reshape(-1, 1)\n",
    "X_plot = sm.add_constant(X_plot)\n",
    "\n",
    "# Create two versions of X_plot, one with the binary variable = 0, one with binary variable = 1\n",
    "X_plot_0 = np.hstack([X_plot, np.zeros((X_plot.shape[0], 1))])  # Add column of 0's for binary_var = 0\n",
    "X_plot_1 = np.hstack([X_plot, np.ones((X_plot.shape[0], 1))])   # Add column of 1's for binary_var = 1\n",
    "\n",
    "y_plot_0 = results.predict(X_plot_0)  # Prediction for binary_var = 0\n",
    "y_plot_1 = results.predict(X_plot_1)  # Prediction for binary_var = 1\n",
    "\n",
    "sns.relplot(x=\"ejection_fraction\", y=\"bmi\", height=6, data=df, legend=False, hue='DEATH_EVENT', palette={0: 'green', 1: 'red'}, alpha=.5)\n",
    "\n",
    "sns.lineplot(x=X_plot[:, 1], y=y_plot_0, color='green', label='DEATH_EVENT_False')\n",
    "sns.lineplot(x=X_plot[:, 1], y=y_plot_1, color='red', label='DEATH_EVENT_True')"
   ]
  },
  {
   "cell_type": "code",
   "execution_count": null,
   "metadata": {
    "colab": {
     "base_uri": "https://localhost:8080/"
    },
    "executionInfo": {
     "elapsed": 3,
     "status": "ok",
     "timestamp": 1749537580686,
     "user": {
      "displayName": "Emanuele Alberti",
      "userId": "01048477993232507094"
     },
     "user_tz": -120
    },
    "id": "bsY46KWLDWjd",
    "outputId": "a3b36047-d00a-4046-cff6-aae3e7206b1f"
   },
   "outputs": [],
   "source": [
    "y_pred = results.predict(X_test_9)\n",
    "r2 = r2_score(y_test,y_pred)\n",
    "mse = mean_squared_error(y_test,y_pred)\n",
    "n = len(y_test)\n",
    "p = X_test_9.shape[1]\n",
    "adj_r2 = 1 - (1 - r2) * (n - 1) / (n - p - 1)\n",
    "print(f'R2: {r2:.4f}')\n",
    "print(f'adj_R2: {adj_r2:.4f}')\n",
    "print(f'MSE: {mse:.4f}')"
   ]
  },
  {
   "cell_type": "markdown",
   "metadata": {
    "id": "F7BAqzCYUPt6"
   },
   "source": [
    "$$ bmi = \\beta_0 + \\beta_1 \\cdot ef + \\beta_2 \\cdot creatinine + \\beta_3 \\cdot ef \\cdot creatinine + \\beta_4 \\cdot creatinine^2 + \\beta_5 \\cdot death+ \\epsilon $$"
   ]
  },
  {
   "cell_type": "code",
   "execution_count": null,
   "metadata": {
    "id": "NW4QAoZZ5lME"
   },
   "outputs": [],
   "source": [
    "num_variables = ['ejection_fraction', 'serum_creatinine']\n",
    "cat_variables = ['DEATH_EVENT_True']\n",
    "\n",
    "X_train_9_num = X_train[num_variables]\n",
    "X_test_9_num = X_test[num_variables]\n",
    "\n",
    "X_train_9_cat = df_encoded.loc[train_index, cat_variables]\n",
    "X_test_9_cat = df_encoded.loc[test_index, cat_variables]\n",
    "\n",
    "# Perform Polynomial Features transformation on the numerical data\n",
    "polynomial2 = PolynomialFeatures(degree=2, include_bias=True)\n",
    "X_train_9_poly = polynomial2.fit_transform(X_train_9_num)\n",
    "X_test_9_poly = polynomial2.fit_transform(X_test_9_num)\n",
    "\n",
    "# Scale the polynomial features except for the bias (constant) term\n",
    "scaler = StandardScaler()\n",
    "X_train_9_poly[:, 1:] = scaler.fit_transform(X_train_9_poly[:, 1:])\n",
    "X_test_9_poly[:, 1:] = scaler.transform(X_test_9_poly[:, 1:])\n",
    "\n",
    "# Concatenate the polynomial features with the one-hot encoded categorical variable\n",
    "X_train_9 = np.concatenate([X_train_9_poly, X_train_9_cat], axis=1)\n",
    "X_test_9 = np.concatenate([X_test_9_poly, X_test_9_cat], axis=1)\n",
    "\n",
    "# Convert to DataFrame for easier handling\n",
    "cols_poly = polynomial2.get_feature_names_out(num_variables)\n",
    "cols = np.concatenate([cols_poly, X_train_9_cat.columns])\n",
    "\n",
    "X_train_9 = pd.DataFrame(X_train_9, columns=cols, index=train_index)\n",
    "X_test_9 = pd.DataFrame(X_test_9, columns=cols, index=test_index)\n",
    "\n",
    "X_train_9.drop('ejection_fraction^2', axis=1, inplace=True)\n",
    "X_test_9.drop('ejection_fraction^2', axis=1, inplace=True)\n"
   ]
  },
  {
   "cell_type": "code",
   "execution_count": null,
   "metadata": {
    "colab": {
     "base_uri": "https://localhost:8080/"
    },
    "executionInfo": {
     "elapsed": 74,
     "status": "ok",
     "timestamp": 1749537580778,
     "user": {
      "displayName": "Emanuele Alberti",
      "userId": "01048477993232507094"
     },
     "user_tz": -120
    },
    "id": "obXc6JsG5lME",
    "outputId": "ef6eb00d-b6fd-4c7e-b3ed-a4c3168a69ea"
   },
   "outputs": [],
   "source": [
    "model = sm.OLS(y_train, X_train_9)\n",
    "results = model.fit()\n",
    "print(results.summary())"
   ]
  },
  {
   "cell_type": "code",
   "execution_count": null,
   "metadata": {
    "colab": {
     "base_uri": "https://localhost:8080/"
    },
    "executionInfo": {
     "elapsed": 70,
     "status": "ok",
     "timestamp": 1749537580778,
     "user": {
      "displayName": "Emanuele Alberti",
      "userId": "01048477993232507094"
     },
     "user_tz": -120
    },
    "id": "jokNsdBi5lME",
    "outputId": "5f0e9886-1d4b-49bd-b959-9a3365ffe9a5"
   },
   "outputs": [],
   "source": [
    "y_pred = results.predict(X_test_9)\n",
    "r2 = r2_score(y_test,y_pred)\n",
    "mse = mean_squared_error(y_test,y_pred)\n",
    "n = len(y_test)\n",
    "p = X_test_9.shape[1]\n",
    "adj_r2 = 1 - (1 - r2) * (n - 1) / (n - p - 1)\n",
    "print(f'R2: {r2:.4f}')\n",
    "print(f'adj_R2: {adj_r2:.4f}')\n",
    "print(f'MSE: {mse:.4f}')"
   ]
  },
  {
   "cell_type": "markdown",
   "metadata": {
    "id": "WEvYXx5P_iOX"
   },
   "source": [
    "# Diagnostics"
   ]
  },
  {
   "cell_type": "markdown",
   "metadata": {
    "id": "k-uCFe1J_vV8"
   },
   "source": [
    "Let's check the assumptions of linear regression.\n",
    "\n",
    "Assumptions:\n",
    "\n",
    "1. There is a linear relationship between the predictors and the response\n",
    "2. $\\epsilon_i$ (residuals) are indipendent\n",
    "3. $Var(\\epsilon_i) = \\sigma^2 \\quad \\forall i $ (homoschedasticity)\n",
    "\n",
    "and for inference:\n",
    "\n",
    "4. $\\epsilon_i \\sim N(0,\\sigma^2) \\quad \\forall i$ (normality) --- or at least large $n$ (sample size)"
   ]
  },
  {
   "cell_type": "markdown",
   "metadata": {
    "id": "D0ezNMI6mxhx"
   },
   "source": [
    "Let's consider the model\n",
    "\n",
    "$$ bmi = \\beta_0 + \\beta_1 \\cdot ef + \\beta_2 \\cdot creatinine + \\beta_3 \\cdot \\text{creatinine_phosphokinase} + \\epsilon $$"
   ]
  },
  {
   "cell_type": "code",
   "execution_count": null,
   "metadata": {
    "id": "Fi8bteRgr4vW"
   },
   "outputs": [],
   "source": [
    "variables = ['ejection_fraction', 'serum_creatinine', 'creatinine_phosphokinase']\n",
    "\n",
    "X_train_5 = X_train[variables]\n",
    "X_test_5 = X_test[variables]\n",
    "X_train_5 = sm.add_constant(X_train_5)\n",
    "X_test_5 = sm.add_constant(X_test_5)"
   ]
  },
  {
   "cell_type": "code",
   "execution_count": null,
   "metadata": {
    "colab": {
     "base_uri": "https://localhost:8080/"
    },
    "executionInfo": {
     "elapsed": 8,
     "status": "ok",
     "timestamp": 1749537580778,
     "user": {
      "displayName": "Emanuele Alberti",
      "userId": "01048477993232507094"
     },
     "user_tz": -120
    },
    "id": "BRiIa3KX8t5s",
    "outputId": "362c8baa-2301-4b1a-b439-d29e4e06ec8f"
   },
   "outputs": [],
   "source": [
    "model = sm.OLS(y_train, X_train_5)\n",
    "results = model.fit()\n",
    "print(results.summary())"
   ]
  },
  {
   "cell_type": "markdown",
   "metadata": {
    "id": "Tot0-zOz_8hM"
   },
   "source": [
    "## Independence"
   ]
  },
  {
   "cell_type": "markdown",
   "metadata": {
    "id": "p0-qUUAnAINj"
   },
   "source": [
    "Results summary includes Durbin-Watson test. The values of its test statistics are between 0 and 4. Values near 2 indicates no autocorrelation (independence), smaller values indicate positive autocorrelation, higher values negative autocorrelation"
   ]
  },
  {
   "cell_type": "code",
   "execution_count": null,
   "metadata": {
    "id": "T58pFRlOCTzy"
   },
   "outputs": [],
   "source": [
    "from statsmodels.stats.stattools import durbin_watson"
   ]
  },
  {
   "cell_type": "code",
   "execution_count": null,
   "metadata": {
    "colab": {
     "base_uri": "https://localhost:8080/"
    },
    "executionInfo": {
     "elapsed": 5,
     "status": "ok",
     "timestamp": 1749537580778,
     "user": {
      "displayName": "Emanuele Alberti",
      "userId": "01048477993232507094"
     },
     "user_tz": -120
    },
    "id": "MPgJZpUA__HN",
    "outputId": "00272690-6a07-49db-bff0-826227e813db"
   },
   "outputs": [],
   "source": [
    "durbin_watson(results.resid)"
   ]
  },
  {
   "cell_type": "markdown",
   "metadata": {
    "id": "5LRsGqoFs3yD"
   },
   "source": [
    "## Linearity and Homoschedasticity"
   ]
  },
  {
   "cell_type": "markdown",
   "metadata": {
    "id": "X2_fa4JAEiZ8"
   },
   "source": [
    "We can visually inspect the residuals to check both"
   ]
  },
  {
   "cell_type": "code",
   "execution_count": null,
   "metadata": {
    "colab": {
     "base_uri": "https://localhost:8080/",
     "height": 251
    },
    "executionInfo": {
     "elapsed": 157,
     "status": "error",
     "timestamp": 1749825754740,
     "user": {
      "displayName": "Emanuele Alberti",
      "userId": "01048477993232507094"
     },
     "user_tz": -120
    },
    "id": "zKaQI_8yElrz",
    "outputId": "a68aadb4-5ff3-4c00-c341-6c3c4b31ebbd"
   },
   "outputs": [],
   "source": [
    "fitted_vals = results.fittedvalues\n",
    "residuals = results.resid\n",
    "\n",
    "plt.figure(figsize=(8, 6))\n",
    "sns.residplot(x=fitted_vals, y=residuals, lowess=True,\n",
    "              line_kws={'color': 'red', 'lw': 1.5})  # Add a smooth trendline\n",
    "\n",
    "plt.axhline(0, color='black', linestyle='--', lw=2)  # Horizontal line at 0\n",
    "plt.xlabel('Fitted Values')\n",
    "plt.ylabel('Residuals')\n",
    "plt.title('Residuals vs Fitted Values for Linearity & Homoscedasticity Check')\n",
    "plt.show()"
   ]
  },
  {
   "cell_type": "markdown",
   "metadata": {
    "id": "PEhJdDSCHo5C"
   },
   "source": [
    "Breusch-Pagan statistical test for homoschedascity.\n",
    "\n",
    "*H0: residuals are homoschedastic*"
   ]
  },
  {
   "cell_type": "code",
   "execution_count": null,
   "metadata": {
    "colab": {
     "base_uri": "https://localhost:8080/"
    },
    "executionInfo": {
     "elapsed": 7,
     "status": "ok",
     "timestamp": 1749537580941,
     "user": {
      "displayName": "Emanuele Alberti",
      "userId": "01048477993232507094"
     },
     "user_tz": -120
    },
    "id": "u2E7nhyiEwv8",
    "outputId": "2c13eb0b-49c9-4279-8196-12487d3e349d"
   },
   "outputs": [],
   "source": [
    "from statsmodels.stats.diagnostic import het_breuschpagan\n",
    "\n",
    "bp_test = het_breuschpagan(results.resid, X_train_5)\n",
    "\n",
    "print(f'p-value: {bp_test[1]}')"
   ]
  },
  {
   "cell_type": "markdown",
   "metadata": {
    "id": "VA0zjEzv_7SO"
   },
   "source": [
    "## Gaussianity"
   ]
  },
  {
   "cell_type": "markdown",
   "metadata": {
    "id": "sZZDml13Caz6"
   },
   "source": [
    "Results summary includes the Jacques-Bera test for normality on residuals.\n",
    "\n",
    "*H0: data are gaussian.*\n",
    "\n",
    "This test has poor power for n < 100.\n",
    "\n",
    "Other methods we previosly saw are the QQ-plot (graphical) and the Shapiro-Wilk test (good power for n < 2000)"
   ]
  },
  {
   "cell_type": "code",
   "execution_count": null,
   "metadata": {
    "colab": {
     "base_uri": "https://localhost:8080/"
    },
    "executionInfo": {
     "elapsed": 6,
     "status": "ok",
     "timestamp": 1749537580947,
     "user": {
      "displayName": "Emanuele Alberti",
      "userId": "01048477993232507094"
     },
     "user_tz": -120
    },
    "id": "nGFEXtNnDGOh",
    "outputId": "798c19f7-af01-435c-c3a6-6ba9fd9acbdd"
   },
   "outputs": [],
   "source": [
    "print(f'Jacques-Bera test p-value: {results.diagn[\"jbpv\"]:.4f}')"
   ]
  },
  {
   "cell_type": "code",
   "execution_count": null,
   "metadata": {
    "colab": {
     "base_uri": "https://localhost:8080/"
    },
    "executionInfo": {
     "elapsed": 25,
     "status": "ok",
     "timestamp": 1749537580972,
     "user": {
      "displayName": "Emanuele Alberti",
      "userId": "01048477993232507094"
     },
     "user_tz": -120
    },
    "id": "bQTiXM49D3yC",
    "outputId": "6ce9ba52-94ae-4d20-c13e-cc079d8cc7d8"
   },
   "outputs": [],
   "source": [
    "sw = stats.shapiro(results.resid).pvalue\n",
    "print(f'Shapiro-Wilk test p-value: {sw:.4f}')"
   ]
  },
  {
   "cell_type": "code",
   "execution_count": null,
   "metadata": {
    "colab": {
     "base_uri": "https://localhost:8080/",
     "height": 472
    },
    "executionInfo": {
     "elapsed": 74,
     "status": "ok",
     "timestamp": 1749537581045,
     "user": {
      "displayName": "Emanuele Alberti",
      "userId": "01048477993232507094"
     },
     "user_tz": -120
    },
    "id": "G90j7E7gARxE",
    "outputId": "2996449a-2bc3-44dc-d1b1-c8817fc31746"
   },
   "outputs": [],
   "source": [
    "stats.probplot(results.resid, dist=\"norm\", plot=plt)\n",
    "plt.show()"
   ]
  },
  {
   "cell_type": "markdown",
   "metadata": {
    "id": "DRZALpmTG5Ma"
   },
   "source": [
    "## Transform y"
   ]
  },
  {
   "cell_type": "code",
   "execution_count": null,
   "metadata": {
    "colab": {
     "base_uri": "https://localhost:8080/"
    },
    "executionInfo": {
     "elapsed": 5,
     "status": "ok",
     "timestamp": 1749537581050,
     "user": {
      "displayName": "Emanuele Alberti",
      "userId": "01048477993232507094"
     },
     "user_tz": -120
    },
    "id": "fObpP6PUHeCY",
    "outputId": "1228bb7e-925a-40d3-cd7c-05e01b466870"
   },
   "outputs": [],
   "source": [
    "y_train_10 = np.sqrt(y_train)\n",
    "y_test_10 = np.sqrt(y_test)\n",
    "\n",
    "# y_train_10 = np.log(y_train + 1)\n",
    "# y_test_10 = np.log(y_test + 1)\n",
    "\n",
    "# y_train_10 = np.cbrt(y_train)\n",
    "# y_test_10 = np.cbrt(y_test)\n",
    "\n",
    "model = sm.OLS(y_train_10, X_train_5)\n",
    "results_new = model.fit()\n",
    "print(results.summary())"
   ]
  },
  {
   "cell_type": "code",
   "execution_count": null,
   "metadata": {
    "colab": {
     "base_uri": "https://localhost:8080/"
    },
    "executionInfo": {
     "elapsed": 3,
     "status": "ok",
     "timestamp": 1749537581054,
     "user": {
      "displayName": "Emanuele Alberti",
      "userId": "01048477993232507094"
     },
     "user_tz": -120
    },
    "id": "uK_pvqewHeCZ",
    "outputId": "56f19f16-a811-47b1-b92c-f82ef004c4b8"
   },
   "outputs": [],
   "source": [
    "y_pred = results_new.predict(X_test_5)\n",
    "r2 = r2_score(y_test_10,y_pred)\n",
    "mse = mean_squared_error(y_test_10,y_pred)\n",
    "n = len(y_test)\n",
    "p = X_test_5.shape[1]\n",
    "adj_r2 = 1 - (1 - r2) * (n - 1) / (n - p - 1)\n",
    "print(f'R2: {r2:.4f}')\n",
    "print(f'adj_R2: {adj_r2:.4f}')\n",
    "print(f'MSE: {mse:.4f}')"
   ]
  },
  {
   "cell_type": "code",
   "execution_count": null,
   "metadata": {
    "colab": {
     "base_uri": "https://localhost:8080/"
    },
    "executionInfo": {
     "elapsed": 3,
     "status": "ok",
     "timestamp": 1749537581058,
     "user": {
      "displayName": "Emanuele Alberti",
      "userId": "01048477993232507094"
     },
     "user_tz": -120
    },
    "id": "s6HKoFjGHnWB",
    "outputId": "ac2175e0-843c-476b-f478-2ab459c148d9"
   },
   "outputs": [],
   "source": [
    "sw = stats.shapiro(results_new.resid).pvalue\n",
    "print(f'Shapiro-Wilk test p-value: {sw:.4f}')"
   ]
  },
  {
   "cell_type": "code",
   "execution_count": null,
   "metadata": {
    "colab": {
     "base_uri": "https://localhost:8080/",
     "height": 472
    },
    "executionInfo": {
     "elapsed": 97,
     "status": "ok",
     "timestamp": 1749537581155,
     "user": {
      "displayName": "Emanuele Alberti",
      "userId": "01048477993232507094"
     },
     "user_tz": -120
    },
    "id": "ktH04vCfHnWC",
    "outputId": "beb9ea05-4afe-4384-b146-388f8028e571"
   },
   "outputs": [],
   "source": [
    "stats.probplot(results_new.resid, dist=\"norm\", plot=plt)\n",
    "plt.show()"
   ]
  },
  {
   "cell_type": "markdown",
   "metadata": {
    "id": "tzMb70iTB4he"
   },
   "source": [
    "## Leverages & outliers"
   ]
  },
  {
   "cell_type": "markdown",
   "metadata": {
    "id": "5wEcBaMgnzIs"
   },
   "source": [
    "**Outliers**: points with a very high residual (bad fit)\n",
    "Residuals are standardized so to make it easier to spot outliers (those outside +- 2 or +- 3)\n",
    "\n",
    "**Leverages**: points with unusual value\n",
    "\n",
    "Hat Matrix $H$ s.t. $\\hat{y}=Hy$\n",
    "\n",
    "$H = X(X^TX)^{-1}X^T$\n",
    "\n",
    "the leverage of point $i$ is $h_{ii} = x_i^T(X^TX)^{-1}x_i \\in (0,1)$\n",
    "\n",
    "\n",
    "\n",
    "**Cook's distanc**e: a mease of the point's overall influence of the model\n",
    "\n",
    "$$\n",
    "D_i = \\frac{\\epsilon_i^2}{k \\cdot \\sigma^2} \\cdot \\frac{h_{ii}}{(1-h_{ii})^2}\n",
    "$$\n",
    "\n",
    "comined the size of the (standardized) residuals, with respect to the model parameters, and the leverage"
   ]
  },
  {
   "cell_type": "code",
   "execution_count": null,
   "metadata": {
    "colab": {
     "base_uri": "https://localhost:8080/",
     "height": 880
    },
    "executionInfo": {
     "elapsed": 331,
     "status": "ok",
     "timestamp": 1749537581487,
     "user": {
      "displayName": "Emanuele Alberti",
      "userId": "01048477993232507094"
     },
     "user_tz": -120
    },
    "id": "eAq3YGPhB6nW",
    "outputId": "f71a6471-6dd7-42b5-9513-cd2d72cb808a"
   },
   "outputs": [],
   "source": [
    "fig, ax = plt.subplots(figsize=(10,10))\n",
    "sm.graphics.influence_plot(results, criterion=\"cooks\", ax=ax)"
   ]
  },
  {
   "cell_type": "code",
   "execution_count": null,
   "metadata": {
    "colab": {
     "base_uri": "https://localhost:8080/",
     "height": 424
    },
    "executionInfo": {
     "elapsed": 15,
     "status": "ok",
     "timestamp": 1749537581501,
     "user": {
      "displayName": "Emanuele Alberti",
      "userId": "01048477993232507094"
     },
     "user_tz": -120
    },
    "id": "ffXW4UJKNOWY",
    "outputId": "c94f60f9-4780-481d-a652-0393251289ad"
   },
   "outputs": [],
   "source": [
    "influence = results.get_influence()\n",
    "\n",
    "influence_df = influence.summary_frame()[['cooks_d', 'student_resid', 'hat_diag']]\n",
    "\n",
    "influence_df = influence_df.rename(columns={'hat_diag': 'leverage'}).sort_values(by='cooks_d', ascending=False)\n",
    "\n",
    "influence_df"
   ]
  },
  {
   "cell_type": "code",
   "execution_count": null,
   "metadata": {
    "colab": {
     "base_uri": "https://localhost:8080/",
     "height": 210
    },
    "executionInfo": {
     "elapsed": 2,
     "status": "ok",
     "timestamp": 1749537581503,
     "user": {
      "displayName": "Emanuele Alberti",
      "userId": "01048477993232507094"
     },
     "user_tz": -120
    },
    "id": "iJv8oajM0HOe",
    "outputId": "a2bac48f-6551-4fcf-f28f-b8149386297f"
   },
   "outputs": [],
   "source": [
    "X_train_5.loc[9]"
   ]
  },
  {
   "cell_type": "markdown",
   "metadata": {
    "id": "f94bDXCKGrqf"
   },
   "source": [
    "## Removing high leverage outliers"
   ]
  },
  {
   "cell_type": "code",
   "execution_count": null,
   "metadata": {
    "colab": {
     "base_uri": "https://localhost:8080/"
    },
    "executionInfo": {
     "elapsed": 19,
     "status": "ok",
     "timestamp": 1749537581523,
     "user": {
      "displayName": "Emanuele Alberti",
      "userId": "01048477993232507094"
     },
     "user_tz": -120
    },
    "id": "5Tjgm2YgFySX",
    "outputId": "e8cfe221-8e38-47c7-b609-c43cdc668711"
   },
   "outputs": [],
   "source": [
    "to_remove = [9]\n",
    "\n",
    "X_train_11 = X_train_5.drop(to_remove)\n",
    "y_train_11 = y_train.drop(to_remove)\n",
    "X_test_11 = X_test_5\n",
    "y_test_11 = y_test\n",
    "model = sm.OLS(y_train_11, X_train_11)\n",
    "results = model.fit()\n",
    "print(results.summary())"
   ]
  },
  {
   "cell_type": "code",
   "execution_count": null,
   "metadata": {
    "colab": {
     "base_uri": "https://localhost:8080/"
    },
    "executionInfo": {
     "elapsed": 13,
     "status": "ok",
     "timestamp": 1749537581537,
     "user": {
      "displayName": "Emanuele Alberti",
      "userId": "01048477993232507094"
     },
     "user_tz": -120
    },
    "id": "JYcoOEyXumFN",
    "outputId": "a85ce6ec-2c63-474d-d333-7d1a395dbda0"
   },
   "outputs": [],
   "source": [
    "sw = stats.shapiro(results.resid).pvalue\n",
    "print(f'Shapiro-Wilk test p-value: {sw:.4f}')"
   ]
  },
  {
   "cell_type": "code",
   "execution_count": null,
   "metadata": {
    "colab": {
     "base_uri": "https://localhost:8080/",
     "height": 472
    },
    "executionInfo": {
     "elapsed": 111,
     "status": "ok",
     "timestamp": 1749537581647,
     "user": {
      "displayName": "Emanuele Alberti",
      "userId": "01048477993232507094"
     },
     "user_tz": -120
    },
    "id": "GftbSXUzumFN",
    "outputId": "b5c0f589-5512-4f74-dbdd-1087fcddcb69"
   },
   "outputs": [],
   "source": [
    "stats.probplot(results.resid, dist=\"norm\", plot=plt)\n",
    "plt.show()"
   ]
  },
  {
   "cell_type": "code",
   "execution_count": null,
   "metadata": {
    "colab": {
     "base_uri": "https://localhost:8080/",
     "height": 564
    },
    "executionInfo": {
     "elapsed": 187,
     "status": "ok",
     "timestamp": 1749537581834,
     "user": {
      "displayName": "Emanuele Alberti",
      "userId": "01048477993232507094"
     },
     "user_tz": -120
    },
    "id": "em_QRdt1uu0q",
    "outputId": "91504773-9cc7-4650-fbf7-b7c2d666c705"
   },
   "outputs": [],
   "source": [
    "fitted_vals = results.fittedvalues\n",
    "residuals = results.resid\n",
    "\n",
    "plt.figure(figsize=(8, 6))\n",
    "sns.residplot(x=fitted_vals, y=residuals, lowess=True,\n",
    "              line_kws={'color': 'red', 'lw': 1.5})  # Add a smooth trendline\n",
    "\n",
    "plt.axhline(0, color='black', linestyle='--', lw=2)  # Horizontal line at 0\n",
    "plt.xlabel('Fitted Values')\n",
    "plt.ylabel('Residuals')\n",
    "plt.title('Residuals vs Fitted Values for Linearity & Homoscedasticity Check')\n",
    "plt.show()"
   ]
  },
  {
   "cell_type": "code",
   "execution_count": null,
   "metadata": {
    "colab": {
     "base_uri": "https://localhost:8080/"
    },
    "executionInfo": {
     "elapsed": 4,
     "status": "ok",
     "timestamp": 1749537581839,
     "user": {
      "displayName": "Emanuele Alberti",
      "userId": "01048477993232507094"
     },
     "user_tz": -120
    },
    "id": "O53Hf-Y1uu0r",
    "outputId": "2988540d-9a1c-4a05-8508-1f1b50f2d25b"
   },
   "outputs": [],
   "source": [
    "from statsmodels.stats.diagnostic import het_breuschpagan\n",
    "\n",
    "bp_test = het_breuschpagan(results.resid, X_train_11)\n",
    "\n",
    "print(f'p-value: {bp_test[1]}')"
   ]
  },
  {
   "cell_type": "markdown",
   "metadata": {
    "id": "epO1Qg-SyaKN"
   },
   "source": [
    "# Anscombe dataset"
   ]
  },
  {
   "cell_type": "markdown",
   "metadata": {
    "id": "SxSt_fj02IVt"
   },
   "source": [
    "Four datasets with nearly identical:\n",
    "\n",
    "* Mean of\n",
    "𝑥\n",
    "x and\n",
    "𝑦\n",
    "y\n",
    "\n",
    "* Variance of\n",
    "𝑥\n",
    "x and\n",
    "𝑦\n",
    "y\n",
    "\n",
    "* Correlation between\n",
    "𝑥\n",
    "x and\n",
    "𝑦\n",
    "y\n",
    "\n",
    "* Regression line (𝑦 = 3.00 + 0.50𝑥 )\n",
    "\n",
    "* $𝑅^2$\n",
    "  and residual standard error"
   ]
  },
  {
   "cell_type": "code",
   "execution_count": null,
   "metadata": {
    "colab": {
     "base_uri": "https://localhost:8080/",
     "height": 1000
    },
    "executionInfo": {
     "elapsed": 1238,
     "status": "ok",
     "timestamp": 1749537583214,
     "user": {
      "displayName": "Emanuele Alberti",
      "userId": "01048477993232507094"
     },
     "user_tz": -120
    },
    "id": "ROMsmybhyb--",
    "outputId": "5b1cbf79-7237-4c52-9c24-c3027e85625c"
   },
   "outputs": [],
   "source": [
    "import seaborn as sns\n",
    "import pandas as pd\n",
    "import matplotlib.pyplot as plt\n",
    "import statsmodels.api as sm\n",
    "\n",
    "# Load the built-in Anscombe dataset\n",
    "df = sns.load_dataset(\"anscombe\")\n",
    "\n",
    "# Prepare containers\n",
    "datasets = ['I', 'II', 'III', 'IV']\n",
    "models = {}\n",
    "\n",
    "# Plot setup: 2 rows x 4 columns\n",
    "fig, axes = plt.subplots(2, 4, figsize=(16, 8))\n",
    "fig.suptitle(\"Anscombe's Quartet: Regression & Residuals\", fontsize=16)\n",
    "\n",
    "for i, name in enumerate(datasets):\n",
    "    data = df[df['dataset'] == name]\n",
    "\n",
    "    x = data['x']\n",
    "    y = data['y']\n",
    "    X = sm.add_constant(x)\n",
    "    model = sm.OLS(y, X).fit()\n",
    "    models[name] = model\n",
    "\n",
    "    # Scatter plot with regression line (top row)\n",
    "    ax1 = axes[0, i]\n",
    "    ax1.scatter(x, y, color='blue')\n",
    "    ax1.plot(x, model.predict(X), color='red')\n",
    "    ax1.set_title(f'Dataset {i+1}')\n",
    "    ax1.set_xlabel('x')\n",
    "    ax1.set_ylabel('y')\n",
    "\n",
    "    # Residual plot (bottom row)\n",
    "    ax2 = axes[1, i]\n",
    "    ax2.scatter(x, model.resid, color='#ff6600')\n",
    "    ax2.axhline(0, color='gray', linestyle='--')\n",
    "    ax2.set_title(f'Residuals {i+1}')\n",
    "    ax2.set_xlabel('x')\n",
    "    ax2.set_ylabel('Residuals')\n",
    "\n",
    "# Show all plots\n",
    "plt.tight_layout(rect=[0, 0, 1, 0.95])\n",
    "plt.show()\n",
    "\n",
    "# Print regression summaries\n",
    "for name, model in models.items():\n",
    "    print(f\"\\n=== Summary for Dataset {name} ===\")\n",
    "    print(model.summary())\n"
   ]
  },
  {
   "cell_type": "code",
   "execution_count": null,
   "metadata": {
    "colab": {
     "base_uri": "https://localhost:8080/",
     "height": 1000
    },
    "executionInfo": {
     "elapsed": 181,
     "status": "ok",
     "timestamp": 1749537583394,
     "user": {
      "displayName": "Emanuele Alberti",
      "userId": "01048477993232507094"
     },
     "user_tz": -120
    },
    "id": "ag4u3TiQyqj4",
    "outputId": "1a5e2b85-8b2b-43e4-e5b4-87676f8321b9"
   },
   "outputs": [],
   "source": [
    "## TODO: for datasets III and IV compute leverages and Cook distances\n",
    "for dataset_label in ['III', 'IV']:\n",
    "    print(f\"Dataset {dataset_label}\")\n",
    "\n",
    "    # Filter data\n",
    "    data = df[df['dataset'] == dataset_label]\n",
    "    x = data['x']\n",
    "    y = data['y']\n",
    "    X = sm.add_constant(x)\n",
    "\n",
    "    # Fit OLS model\n",
    "    model = sm.OLS(y, X).fit()\n",
    "\n",
    "    # Get influence measures\n",
    "    influence = model.get_influence()\n",
    "    leverage = influence.hat_matrix_diag\n",
    "    cooks_d = influence.cooks_distance[0]  # [0] is Cook's D values, [1] are p-values\n",
    "\n",
    "    # Create result DataFrame\n",
    "    diagnostics_df = pd.DataFrame({\n",
    "        'x': x,\n",
    "        'y': y,\n",
    "        'leverage': leverage,\n",
    "        'cooks_distance': cooks_d,\n",
    "        'residuals': model.resid,\n",
    "        'standard_resid': influence.resid_studentized_internal\n",
    "    }, index=data.index)\n",
    "\n",
    "    print(diagnostics_df.round(3))\n",
    "\n",
    "    # Influence plot\n",
    "    fig, ax = plt.subplots(figsize=(6, 5))\n",
    "    sm.graphics.influence_plot(model, ax=ax, criterion=\"cooks\")\n",
    "    plt.title(f'Influence Plot - Dataset {dataset_label}')\n",
    "    plt.show()"
   ]
  },
  {
   "cell_type": "markdown",
   "metadata": {
    "id": "oKVWV3epsmDe"
   },
   "source": [
    "# Bias-variance tradeoff"
   ]
  },
  {
   "cell_type": "code",
   "execution_count": null,
   "metadata": {
    "colab": {
     "base_uri": "https://localhost:8080/",
     "height": 1000
    },
    "executionInfo": {
     "elapsed": 1916,
     "status": "ok",
     "timestamp": 1749537585313,
     "user": {
      "displayName": "Emanuele Alberti",
      "userId": "01048477993232507094"
     },
     "user_tz": -120
    },
    "id": "SE4vAwtZsnfC",
    "outputId": "edbc2f5d-3b2a-40c6-99a7-173a94230905"
   },
   "outputs": [],
   "source": [
    "from sklearn.metrics import r2_score\n",
    "\n",
    "np.random.seed(1)\n",
    "\n",
    "# True model\n",
    "def f(x): return 1 + x + x**2 - x**3\n",
    "sigma = 0.25\n",
    "\n",
    "# Generate data\n",
    "x = np.linspace(-1, 1.5, 21)\n",
    "y = f(x) + np.random.normal(0, sigma, size=x.shape)\n",
    "y_new = f(x) + np.random.normal(0, sigma, size=x.shape)\n",
    "\n",
    "# Build design matrix up to x^20\n",
    "X = np.column_stack([x**p for p in range(21)])\n",
    "X_df = pd.DataFrame(X, columns=[f'x{p}' for p in range(21)])\n",
    "\n",
    "# Grid for plotting\n",
    "x_plot = np.linspace(-1, 1.5, 210)\n",
    "X_plot = np.column_stack([x_plot**p for p in range(21)])\n",
    "X_plot_df = pd.DataFrame(X_plot, columns=[f'x{p}' for p in range(21)])\n",
    "\n",
    "# Plot data with true curve\n",
    "plt.figure(figsize=(8, 5))\n",
    "plt.plot(x, y, 'ko', label='Training Set')\n",
    "plt.plot(x, y_new, 'ro', label='Test Set')\n",
    "plt.plot(x_plot, f(x_plot), 'b--', label='True Mean')\n",
    "plt.legend(loc='lower right')\n",
    "plt.title(\"Training & Test Sets with True Function\")\n",
    "plt.grid(True)\n",
    "plt.show()\n",
    "\n",
    "# Metrics to store\n",
    "SSres, SSres_new, s2, R2, R2_adj, coeffs_all = [], [], [], [], [], []\n",
    "n = len(x)\n",
    "\n",
    "# Fit and plot polynomial models\n",
    "plt.figure(figsize=(16, 16))\n",
    "for p in range(1, 17):\n",
    "    X_train_p = X_df.iloc[:, :p+1]\n",
    "    X_plot_p = X_plot_df.iloc[:, :p+1]\n",
    "\n",
    "    model = sm.OLS(y, X_train_p).fit()\n",
    "    y_pred = model.predict(X_train_p)\n",
    "    y_pred_new = model.predict(X_train_p)\n",
    "    y_plot = model.predict(X_plot_p)\n",
    "\n",
    "    # Plot the fit\n",
    "    plt.subplot(4, 4, p)\n",
    "    plt.plot(x, y, 'ko', label='Train')\n",
    "    plt.plot(x, y_new, 'ro', label='Test')\n",
    "    plt.plot(x_plot, y_plot, 'k-', label='Model')\n",
    "    plt.plot(x_plot, f(x_plot), 'b--', label='True')\n",
    "    plt.title(f'{p}th Order Polynomial')\n",
    "    plt.xticks([]); plt.yticks([])\n",
    "\n",
    "    # Store metrics\n",
    "    res = y - y_pred\n",
    "    res_new = y_new - y_pred_new\n",
    "    SSres.append(np.sum(res**2))\n",
    "    SSres_new.append(np.sum(res_new**2))\n",
    "    s2.append(np.sum(res**2) / (n - (p + 1)))\n",
    "    r2 = r2_score(y, y_pred)\n",
    "    R2.append(r2)\n",
    "    R2_adj.append(1 - (1 - r2) * (n - 1) / (n - p - 1))\n",
    "\n",
    "    # Coefficients\n",
    "    coeffs = np.zeros(17)\n",
    "    coeffs[:p+1] = model.params\n",
    "    coeffs_all.append(coeffs)\n",
    "\n",
    "plt.tight_layout()\n",
    "plt.show()\n",
    "\n",
    "# Coefficients matrix\n",
    "b = np.array(coeffs_all).T\n",
    "\n",
    "# Compare model performance\n",
    "plt.figure(figsize=(12, 8))\n",
    "plt.subplot(2, 2, 1)\n",
    "plt.plot(range(1, 17), SSres, 'ko-')\n",
    "plt.axvline(3, color='blue', linestyle='--')\n",
    "plt.title(\"Sum of Squared Residuals (Train)\")\n",
    "\n",
    "plt.subplot(2, 2, 2)\n",
    "plt.plot(range(1, 17), SSres_new, 'ro-')\n",
    "plt.axvline(3, color='blue', linestyle='--')\n",
    "plt.title(\"Sum of Squared Residuals (Test)\")\n",
    "\n",
    "plt.subplot(2, 2, 3)\n",
    "plt.plot(range(1, 17), R2, 'go-')\n",
    "plt.axvline(3, color='blue', linestyle='--')\n",
    "plt.title(\"R²\")\n",
    "\n",
    "plt.subplot(2, 2, 4)\n",
    "plt.plot(range(1, 17), R2_adj, 'bo-')\n",
    "plt.axvline(3, color='blue', linestyle='--')\n",
    "plt.title(\"Adjusted R²\")\n",
    "\n",
    "plt.tight_layout()\n",
    "plt.show()\n",
    "\n",
    "# Compare coefficients\n",
    "b_true = np.array([1, 1, 1, -1] + [0]*13)\n",
    "plt.figure(figsize=(12, 8))\n",
    "for i in range(5):\n",
    "    plt.subplot(2, 3, i+1)\n",
    "    plt.plot(range(1, 17), b[i], 'ko-')\n",
    "    plt.axhline(b_true[i], color='blue')\n",
    "    plt.axvline(3, color='blue', linestyle='--')\n",
    "    plt.title(f'b[{i}]')\n",
    "    plt.grid(True)\n",
    "    if i == 0:\n",
    "        plt.legend(['Estimated', 'True Coefficient', 'True Order'])\n",
    "\n",
    "# Plot estimated variance\n",
    "plt.subplot(2, 3, 6)\n",
    "plt.plot(range(1, 17), s2, 'ko-')\n",
    "plt.axhline(sigma**2, color='blue')\n",
    "plt.axvline(3, color='blue', linestyle='--')\n",
    "plt.title(\"Estimated σ²\")\n",
    "plt.grid(True)\n",
    "\n",
    "plt.tight_layout()\n",
    "plt.show()\n"
   ]
  },
  {
   "cell_type": "code",
   "execution_count": null,
   "metadata": {
    "id": "Idh-Y1nhMrAQ"
   },
   "outputs": [],
   "source": []
  }
 ],
 "metadata": {
  "colab": {
   "provenance": [
    {
     "file_id": "1-xKjzWBBSbLRO_FVJW9YT6mHYHcTsy5B",
     "timestamp": 1749560265496
    },
    {
     "file_id": "1jxS3gdKnAatIERbhce63eOyC4BP49l3M",
     "timestamp": 1744270972276
    }
   ],
   "toc_visible": true
  },
  "kernelspec": {
   "display_name": ".venv",
   "language": "python",
   "name": "python3"
  },
  "language_info": {
   "codemirror_mode": {
    "name": "ipython",
    "version": 3
   },
   "file_extension": ".py",
   "mimetype": "text/x-python",
   "name": "python",
   "nbconvert_exporter": "python",
   "pygments_lexer": "ipython3",
   "version": "3.13.5"
  }
 },
 "nbformat": 4,
 "nbformat_minor": 0
}
