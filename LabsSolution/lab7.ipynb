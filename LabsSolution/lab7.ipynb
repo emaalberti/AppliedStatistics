{
 "cells": [
  {
   "cell_type": "markdown",
   "metadata": {
    "id": "sns-wuTyDFAs"
   },
   "source": [
    "**<font size=\"5\">Applied Statistics</font>**\n",
    "\n",
    "<font size=\"3\">MSc in High Performance Computing Engineering, Computer Science and Engineering, Physics Engineering - A.Y. 2024-2025</font>\n",
    "\n",
    "Prof. Mario Beraha - Dott. Vittorio Torri\n",
    "\n",
    "---\n",
    "\n",
    "<font size=\"4\">**Lab 7 - Logistic Regression**</font>"
   ]
  },
  {
   "cell_type": "markdown",
   "metadata": {
    "id": "ciEBGMI5alog"
   },
   "source": [
    "# Libraries"
   ]
  },
  {
   "cell_type": "code",
   "execution_count": null,
   "metadata": {
    "executionInfo": {
     "elapsed": 40,
     "status": "ok",
     "timestamp": 1752249604910,
     "user": {
      "displayName": "Emanuele Alberti",
      "userId": "01048477993232507094"
     },
     "user_tz": -120
    },
    "id": "V4tZOCOQanB9"
   },
   "outputs": [],
   "source": [
    "import pandas as pd\n",
    "pd.options.display.float_format = '{:.2f}'.format"
   ]
  },
  {
   "cell_type": "code",
   "execution_count": null,
   "metadata": {
    "executionInfo": {
     "elapsed": 11,
     "status": "ok",
     "timestamp": 1752249605260,
     "user": {
      "displayName": "Emanuele Alberti",
      "userId": "01048477993232507094"
     },
     "user_tz": -120
    },
    "id": "B56Kp3nQectc"
   },
   "outputs": [],
   "source": [
    "import matplotlib.pyplot as plt\n",
    "import seaborn as sns"
   ]
  },
  {
   "cell_type": "code",
   "execution_count": null,
   "metadata": {
    "executionInfo": {
     "elapsed": 11,
     "status": "ok",
     "timestamp": 1752239660590,
     "user": {
      "displayName": "Emanuele Alberti",
      "userId": "01048477993232507094"
     },
     "user_tz": -120
    },
    "id": "XBmIG3NMcLCO"
   },
   "outputs": [],
   "source": [
    "import numpy as np"
   ]
  },
  {
   "cell_type": "code",
   "execution_count": null,
   "metadata": {
    "executionInfo": {
     "elapsed": 335,
     "status": "ok",
     "timestamp": 1752239661390,
     "user": {
      "displayName": "Emanuele Alberti",
      "userId": "01048477993232507094"
     },
     "user_tz": -120
    },
    "id": "0qNen7Ljcx3t"
   },
   "outputs": [],
   "source": [
    "from sklearn.preprocessing import StandardScaler, MinMaxScaler\n",
    "from sklearn.model_selection import train_test_split"
   ]
  },
  {
   "cell_type": "code",
   "execution_count": null,
   "metadata": {
    "executionInfo": {
     "elapsed": 1846,
     "status": "ok",
     "timestamp": 1752239663432,
     "user": {
      "displayName": "Emanuele Alberti",
      "userId": "01048477993232507094"
     },
     "user_tz": -120
    },
    "id": "1_MvRLcN_No-"
   },
   "outputs": [],
   "source": [
    "import statsmodels.api as sm"
   ]
  },
  {
   "cell_type": "code",
   "execution_count": null,
   "metadata": {
    "executionInfo": {
     "elapsed": 1,
     "status": "ok",
     "timestamp": 1752239663435,
     "user": {
      "displayName": "Emanuele Alberti",
      "userId": "01048477993232507094"
     },
     "user_tz": -120
    },
    "id": "WcaQ5G3rJ5JR"
   },
   "outputs": [],
   "source": [
    "np.random.seed(1234)"
   ]
  },
  {
   "cell_type": "code",
   "execution_count": null,
   "metadata": {
    "executionInfo": {
     "elapsed": 0,
     "status": "ok",
     "timestamp": 1752239663436,
     "user": {
      "displayName": "Emanuele Alberti",
      "userId": "01048477993232507094"
     },
     "user_tz": -120
    },
    "id": "gEbCEGDUUmxr"
   },
   "outputs": [],
   "source": [
    "import scipy.stats as stats"
   ]
  },
  {
   "cell_type": "markdown",
   "metadata": {
    "id": "6vWzbwC_pr-7"
   },
   "source": [
    "# Load Dataset"
   ]
  },
  {
   "cell_type": "code",
   "execution_count": null,
   "metadata": {
    "executionInfo": {
     "elapsed": 1945,
     "status": "ok",
     "timestamp": 1752239667202,
     "user": {
      "displayName": "Emanuele Alberti",
      "userId": "01048477993232507094"
     },
     "user_tz": -120
    },
    "id": "KrcL7EH9YktP"
   },
   "outputs": [],
   "source": [
    "df = pd.read_csv('../DatasetsLabs/heart_failure_clinical_records_dataset_smhd.csv')  # Adjust the path as necessary"
   ]
  },
  {
   "cell_type": "code",
   "execution_count": null,
   "metadata": {
    "executionInfo": {
     "elapsed": 5,
     "status": "ok",
     "timestamp": 1752239667779,
     "user": {
      "displayName": "Emanuele Alberti",
      "userId": "01048477993232507094"
     },
     "user_tz": -120
    },
    "id": "qz4KsntemxVT"
   },
   "outputs": [],
   "source": [
    "cat_vars = ['anaemia', 'diabetes', 'high_blood_pressure',  'sex',  'smoking',  'DEATH_EVENT']\n",
    "num_vars = ['age', 'creatinine_phosphokinase', 'ejection_fraction', 'platelets', 'serum_creatinine', 'serum_sodium', 'bmi', 'time']"
   ]
  },
  {
   "cell_type": "markdown",
   "metadata": {
    "id": "44FLh9uKSq-V"
   },
   "source": [
    "# Binary Logistic Regression"
   ]
  },
  {
   "cell_type": "markdown",
   "metadata": {
    "id": "BPAZvVG-lCEF"
   },
   "source": [
    "We want to build a model to classify patients as dead or survived during follow-up: binary classification."
   ]
  },
  {
   "cell_type": "markdown",
   "metadata": {
    "id": "xTsQWu5MlLPV"
   },
   "source": [
    "We use a logistic regression model, which models the probability of the positive class (death) in the following way, where $x_1, ..., x_p$ are the input variables"
   ]
  },
  {
   "cell_type": "markdown",
   "metadata": {
    "id": "SNZToGSJk8mc"
   },
   "source": [
    "$$\n",
    "P(y = 1 | x) = \\frac{1}{1 + e^{-(\\beta_0 + \\beta_1 x_1 + \\beta_2 x_2 + \\dots + \\beta_p x_p)}}\n",
    "$$\n"
   ]
  },
  {
   "cell_type": "markdown",
   "metadata": {
    "id": "xPcrzyWG6TL7"
   },
   "source": [
    "## Model"
   ]
  },
  {
   "cell_type": "code",
   "execution_count": null,
   "metadata": {
    "executionInfo": {
     "elapsed": 20,
     "status": "ok",
     "timestamp": 1752239669032,
     "user": {
      "displayName": "Emanuele Alberti",
      "userId": "01048477993232507094"
     },
     "user_tz": -120
    },
    "id": "LnCDwYJHTgp6"
   },
   "outputs": [],
   "source": [
    "X = df[['age', 'bmi', 'anaemia', 'creatinine_phosphokinase', 'diabetes', 'high_blood_pressure', 'platelets', 'serum_creatinine', 'serum_sodium', 'sex', 'smoking', 'ejection_fraction', 'time']]\n",
    "y = df['DEATH_EVENT']\n",
    "\n",
    "X_train, X_test, y_train, y_test = train_test_split(X, y, test_size=0.20, random_state=1234)\n",
    "\n",
    "train_index = X_train.index\n",
    "test_index = X_test.index"
   ]
  },
  {
   "cell_type": "markdown",
   "metadata": {
    "id": "qcHNyWzdla_Y"
   },
   "source": [
    "We start using all numerical variables"
   ]
  },
  {
   "cell_type": "code",
   "execution_count": null,
   "metadata": {
    "colab": {
     "base_uri": "https://localhost:8080/"
    },
    "executionInfo": {
     "elapsed": 38,
     "status": "ok",
     "timestamp": 1752239671648,
     "user": {
      "displayName": "Emanuele Alberti",
      "userId": "01048477993232507094"
     },
     "user_tz": -120
    },
    "id": "-aCiTJE6Ssoo",
    "outputId": "4689bc95-0cc5-4521-ba16-383cce3017b0"
   },
   "outputs": [],
   "source": [
    "X_train_1 = X_train[num_vars]\n",
    "X_test_1 = X_test[num_vars]\n",
    "\n",
    "# Fit the logistic regression model\n",
    "logit_model = sm.Logit(y_train, X_train_1).fit()\n",
    "\n",
    "print(logit_model.summary())"
   ]
  },
  {
   "cell_type": "markdown",
   "metadata": {
    "id": "EeX64cY71vgm"
   },
   "source": [
    "By default statsmodels uses the Newton-Raphson iterative optimization method to maximize the likelihood, but other methods can be specified"
   ]
  },
  {
   "cell_type": "markdown",
   "metadata": {
    "id": "61bg1FXgw8sJ"
   },
   "source": [
    "Statsmodels compute the pseudo R^2 statistics using the McFadden's definition:\n",
    "\n",
    "$$pseudo_{R^2} = 1 - \\frac{LL}{LL_{Null}}$$\n",
    "\n",
    "It has values from 0 to 1 and it indicates the goodness of the model, but it's not the primary metric used to evaluate LR models"
   ]
  },
  {
   "cell_type": "markdown",
   "metadata": {
    "id": "6jJbqFPnA1tI"
   },
   "source": [
    "## Odds Ratios"
   ]
  },
  {
   "cell_type": "markdown",
   "metadata": {
    "id": "2qOnScyFBFKA"
   },
   "source": [
    "L'odd ratio è P/1-P cioè la probabilità che l'evento accade diviso la probabilità che l'evento non accade. L'odd ratio per una variabile è e^(coefficient), quindi:\n",
    "- odds ratio = 1 la variabile non ha effetto (coefficient = 0)\n",
    "- > 1 la variabile aumenta la prob dell'evneto\n",
    "- < 1 la variabile diminuisce la prob dell'evneto\n",
    "\n",
    "In a logistic model, the effect of the coefficient is different from a linear regression model. A k-unit increase in $x_j$ increases the risk by a factor of $exp(k \\cdot \\hat{\\beta_j})$. Odds ratios are defined as:\n",
    "\n",
    "$$\n",
    "OR_j = exp(\\hat{\\beta_j})\n",
    "$$"
   ]
  },
  {
   "cell_type": "code",
   "execution_count": null,
   "metadata": {
    "colab": {
     "base_uri": "https://localhost:8080/"
    },
    "executionInfo": {
     "elapsed": 9,
     "status": "ok",
     "timestamp": 1752239674596,
     "user": {
      "displayName": "Emanuele Alberti",
      "userId": "01048477993232507094"
     },
     "user_tz": -120
    },
    "id": "0B3Y8DFwA3pA",
    "outputId": "d0f80188-c9b4-4288-ff94-9d4818521b0c"
   },
   "outputs": [],
   "source": [
    "coef = logit_model.params\n",
    "odds_ratios = np.exp(coef)\n",
    "\n",
    "conf = logit_model.conf_int()\n",
    "conf.columns = ['2.5%', '97.5%']\n",
    "conf = np.exp(conf)  # Exponentiate to get ORs' CIs\n",
    "\n",
    "or_summary = pd.DataFrame({\n",
    "    \"Coefficient\": coef,\n",
    "    \"Odds Ratio\": odds_ratios,\n",
    "    \"2.5% CI OR\": conf['2.5%'],\n",
    "    \"97.5% CI OR\": conf['97.5%']\n",
    "})\n",
    "\n",
    "print(or_summary)"
   ]
  },
  {
   "cell_type": "code",
   "execution_count": null,
   "metadata": {
    "id": "bdwVNZig0Arf"
   },
   "outputs": [],
   "source": [
    "# Sort by odds ratio for better visualization\n",
    "or_summary = or_summary.sort_values(by=\"Odds Ratio\", ascending=False)\n",
    "\n",
    "fig, ax = plt.subplots(figsize=(8, len(or_summary) * 0.6))\n",
    "\n",
    "# Plot the OR as points\n",
    "ax.errorbar(or_summary['Odds Ratio'], or_summary.index,\n",
    "            xerr=[or_summary['Odds Ratio'] - or_summary['2.5% CI OR'], or_summary['97.5% CI OR'] - or_summary['Odds Ratio']],\n",
    "            fmt='o', color='darkblue', ecolor='lightgray', elinewidth=3, capsize=4)\n",
    "\n",
    "# Add a vertical line at OR = 1 (no effect)\n",
    "ax.axvline(1, color='red', linestyle='--')\n",
    "\n",
    "# Set labels\n",
    "ax.set_xlabel(\"Odds Ratio (log scale)\")\n",
    "ax.set_title(\"Forest Plot of Odds Ratios with 95% CI\")\n",
    "ax.set_xscale(\"log\")  # Log scale for better visualization\n",
    "\n",
    "plt.show()"
   ]
  },
  {
   "cell_type": "markdown",
   "metadata": {
    "id": "hz-lbU45_5QZ"
   },
   "source": [
    "Infatti come si può notare all'aumentare della age, si avrà sempre un aumento della probabilità di morte"
   ]
  },
  {
   "cell_type": "markdown",
   "metadata": {
    "id": "kr7pPzqXATxW"
   },
   "source": [
    "## Confusion Matrix"
   ]
  },
  {
   "cell_type": "code",
   "execution_count": null,
   "metadata": {
    "executionInfo": {
     "elapsed": 42,
     "status": "ok",
     "timestamp": 1752239966448,
     "user": {
      "displayName": "Emanuele Alberti",
      "userId": "01048477993232507094"
     },
     "user_tz": -120
    },
    "id": "30UdjbOQ3ycF"
   },
   "outputs": [],
   "source": [
    "from sklearn.metrics import confusion_matrix"
   ]
  },
  {
   "cell_type": "code",
   "execution_count": null,
   "metadata": {
    "executionInfo": {
     "elapsed": 4,
     "status": "ok",
     "timestamp": 1752239967002,
     "user": {
      "displayName": "Emanuele Alberti",
      "userId": "01048477993232507094"
     },
     "user_tz": -120
    },
    "id": "_8w02RtK0wSY"
   },
   "outputs": [],
   "source": [
    "y_test_pred_prob = logit_model.predict(X_test_1)"
   ]
  },
  {
   "cell_type": "code",
   "execution_count": null,
   "metadata": {
    "colab": {
     "base_uri": "https://localhost:8080/",
     "height": 1000
    },
    "executionInfo": {
     "elapsed": 23,
     "status": "ok",
     "timestamp": 1752239967472,
     "user": {
      "displayName": "Emanuele Alberti",
      "userId": "01048477993232507094"
     },
     "user_tz": -120
    },
    "id": "z4ec-y9lEtHm",
    "outputId": "9fc65b06-6cb3-415b-c122-0fdeb2f381a5"
   },
   "outputs": [],
   "source": [
    "y_test_pred_prob"
   ]
  },
  {
   "cell_type": "code",
   "execution_count": null,
   "metadata": {
    "executionInfo": {
     "elapsed": 4,
     "status": "ok",
     "timestamp": 1752239969750,
     "user": {
      "displayName": "Emanuele Alberti",
      "userId": "01048477993232507094"
     },
     "user_tz": -120
    },
    "id": "QDPNGdh0Exzt"
   },
   "outputs": [],
   "source": [
    "# Convert probabilities to binary outcomes based on a threshold\n",
    "threshold = 0.5\n",
    "y_test_pred_class = (y_test_pred_prob > threshold).astype(int)"
   ]
  },
  {
   "cell_type": "code",
   "execution_count": null,
   "metadata": {
    "colab": {
     "base_uri": "https://localhost:8080/"
    },
    "executionInfo": {
     "elapsed": 11,
     "status": "ok",
     "timestamp": 1752239972298,
     "user": {
      "displayName": "Emanuele Alberti",
      "userId": "01048477993232507094"
     },
     "user_tz": -120
    },
    "id": "UI1fOJ1YUh3j",
    "outputId": "ab535091-9152-4693-bc0b-d9a05878444b"
   },
   "outputs": [],
   "source": [
    "print(\"Confusion Matrix on Test Set:\")\n",
    "print(confusion_matrix(y_test, y_test_pred_class))"
   ]
  },
  {
   "cell_type": "markdown",
   "metadata": {
    "id": "cHZIOeScqBJQ"
   },
   "source": [
    "With a more nice visualization:"
   ]
  },
  {
   "cell_type": "code",
   "execution_count": null,
   "metadata": {
    "colab": {
     "base_uri": "https://localhost:8080/",
     "height": 564
    },
    "executionInfo": {
     "elapsed": 302,
     "status": "ok",
     "timestamp": 1752240133314,
     "user": {
      "displayName": "Emanuele Alberti",
      "userId": "01048477993232507094"
     },
     "user_tz": -120
    },
    "id": "uvyzUja1pk8T",
    "outputId": "d4d90176-b357-4781-8a7e-88476ef2df97"
   },
   "outputs": [],
   "source": [
    "cm = confusion_matrix(y_test, y_test_pred_class)\n",
    "\n",
    "class_names = ['Survived', 'Dead']\n",
    "\n",
    "plt.figure(figsize=(8, 6))\n",
    "sns.heatmap(cm, annot=True, fmt=\"d\", cmap=\"Blues\", xticklabels=class_names, yticklabels=class_names)\n",
    "plt.xlabel(\"Predicted Label\")\n",
    "plt.ylabel(\"True Label\")\n",
    "plt.title(\"Confusion Matrix\")\n",
    "plt.show()"
   ]
  },
  {
   "cell_type": "markdown",
   "metadata": {
    "id": "ZZSVA8hw2J5a"
   },
   "source": [
    "[  TN    FP  \n",
    "   FN    TP]"
   ]
  },
  {
   "cell_type": "markdown",
   "metadata": {
    "id": "6t56rgWxASPc"
   },
   "source": [
    "## AUC"
   ]
  },
  {
   "cell_type": "markdown",
   "metadata": {
    "id": "fXXMAvxSouKd"
   },
   "source": [
    "The Receiver-Operating-Characteristic Curve (ROC Curve) plots the FPR vs TPR at varying the classification threshold from 0 to 1, where\n",
    "\n",
    "$$TPR = \\frac{TP}{TP+FN} (= Sensitivity = Recall)$$\n",
    "\n",
    "$$FPR = \\frac{FP}{FP+TN}$$"
   ]
  },
  {
   "cell_type": "markdown",
   "metadata": {
    "id": "-oOlWKz6pLus"
   },
   "source": [
    "The ideal point is (0,1), which maximizes the TPR and minimizes the FPR"
   ]
  },
  {
   "cell_type": "markdown",
   "metadata": {
    "id": "GnA3n0fVpQ0Z"
   },
   "source": [
    "The Area Under the Curve (AUC) is a measure of goodness of the model that is not influences by the choice of a classification threshold"
   ]
  },
  {
   "cell_type": "code",
   "execution_count": null,
   "metadata": {
    "colab": {
     "base_uri": "https://localhost:8080/",
     "height": 564
    },
    "executionInfo": {
     "elapsed": 469,
     "status": "ok",
     "timestamp": 1752240223673,
     "user": {
      "displayName": "Emanuele Alberti",
      "userId": "01048477993232507094"
     },
     "user_tz": -120
    },
    "id": "9Wk-ZcRU3F4y",
    "outputId": "14c3aac9-deb7-46b3-b87d-a8c4a68bb8f0"
   },
   "outputs": [],
   "source": [
    "from sklearn.metrics import roc_curve\n",
    "\n",
    "fpr, tpr, _ = roc_curve(y_test, y_test_pred_prob)\n",
    "\n",
    "# Plot the ROC Curve\n",
    "plt.figure(figsize=(8, 6))\n",
    "plt.plot(fpr, tpr, color='blue', label=f\"ROC Curve\")\n",
    "\n",
    "# Plot the diagonal line representing random chance\n",
    "plt.plot([0, 1], [0, 1], color='gray', linestyle='--', label=\"Chance\")\n",
    "\n",
    "# Labels and legend\n",
    "plt.xlabel(\"False Positive Rate\")\n",
    "plt.ylabel(\"True Positive Rate\")\n",
    "plt.title(\"ROC Curve for Binary Classification\")\n",
    "plt.legend(loc=\"lower right\")\n",
    "plt.show()\n"
   ]
  },
  {
   "cell_type": "code",
   "execution_count": null,
   "metadata": {
    "id": "retBsP9QeJxr"
   },
   "outputs": [],
   "source": [
    "from sklearn.metrics import roc_auc_score\n",
    "\n",
    "auc_score = roc_auc_score(y_test, y_test_pred_prob)\n",
    "print(f\"ROC-AUC Score on Test Set: {auc_score}\")"
   ]
  },
  {
   "cell_type": "markdown",
   "metadata": {
    "id": "-sUQYEcdARk7"
   },
   "source": [
    "## Accuracy, Precision, Recall/Sensitivity, F1-Score, Specificity"
   ]
  },
  {
   "cell_type": "markdown",
   "metadata": {
    "id": "7uT-Y4G2n3YD"
   },
   "source": [
    "$$Accuracy = \\frac{TP+TN}{TP+FP+TN+FN}$$\n",
    "$$Precision = \\frac{TP}{TP+FP}$$\n",
    "$$Recall = Sensitivity = \\frac{TP}{TP+FN}$$\n",
    "$$\\text{F1-Score} = \\frac{2 \\cdot Precision \\cdot Recall}{Precision + Recall}$$\n",
    "$$Specificity = \\frac{TN}{TN+FP}$$"
   ]
  },
  {
   "cell_type": "code",
   "execution_count": null,
   "metadata": {
    "id": "nbtAwP9ZUiiO"
   },
   "outputs": [],
   "source": [
    "from sklearn.metrics import classification_report\n",
    "\n",
    "print(\"\\nClassification Report on Test Set:\")\n",
    "print(classification_report(y_test, y_test_pred_class, target_names=['Survived', 'Dead']))"
   ]
  },
  {
   "cell_type": "code",
   "execution_count": null,
   "metadata": {
    "id": "Xnpc_akvIcIp"
   },
   "outputs": [],
   "source": [
    "from sklearn.metrics import confusion_matrix\n",
    "cm = confusion_matrix(y_test, y_test_pred_class)\n",
    "cm"
   ]
  },
  {
   "cell_type": "code",
   "execution_count": null,
   "metadata": {
    "id": "rgqNrAdHoU0R"
   },
   "outputs": [],
   "source": [
    "## TODO: try to compute the specificity from the confusion matrix\n",
    "tn, fp, fn, tp = cm.ravel()\n",
    "specificity = tn / (tn + fp) #percentuale di negativi che\n",
    "\n",
    "print(f\"Specificity on Test Set: {specificity}\") # It is the recall of class that we defined as negative (Survived)"
   ]
  },
  {
   "cell_type": "markdown",
   "metadata": {
    "id": "PYqAh7M8DPdN"
   },
   "source": [
    "## Choice of the threshold"
   ]
  },
  {
   "cell_type": "markdown",
   "metadata": {
    "id": "_uv3fLGcm0bD"
   },
   "source": [
    "Using 0.5 as threshold is the most common choice, but it might not be the optimal one, especially in case of class unbalance"
   ]
  },
  {
   "cell_type": "markdown",
   "metadata": {
    "id": "O2gf7g7mDbKS"
   },
   "source": [
    "One suggest value is the percentage of negative samples"
   ]
  },
  {
   "cell_type": "code",
   "execution_count": null,
   "metadata": {
    "id": "kcqNCkXFDRh4"
   },
   "outputs": [],
   "source": [
    "optimal_threshold_1 = 1 - df['DEATH_EVENT'].mean() # 1 - % of positive samples"
   ]
  },
  {
   "cell_type": "code",
   "execution_count": null,
   "metadata": {
    "id": "h1N52rlqD79W"
   },
   "outputs": [],
   "source": [
    "optimal_threshold_1"
   ]
  },
  {
   "cell_type": "code",
   "execution_count": null,
   "metadata": {
    "id": "vCao_b_sD9Th"
   },
   "outputs": [],
   "source": [
    "y_test_pred_class = (y_test_pred_prob > optimal_threshold_1).astype(int)\n",
    "\n",
    "print(\"Confusion Matrix on Test Set:\")\n",
    "print(confusion_matrix(y_test, y_test_pred_class))"
   ]
  },
  {
   "cell_type": "code",
   "execution_count": null,
   "metadata": {
    "id": "eRtk7-Lr44zN"
   },
   "outputs": [],
   "source": [
    "tn, fp, fn, tp = confusion_matrix(y_test, y_test_pred_class).ravel()\n",
    "\n",
    "tpr_1 = tp / (tp + fn)  # Sensitivity or Recall or TPR\n",
    "fpr_1 = fp / (fp + tn)  # False Positive Rate (FPR)"
   ]
  },
  {
   "cell_type": "code",
   "execution_count": null,
   "metadata": {
    "id": "TWdx2CuyEDvP"
   },
   "outputs": [],
   "source": [
    "print(\"\\nClassification Report on Test Set:\")\n",
    "print(classification_report(y_test, y_test_pred_class, target_names=['Survived', 'Dead']))"
   ]
  },
  {
   "cell_type": "code",
   "execution_count": null,
   "metadata": {
    "id": "eCvRsIeb4SVU"
   },
   "outputs": [],
   "source": [
    "# Plot ROC Curve\n",
    "plt.figure(figsize=(8, 6))\n",
    "plt.plot(fpr, tpr, color='blue', label=f\"ROC Curve\")\n",
    "\n",
    "# Plot the optimal threshold point\n",
    "plt.scatter(fpr_1, tpr_1, color='orange', s=100, label=f\"Threshold with Proportion of Negative Samples (= {optimal_threshold_1:.2f})\")\n",
    "\n",
    "\n",
    "# Plot the diagonal line representing random chance\n",
    "plt.plot([0, 1], [0, 1], color='gray', linestyle='--', label=\"Chance\")\n",
    "\n",
    "# Labels and legend\n",
    "plt.xlabel(\"False Positive Rate\")\n",
    "plt.ylabel(\"True Positive Rate\")\n",
    "plt.title(\"ROC Curve with Threshold = Proportion of negative samples\")\n",
    "plt.legend(loc=\"lower right\")\n",
    "plt.show()"
   ]
  },
  {
   "cell_type": "code",
   "execution_count": null,
   "metadata": {
    "id": "s8n45CJrQu9q"
   },
   "outputs": [],
   "source": [
    "fpr, tpr, thresholds= roc_curve(y_test, y_test_pred_prob)\n",
    "thresholds"
   ]
  },
  {
   "cell_type": "code",
   "execution_count": null,
   "metadata": {
    "id": "vzpZcaGSQ1ob"
   },
   "outputs": [],
   "source": [
    "#calcolare la roc curve per un valore del threshold dato\n",
    "threshold = 0.5\n",
    "probabilities = logit_model.predict(X_test_1)\n",
    "y_pred = [1 if p>threshold else 0 for p in probabilities]\n",
    "cm = confusion_matrix(y_test, y_pred)\n",
    "tn, fp, fn, tp = cm.ravel()\n",
    "\n",
    "# fpr = fp / (fp + tn)\n",
    "# tpr = tp / (tp + fn)\n",
    "#oppure\n",
    "\n",
    "fpr, tpr, thresholds = roc_curve(y_test, probabilities)\n",
    "thresholds"
   ]
  },
  {
   "cell_type": "markdown",
   "metadata": {
    "id": "3VD6JSEMu8cZ"
   },
   "source": [
    "# Multiclass logistic regression"
   ]
  },
  {
   "cell_type": "markdown",
   "metadata": {
    "id": "pnd5ntmCsYYf"
   },
   "source": [
    "We want to develop a model to classify HF patients in three ejection fraction classes"
   ]
  },
  {
   "cell_type": "code",
   "execution_count": null,
   "metadata": {
    "executionInfo": {
     "elapsed": 10,
     "status": "ok",
     "timestamp": 1752247076129,
     "user": {
      "displayName": "Emanuele Alberti",
      "userId": "01048477993232507094"
     },
     "user_tz": -120
    },
    "id": "M_Kb3v-8vALA"
   },
   "outputs": [],
   "source": [
    "df['ef_cat'] = pd.cut(df['ejection_fraction'], bins=[0,40,50,100], labels=['reduced', 'mildly reduced', 'preserved'])"
   ]
  },
  {
   "cell_type": "code",
   "execution_count": null,
   "metadata": {
    "colab": {
     "base_uri": "https://localhost:8080/",
     "height": 424
    },
    "executionInfo": {
     "elapsed": 8,
     "status": "ok",
     "timestamp": 1752247077132,
     "user": {
      "displayName": "Emanuele Alberti",
      "userId": "01048477993232507094"
     },
     "user_tz": -120
    },
    "id": "foe7WAnRq5Bw",
    "outputId": "e5d70300-6968-4e4f-af30-8146b57f285f"
   },
   "outputs": [],
   "source": [
    "df[['ejection_fraction', 'ef_cat']]"
   ]
  },
  {
   "cell_type": "markdown",
   "metadata": {
    "id": "UCFYHo876QCC"
   },
   "source": [
    "## Model"
   ]
  },
  {
   "cell_type": "markdown",
   "metadata": {
    "id": "gz1wIkgv2_Ot"
   },
   "source": [
    "A multinomial logistic regression model assumes a baseline class (assume the *K*-th without loss of generality) and computes a set of coefficients for each other class *k*:\n",
    "\n",
    "$$\n",
    "P(y = k | x) = \\frac{e^{\\beta_{k0} + \\beta_{k1} x_1 + \\beta_{k2} x_2 + \\dots + \\beta_{kp} x_p}}{1 + \\sum_{j=1}^{K-1} e^{\\beta_{j0} + \\beta_{j1} x_1 + \\beta_{j2} x_2 + \\dots + \\beta_{jp} x_p}} \\quad\\text{for }k < K \\\\\n",
    "P(y = K | x) = \\frac{1}{1 + \\sum_{j=1}^{K-1} e^{\\beta_{j0} + \\beta_{j1} x_1 + \\beta_{j2} x_2 + \\dots + \\beta_{jp} x_p}}\n",
    "$$"
   ]
  },
  {
   "cell_type": "markdown",
   "metadata": {
    "id": "XdEESfgYtOTo"
   },
   "source": [
    "The multinomial logistic regression model implemented in the *statsmodels* library requires categorical input variables to be *one-hot encoded*"
   ]
  },
  {
   "cell_type": "code",
   "execution_count": null,
   "metadata": {
    "executionInfo": {
     "elapsed": 16,
     "status": "ok",
     "timestamp": 1752247079611,
     "user": {
      "displayName": "Emanuele Alberti",
      "userId": "01048477993232507094"
     },
     "user_tz": -120
    },
    "id": "BSSK0VCjvlOa"
   },
   "outputs": [],
   "source": [
    "df_encoded = pd.get_dummies(df, columns=cat_vars, drop_first=True, dtype=int) # another way to apply one-hot encoding"
   ]
  },
  {
   "cell_type": "code",
   "execution_count": null,
   "metadata": {
    "colab": {
     "base_uri": "https://localhost:8080/",
     "height": 1000
    },
    "executionInfo": {
     "elapsed": 43,
     "status": "ok",
     "timestamp": 1752247081209,
     "user": {
      "displayName": "Emanuele Alberti",
      "userId": "01048477993232507094"
     },
     "user_tz": -120
    },
    "id": "MnLo4CWHvL7g",
    "outputId": "0da91a6c-30a2-493c-f260-20688895a8b5"
   },
   "outputs": [],
   "source": [
    "\n",
    "X = df_encoded[['age', 'bmi', 'serum_sodium', 'serum_creatinine', 'diabetes_1', 'sex_Male', 'smoking_1', 'high_blood_pressure_1', 'anaemia_1']]\n",
    "y = df_encoded['ef_cat']  # Multiclass target variable\n",
    "\n",
    "X = sm.add_constant(X)\n",
    "\n",
    "X_train, X_test, y_train, y_test = train_test_split(X, y, test_size=0.2, random_state=1234, stratify=y) #STRATIFICATION WITH RESPECT TO THE TARGET CLASS\n",
    "\n",
    "model = sm.MNLogit(y_train, X_train)\n",
    "result = model.fit()\n",
    "\n",
    "result.predict(X_test)"
   ]
  },
  {
   "cell_type": "code",
   "execution_count": null,
   "metadata": {
    "colab": {
     "base_uri": "https://localhost:8080/",
     "height": 363
    },
    "executionInfo": {
     "elapsed": 14,
     "status": "ok",
     "timestamp": 1752247087588,
     "user": {
      "displayName": "Emanuele Alberti",
      "userId": "01048477993232507094"
     },
     "user_tz": -120
    },
    "id": "Bwm3leiFOc3X",
    "outputId": "a9662ced-16c0-4257-d09b-0f0bdfd11847"
   },
   "outputs": [],
   "source": [
    "np.exp(result.params).rename(columns={0: 'mildly_reduced OR', 1:'preserved OR'})"
   ]
  },
  {
   "cell_type": "code",
   "execution_count": null,
   "metadata": {
    "id": "dBSEKo6BTwhr"
   },
   "outputs": [],
   "source": [
    "model._ynames_map"
   ]
  },
  {
   "cell_type": "code",
   "execution_count": null,
   "metadata": {
    "colab": {
     "base_uri": "https://localhost:8080/",
     "height": 569
    },
    "executionInfo": {
     "elapsed": 473,
     "status": "ok",
     "timestamp": 1752246911047,
     "user": {
      "displayName": "Emanuele Alberti",
      "userId": "01048477993232507094"
     },
     "user_tz": -120
    },
    "id": "edwg_MEkPfn3",
    "outputId": "ba4549d4-61ba-4efd-ca28-020e5b579624"
   },
   "outputs": [],
   "source": [
    "coef = result.params[0]\n",
    "odds_ratios = np.exp(coef)\n",
    "\n",
    "conf = result.conf_int().loc['mildly reduced']\n",
    "conf.columns = ['2.5%', '97.5%']\n",
    "conf = np.exp(conf)  # Exponentiate to get ORs' CIs\n",
    "\n",
    "or_summary = pd.DataFrame({\n",
    "    \"Coefficient Mildly Reduced\": coef,\n",
    "    \"Odds Ratio Mildly Reduced\": odds_ratios,\n",
    "    \"2.5% CI OR Mildly Reduced\": conf['2.5%'],\n",
    "    \"97.5% CI OR Mildly Reduced\": conf['97.5%']\n",
    "})\n",
    "\n",
    "fig, ax = plt.subplots(figsize=(8, len(or_summary) * 0.6))\n",
    "\n",
    "ax.errorbar(or_summary['Odds Ratio Mildly Reduced'], or_summary.index,\n",
    "            xerr=[or_summary['Odds Ratio Mildly Reduced'] - or_summary['2.5% CI OR Mildly Reduced'], or_summary['97.5% CI OR Mildly Reduced'] - or_summary['Odds Ratio Mildly Reduced']],\n",
    "            fmt='o', color='darkblue', ecolor='lightgray', elinewidth=3, capsize=4)\n",
    "\n",
    "ax.axvline(1, color='red', linestyle='--')\n",
    "\n",
    "ax.set_xlabel(\"Odds Ratio (log scale) Mildly Reduced\")\n",
    "ax.set_title(\"Forest Plot of Odds Ratios for Mildly Reduced class with 95% CI\")\n",
    "ax.set_xscale(\"log\")  # Log scale for better visualization\n",
    "\n",
    "plt.show()"
   ]
  },
  {
   "cell_type": "markdown",
   "metadata": {
    "id": "_2dMNLMf6Z71"
   },
   "source": [
    "## Test set evaluation"
   ]
  },
  {
   "cell_type": "code",
   "execution_count": null,
   "metadata": {
    "colab": {
     "base_uri": "https://localhost:8080/",
     "height": 1000
    },
    "executionInfo": {
     "elapsed": 26,
     "status": "ok",
     "timestamp": 1752249545527,
     "user": {
      "displayName": "Emanuele Alberti",
      "userId": "01048477993232507094"
     },
     "user_tz": -120
    },
    "id": "Zt7bX6-n5qnh",
    "outputId": "aac43ac4-8cdd-478a-b031-8bc9b91a5f38"
   },
   "outputs": [],
   "source": [
    "y_test_pred_prob = result.predict(X_test)  # Returns probabilities for each class\n",
    "y_test_pred_prob"
   ]
  },
  {
   "cell_type": "code",
   "execution_count": null,
   "metadata": {
    "executionInfo": {
     "elapsed": 17,
     "status": "ok",
     "timestamp": 1752249547988,
     "user": {
      "displayName": "Emanuele Alberti",
      "userId": "01048477993232507094"
     },
     "user_tz": -120
    },
    "id": "KQmUC1jXAuBD"
   },
   "outputs": [],
   "source": [
    "y_test_pred_prob.rename(model._ynames_map, axis='columns', inplace=True)\n",
    "\n",
    "y_test_pred_class = y_test_pred_prob.idxmax(axis=1) #for each sample, assign the class with maximum probability"
   ]
  },
  {
   "cell_type": "code",
   "execution_count": null,
   "metadata": {
    "colab": {
     "base_uri": "https://localhost:8080/",
     "height": 564
    },
    "executionInfo": {
     "elapsed": 171,
     "status": "ok",
     "timestamp": 1752249550364,
     "user": {
      "displayName": "Emanuele Alberti",
      "userId": "01048477993232507094"
     },
     "user_tz": -120
    },
    "id": "10TeMM6e0DcR",
    "outputId": "1c79b38d-8055-47bb-c142-8acf08485fec"
   },
   "outputs": [],
   "source": [
    "cm = confusion_matrix(y_test, y_test_pred_class, labels=list(model._ynames_map.values()))\n",
    "\n",
    "class_names = model._ynames_map.values()\n",
    "\n",
    "plt.figure(figsize=(8, 6))\n",
    "sns.heatmap(cm, annot=True, fmt=\"d\", cmap=\"Blues\", xticklabels=class_names, yticklabels=class_names)\n",
    "plt.xlabel(\"Predicted Label\")\n",
    "plt.ylabel(\"True Label\")\n",
    "plt.title(\"Confusion Matrix\")\n",
    "plt.show()"
   ]
  },
  {
   "cell_type": "code",
   "execution_count": null,
   "metadata": {
    "colab": {
     "base_uri": "https://localhost:8080/",
     "height": 193
    },
    "executionInfo": {
     "elapsed": 14,
     "status": "error",
     "timestamp": 1752249589108,
     "user": {
      "displayName": "Emanuele Alberti",
      "userId": "01048477993232507094"
     },
     "user_tz": -120
    },
    "id": "cmwcR8co0Uy1",
    "outputId": "9b5b14e7-d1d5-4eec-d9bd-d962e82c431d"
   },
   "outputs": [],
   "source": [
    "print(\"\\nClassification Report:\")\n",
    "print(classification_report(y_test, y_test_pred_class))"
   ]
  },
  {
   "cell_type": "markdown",
   "metadata": {
    "id": "VI8shPgJ_FeI"
   },
   "source": [
    "In a multiclass context, the ROC-AUC can be computed per class with a one-vs-all approach"
   ]
  },
  {
   "cell_type": "code",
   "execution_count": null,
   "metadata": {
    "colab": {
     "base_uri": "https://localhost:8080/",
     "height": 211
    },
    "executionInfo": {
     "elapsed": 46,
     "status": "error",
     "timestamp": 1752249582637,
     "user": {
      "displayName": "Emanuele Alberti",
      "userId": "01048477993232507094"
     },
     "user_tz": -120
    },
    "id": "K4e_pKF2--Ef",
    "outputId": "1b04ba31-9e1e-4078-e91d-af627449c5b9"
   },
   "outputs": [],
   "source": [
    "# Compute ROC AUC for each class (one-vs-all)\n",
    "roc_auc_scores = {}\n",
    "for i in (y_test_pred_prob.columns):\n",
    "    roc_auc = roc_auc_score(y_test == i, y_test_pred_prob.loc[:, i])  # Treat class i as positive\n",
    "    roc_auc_scores[i] = roc_auc\n",
    "\n",
    "# Output the ROC AUC scores\n",
    "for class_name, auc in roc_auc_scores.items():\n",
    "    print(f'ROC AUC for {class_name}: {auc:.2f}')"
   ]
  },
  {
   "cell_type": "markdown",
   "metadata": {
    "id": "A63wXA82_0w7"
   },
   "source": [
    "An aggregate ROC-AUC can be computed in different ways"
   ]
  },
  {
   "cell_type": "code",
   "execution_count": null,
   "metadata": {
    "id": "noHPH-Ur_4ay"
   },
   "outputs": [],
   "source": [
    "y_test = y_test.map({'reduced': 0, 'mildly reduced': 1, 'preserved': 2})\n",
    "y_test_pred_prob.rename(columns={'reduced': 0, 'mildly reduced': 1, 'preserved': 2}, inplace=True)\n",
    "\n",
    "roc_auc_micro = roc_auc_score(y_test, y_test_pred_prob, average='micro', multi_class='ovr')\n",
    "print(f'Micro-average ROC AUC: {roc_auc_micro:.2f}')\n",
    "\n",
    "roc_auc_micro = roc_auc_score(y_test, y_test_pred_prob, average='macro', multi_class='ovr')\n",
    "print(f'Macro-average ROC AUC: {roc_auc_micro:.2f}')\n",
    "\n",
    "roc_auc_micro = roc_auc_score(y_test, y_test_pred_prob, average='weighted', multi_class='ovr')\n",
    "print(f'Weighted-average ROC AUC: {roc_auc_micro:.2f}')"
   ]
  },
  {
   "cell_type": "markdown",
   "metadata": {
    "id": "MaNpDfJYArJ_"
   },
   "source": [
    "\\begin{array}{|c|c|c|c|}\n",
    "\\hline\n",
    "\\textbf{Aspect} & \\textbf{Macro-Averaging} & \\textbf{Micro-Averaging} & \\textbf{Weighted Averaging} \\\\\n",
    "\\hline\n",
    "\\textbf{Calculation} & \\text{Average of individual class metrics} & \\text{Aggregated metrics across all classes} & \\text{Average of class metrics weighted by class size} \\\\\n",
    "\\hline\n",
    "\\textbf{Class Weighting} & \\text{Treats all classes equally} & \\text{Larger classes have more influence} & \\text{Larger classes influence the average more} \\\\\n",
    "\\hline\n",
    "\\textbf{Performance Insight} & \\text{Insight into performance of each class} & \\text{Overall performance across the entire dataset} & \\text{Balanced evaluation considering class sizes} \\\\\n",
    "\\hline\n",
    "\\textbf{Sensitivity} & \\text{Sensitive to class imbalance} & \\text{More robust to class imbalance} & \\text{Moderately sensitive to class imbalance} \\\\\n",
    "\\hline\n",
    "\\textbf{Use Cases} & \\text{Class-specific performance} & \\text{Overall model performance} & \\text{Balanced performance in imbalanced datasets} \\\\\n",
    "\\hline\n",
    "\\end{array}\n"
   ]
  },
  {
   "cell_type": "markdown",
   "metadata": {
    "id": "BDa_gcPYaO2m"
   },
   "source": [
    "$$\n",
    "\\text{Precision}_{\\text{micro}} = \\frac{\\sum_{i=1}^{C} \\text{TP}_i}{\\sum_{i=1}^{C} (\\text{TP}_i + \\text{FP}_i)}\n",
    "$$\n",
    "\n",
    "$$\n",
    "\\text{Recall}_{\\text{micro}} = \\frac{\\sum_{i=1}^{C} \\text{TP}_i}{\\sum_{i=1}^{C} (\\text{TP}_i + \\text{FN}_i)}\n",
    "$$\n",
    "\n",
    "$$\n",
    "\\text{F1}_{\\text{micro}} = 2 \\times \\frac{\\text{Precision}_{\\text{micro}} \\times \\text{Recall}_{\\text{micro}}}{\\text{Precision}_{\\text{micro}} + \\text{Recall}_{\\text{micro}}}\n",
    "$$\n"
   ]
  },
  {
   "cell_type": "markdown",
   "metadata": {
    "id": "kSehOv6SiWbJ"
   },
   "source": [
    "Use macro when:\n",
    "\n",
    "*  You care about per-class behavior, and you want to treat all classes equally, regardless of their frequency.\n",
    "\n",
    "*  You want to evaluate model fairness across all classes, including rare or underrepresented ones.\n",
    "\n",
    "*  You're dealing with imbalanced data, and you want to make sure small classes still matter in the evaluation.\n",
    "\n",
    "*  You want to highlight weaknesses in your model’s performance on rare classes.\n",
    "\n",
    "\n",
    "\n",
    "Use micro when:\n",
    "\n",
    "*  You don't care about classes individually.\n",
    "\n",
    "* You only care about total prediction quality.\n",
    "\n",
    "* You are working with highly multilabel settings (many labels per sample).\n",
    "\n",
    "* You want one simple number for \"How many labels did I guess right?\".\n",
    "\n",
    "Use weighted when:\n",
    "\n",
    "* You do care about per-class behavior.\n",
    "\n",
    "* You want a summary that adjusts for imbalance but still thinks per-class.\n",
    "\n",
    "* You have imbalanced classes, but you still want per-class precision/recall insight."
   ]
  },
  {
   "cell_type": "markdown",
   "metadata": {
    "id": "19YXnDAi2CLv"
   },
   "source": [
    "## Change baseline class"
   ]
  },
  {
   "cell_type": "markdown",
   "metadata": {
    "id": "n-KufCN592KX"
   },
   "source": [
    "Manually encoding the target variable allows us to change the order of the numerical labels and consequently change the variable used as base"
   ]
  },
  {
   "cell_type": "code",
   "execution_count": null,
   "metadata": {
    "executionInfo": {
     "elapsed": 36,
     "status": "ok",
     "timestamp": 1752249824336,
     "user": {
      "displayName": "Emanuele Alberti",
      "userId": "01048477993232507094"
     },
     "user_tz": -120
    },
    "id": "FKiDyndE1D2F"
   },
   "outputs": [],
   "source": [
    "df_encoded = pd.get_dummies(df, columns=cat_vars, drop_first=True, dtype=int)\n",
    "df_encoded['ef_cat'] = pd.Categorical(df['ef_cat'], categories=['mildly reduced', 'preserved', 'reduced'], ordered=True)"
   ]
  },
  {
   "cell_type": "code",
   "execution_count": null,
   "metadata": {
    "executionInfo": {
     "elapsed": 19,
     "status": "ok",
     "timestamp": 1752249825113,
     "user": {
      "displayName": "Emanuele Alberti",
      "userId": "01048477993232507094"
     },
     "user_tz": -120
    },
    "id": "Jfs_Y9eF2VBa"
   },
   "outputs": [],
   "source": [
    "X = df_encoded[['age', 'bmi', 'serum_sodium', 'serum_creatinine', 'diabetes_1', 'sex_Male', 'smoking_1', 'high_blood_pressure_1', 'anaemia_1']]\n",
    "y = df_encoded['ef_cat']  # Multiclass target variable\n",
    "\n",
    "X = sm.add_constant(X)\n",
    "\n",
    "X_train, X_test, y_train, y_test = train_test_split(X, y, test_size=0.2, random_state=1234, stratify=y)"
   ]
  },
  {
   "cell_type": "code",
   "execution_count": null,
   "metadata": {
    "colab": {
     "base_uri": "https://localhost:8080/"
    },
    "executionInfo": {
     "elapsed": 40,
     "status": "ok",
     "timestamp": 1752249826051,
     "user": {
      "displayName": "Emanuele Alberti",
      "userId": "01048477993232507094"
     },
     "user_tz": -120
    },
    "id": "QiboF4it2ZQk",
    "outputId": "6836adee-3aea-4ee9-8dda-26f5e71892cb"
   },
   "outputs": [],
   "source": [
    "model = sm.MNLogit(y_train, X_train)\n",
    "result = model.fit()\n",
    "\n",
    "print(result.summary())"
   ]
  },
  {
   "cell_type": "code",
   "execution_count": null,
   "metadata": {
    "colab": {
     "base_uri": "https://localhost:8080/",
     "height": 363
    },
    "executionInfo": {
     "elapsed": 20,
     "status": "ok",
     "timestamp": 1752249828301,
     "user": {
      "displayName": "Emanuele Alberti",
      "userId": "01048477993232507094"
     },
     "user_tz": -120
    },
    "id": "A0Ks2EspRtQo",
    "outputId": "b49726f7-6a6d-48b8-9536-ea62781ebb1c"
   },
   "outputs": [],
   "source": [
    "np.exp(result.params).rename(columns={0: 'preserved OR', 1:'reduced OR'})"
   ]
  }
 ],
 "metadata": {
  "colab": {
   "provenance": [
    {
     "file_id": "1k9txhf7cIBfiyf3osqQfPNjcpcdIT8tF",
     "timestamp": 1749475750152
    }
   ],
   "toc_visible": true
  },
  "kernelspec": {
   "display_name": ".venv",
   "language": "python",
   "name": "python3"
  },
  "language_info": {
   "codemirror_mode": {
    "name": "ipython",
    "version": 3
   },
   "file_extension": ".py",
   "mimetype": "text/x-python",
   "name": "python",
   "nbconvert_exporter": "python",
   "pygments_lexer": "ipython3",
   "version": "3.13.5"
  }
 },
 "nbformat": 4,
 "nbformat_minor": 0
}
