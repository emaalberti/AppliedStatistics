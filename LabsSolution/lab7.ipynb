{
 "cells": [
  {
   "cell_type": "markdown",
   "metadata": {
    "id": "sns-wuTyDFAs"
   },
   "source": [
    "**<font size=\"5\">Applied Statistics</font>**\n",
    "\n",
    "<font size=\"3\">MSc in High Performance Computing Engineering, Computer Science and Engineering, Physics Engineering - A.Y. 2024-2025</font>\n",
    "\n",
    "Prof. Mario Beraha - Dott. Vittorio Torri\n",
    "\n",
    "---\n",
    "\n",
    "<font size=\"4\">**Lab 7 - Logistic Regression**</font>"
   ]
  },
  {
   "cell_type": "markdown",
   "metadata": {
    "id": "ciEBGMI5alog"
   },
   "source": [
    "# Libraries"
   ]
  },
  {
   "cell_type": "code",
   "execution_count": 2,
   "metadata": {
    "executionInfo": {
     "elapsed": 40,
     "status": "ok",
     "timestamp": 1752249604910,
     "user": {
      "displayName": "Emanuele Alberti",
      "userId": "01048477993232507094"
     },
     "user_tz": -120
    },
    "id": "V4tZOCOQanB9"
   },
   "outputs": [],
   "source": [
    "import pandas as pd\n",
    "pd.options.display.float_format = '{:.2f}'.format"
   ]
  },
  {
   "cell_type": "code",
   "execution_count": 3,
   "metadata": {
    "executionInfo": {
     "elapsed": 11,
     "status": "ok",
     "timestamp": 1752249605260,
     "user": {
      "displayName": "Emanuele Alberti",
      "userId": "01048477993232507094"
     },
     "user_tz": -120
    },
    "id": "B56Kp3nQectc"
   },
   "outputs": [],
   "source": [
    "import matplotlib.pyplot as plt\n",
    "import seaborn as sns"
   ]
  },
  {
   "cell_type": "code",
   "execution_count": 4,
   "metadata": {
    "executionInfo": {
     "elapsed": 11,
     "status": "ok",
     "timestamp": 1752239660590,
     "user": {
      "displayName": "Emanuele Alberti",
      "userId": "01048477993232507094"
     },
     "user_tz": -120
    },
    "id": "XBmIG3NMcLCO"
   },
   "outputs": [],
   "source": [
    "import numpy as np"
   ]
  },
  {
   "cell_type": "code",
   "execution_count": 5,
   "metadata": {
    "executionInfo": {
     "elapsed": 335,
     "status": "ok",
     "timestamp": 1752239661390,
     "user": {
      "displayName": "Emanuele Alberti",
      "userId": "01048477993232507094"
     },
     "user_tz": -120
    },
    "id": "0qNen7Ljcx3t"
   },
   "outputs": [],
   "source": [
    "from sklearn.preprocessing import StandardScaler, MinMaxScaler\n",
    "from sklearn.model_selection import train_test_split"
   ]
  },
  {
   "cell_type": "code",
   "execution_count": 6,
   "metadata": {
    "executionInfo": {
     "elapsed": 1846,
     "status": "ok",
     "timestamp": 1752239663432,
     "user": {
      "displayName": "Emanuele Alberti",
      "userId": "01048477993232507094"
     },
     "user_tz": -120
    },
    "id": "1_MvRLcN_No-"
   },
   "outputs": [],
   "source": [
    "import statsmodels.api as sm"
   ]
  },
  {
   "cell_type": "code",
   "execution_count": 7,
   "metadata": {
    "executionInfo": {
     "elapsed": 1,
     "status": "ok",
     "timestamp": 1752239663435,
     "user": {
      "displayName": "Emanuele Alberti",
      "userId": "01048477993232507094"
     },
     "user_tz": -120
    },
    "id": "WcaQ5G3rJ5JR"
   },
   "outputs": [],
   "source": [
    "np.random.seed(1234)"
   ]
  },
  {
   "cell_type": "code",
   "execution_count": 8,
   "metadata": {
    "executionInfo": {
     "elapsed": 0,
     "status": "ok",
     "timestamp": 1752239663436,
     "user": {
      "displayName": "Emanuele Alberti",
      "userId": "01048477993232507094"
     },
     "user_tz": -120
    },
    "id": "gEbCEGDUUmxr"
   },
   "outputs": [],
   "source": [
    "import scipy.stats as stats"
   ]
  },
  {
   "cell_type": "markdown",
   "metadata": {
    "id": "6vWzbwC_pr-7"
   },
   "source": [
    "# Load Dataset"
   ]
  },
  {
   "cell_type": "code",
   "execution_count": 9,
   "metadata": {
    "executionInfo": {
     "elapsed": 1945,
     "status": "ok",
     "timestamp": 1752239667202,
     "user": {
      "displayName": "Emanuele Alberti",
      "userId": "01048477993232507094"
     },
     "user_tz": -120
    },
    "id": "KrcL7EH9YktP"
   },
   "outputs": [],
   "source": [
    "df = pd.read_csv('../DatasetsLabs/heart_failure_clinical_records_dataset_smhd.csv')  # Adjust the path as necessary"
   ]
  },
  {
   "cell_type": "code",
   "execution_count": 10,
   "metadata": {
    "executionInfo": {
     "elapsed": 5,
     "status": "ok",
     "timestamp": 1752239667779,
     "user": {
      "displayName": "Emanuele Alberti",
      "userId": "01048477993232507094"
     },
     "user_tz": -120
    },
    "id": "qz4KsntemxVT"
   },
   "outputs": [],
   "source": [
    "cat_vars = ['anaemia', 'diabetes', 'high_blood_pressure',  'sex',  'smoking',  'DEATH_EVENT']\n",
    "num_vars = ['age', 'creatinine_phosphokinase', 'ejection_fraction', 'platelets', 'serum_creatinine', 'serum_sodium', 'bmi', 'time']"
   ]
  },
  {
   "cell_type": "markdown",
   "metadata": {
    "id": "44FLh9uKSq-V"
   },
   "source": [
    "# Binary Logistic Regression"
   ]
  },
  {
   "cell_type": "markdown",
   "metadata": {
    "id": "BPAZvVG-lCEF"
   },
   "source": [
    "We want to build a model to classify patients as dead or survived during follow-up: binary classification."
   ]
  },
  {
   "cell_type": "markdown",
   "metadata": {
    "id": "xTsQWu5MlLPV"
   },
   "source": [
    "We use a logistic regression model, which models the probability of the positive class (death) in the following way, where $x_1, ..., x_p$ are the input variables"
   ]
  },
  {
   "cell_type": "markdown",
   "metadata": {
    "id": "SNZToGSJk8mc"
   },
   "source": [
    "$$\n",
    "P(y = 1 | x) = \\frac{1}{1 + e^{-(\\beta_0 + \\beta_1 x_1 + \\beta_2 x_2 + \\dots + \\beta_p x_p)}}\n",
    "$$\n"
   ]
  },
  {
   "cell_type": "markdown",
   "metadata": {
    "id": "xPcrzyWG6TL7"
   },
   "source": [
    "## Model"
   ]
  },
  {
   "cell_type": "code",
   "execution_count": 11,
   "metadata": {
    "executionInfo": {
     "elapsed": 20,
     "status": "ok",
     "timestamp": 1752239669032,
     "user": {
      "displayName": "Emanuele Alberti",
      "userId": "01048477993232507094"
     },
     "user_tz": -120
    },
    "id": "LnCDwYJHTgp6"
   },
   "outputs": [],
   "source": [
    "X = df[['age', 'bmi', 'anaemia', 'creatinine_phosphokinase', 'diabetes', 'high_blood_pressure', 'platelets', 'serum_creatinine', 'serum_sodium', 'sex', 'smoking', 'ejection_fraction', 'time']]\n",
    "y = df['DEATH_EVENT']\n",
    "\n",
    "X_train, X_test, y_train, y_test = train_test_split(X, y, test_size=0.20, random_state=1234)\n",
    "\n",
    "train_index = X_train.index\n",
    "test_index = X_test.index"
   ]
  },
  {
   "cell_type": "markdown",
   "metadata": {
    "id": "qcHNyWzdla_Y"
   },
   "source": [
    "We start using all numerical variables"
   ]
  },
  {
   "cell_type": "code",
   "execution_count": 12,
   "metadata": {
    "colab": {
     "base_uri": "https://localhost:8080/"
    },
    "executionInfo": {
     "elapsed": 38,
     "status": "ok",
     "timestamp": 1752239671648,
     "user": {
      "displayName": "Emanuele Alberti",
      "userId": "01048477993232507094"
     },
     "user_tz": -120
    },
    "id": "-aCiTJE6Ssoo",
    "outputId": "4689bc95-0cc5-4521-ba16-383cce3017b0"
   },
   "outputs": [
    {
     "name": "stdout",
     "output_type": "stream",
     "text": [
      "Optimization terminated successfully.\n",
      "         Current function value: 0.376649\n",
      "         Iterations 7\n",
      "                           Logit Regression Results                           \n",
      "==============================================================================\n",
      "Dep. Variable:            DEATH_EVENT   No. Observations:                  239\n",
      "Model:                          Logit   Df Residuals:                      231\n",
      "Method:                           MLE   Df Model:                            7\n",
      "Date:                Sun, 13 Jul 2025   Pseudo R-squ.:                  0.4036\n",
      "Time:                        15:46:11   Log-Likelihood:                -90.019\n",
      "converged:                       True   LL-Null:                       -150.95\n",
      "Covariance Type:            nonrobust   LLR p-value:                 3.151e-23\n",
      "============================================================================================\n",
      "                               coef    std err          z      P>|z|      [0.025      0.975]\n",
      "--------------------------------------------------------------------------------------------\n",
      "age                          0.0501      0.017      2.979      0.003       0.017       0.083\n",
      "creatinine_phosphokinase  7.948e-05      0.000      0.471      0.638      -0.000       0.000\n",
      "ejection_fraction           -0.0548      0.023     -2.395      0.017      -0.100      -0.010\n",
      "platelets                -1.197e-06   1.93e-06     -0.622      0.534   -4.97e-06    2.58e-06\n",
      "serum_creatinine             0.5229      0.333      1.571      0.116      -0.130       1.175\n",
      "serum_sodium                -0.0139      0.021     -0.669      0.503      -0.055       0.027\n",
      "bmi                          0.0691      0.085      0.814      0.416      -0.097       0.235\n",
      "time                        -0.0212      0.003     -6.420      0.000      -0.028      -0.015\n",
      "============================================================================================\n"
     ]
    }
   ],
   "source": [
    "X_train_1 = X_train[num_vars]\n",
    "X_test_1 = X_test[num_vars]\n",
    "\n",
    "# Fit the logistic regression model\n",
    "logit_model = sm.Logit(y_train, X_train_1).fit()\n",
    "\n",
    "print(logit_model.summary())"
   ]
  },
  {
   "cell_type": "markdown",
   "metadata": {
    "id": "EeX64cY71vgm"
   },
   "source": [
    "By default statsmodels uses the Newton-Raphson iterative optimization method to maximize the likelihood, but other methods can be specified"
   ]
  },
  {
   "cell_type": "markdown",
   "metadata": {
    "id": "61bg1FXgw8sJ"
   },
   "source": [
    "Statsmodels compute the pseudo R^2 statistics using the McFadden's definition:\n",
    "\n",
    "$$pseudo_{R^2} = 1 - \\frac{LL}{LL_{Null}}$$\n",
    "\n",
    "It has values from 0 to 1 and it indicates the goodness of the model, but it's not the primary metric used to evaluate LR models"
   ]
  },
  {
   "cell_type": "markdown",
   "metadata": {
    "id": "6jJbqFPnA1tI"
   },
   "source": [
    "## Odds Ratios"
   ]
  },
  {
   "cell_type": "markdown",
   "metadata": {
    "id": "2qOnScyFBFKA"
   },
   "source": [
    "L'odd ratio è P/1-P cioè la probabilità che l'evento accade diviso la probabilità che l'evento non accade. L'odd ratio per una variabile è e^(coefficient), quindi:\n",
    "- odds ratio = 1 la variabile non ha effetto (coefficient = 0)\n",
    "- > 1 la variabile aumenta la prob dell'evneto\n",
    "- < 1 la variabile diminuisce la prob dell'evneto\n",
    "\n",
    "In a logistic model, the effect of the coefficient is different from a linear regression model. A k-unit increase in $x_j$ increases the risk by a factor of $exp(k \\cdot \\hat{\\beta_j})$. Odds ratios are defined as:\n",
    "\n",
    "$$\n",
    "OR_j = exp(\\hat{\\beta_j})\n",
    "$$"
   ]
  },
  {
   "cell_type": "code",
   "execution_count": 13,
   "metadata": {
    "colab": {
     "base_uri": "https://localhost:8080/"
    },
    "executionInfo": {
     "elapsed": 9,
     "status": "ok",
     "timestamp": 1752239674596,
     "user": {
      "displayName": "Emanuele Alberti",
      "userId": "01048477993232507094"
     },
     "user_tz": -120
    },
    "id": "0B3Y8DFwA3pA",
    "outputId": "d0f80188-c9b4-4288-ff94-9d4818521b0c"
   },
   "outputs": [
    {
     "name": "stdout",
     "output_type": "stream",
     "text": [
      "                          Coefficient  Odds Ratio  2.5% CI OR  97.5% CI OR\n",
      "age                              0.05        1.05        1.02         1.09\n",
      "creatinine_phosphokinase         0.00        1.00        1.00         1.00\n",
      "ejection_fraction               -0.05        0.95        0.91         0.99\n",
      "platelets                       -0.00        1.00        1.00         1.00\n",
      "serum_creatinine                 0.52        1.69        0.88         3.24\n",
      "serum_sodium                    -0.01        0.99        0.95         1.03\n",
      "bmi                              0.07        1.07        0.91         1.27\n",
      "time                            -0.02        0.98        0.97         0.99\n"
     ]
    }
   ],
   "source": [
    "coef = logit_model.params\n",
    "odds_ratios = np.exp(coef)\n",
    "\n",
    "conf = logit_model.conf_int()\n",
    "conf.columns = ['2.5%', '97.5%']\n",
    "conf = np.exp(conf)  # Exponentiate to get ORs' CIs\n",
    "\n",
    "or_summary = pd.DataFrame({\n",
    "    \"Coefficient\": coef,\n",
    "    \"Odds Ratio\": odds_ratios,\n",
    "    \"2.5% CI OR\": conf['2.5%'],\n",
    "    \"97.5% CI OR\": conf['97.5%']\n",
    "})\n",
    "\n",
    "print(or_summary)"
   ]
  },
  {
   "cell_type": "code",
   "execution_count": 14,
   "metadata": {
    "id": "bdwVNZig0Arf"
   },
   "outputs": [
    {
     "data": {
      "image/png": "[encoded data removed]",
      "text/plain": [
       "<Figure size 800x480 with 1 Axes>"
      ]
     },
     "metadata": {},
     "output_type": "display_data"
    }
   ],
   "source": [
    "# Sort by odds ratio for better visualization\n",
    "or_summary = or_summary.sort_values(by=\"Odds Ratio\", ascending=False)\n",
    "\n",
    "fig, ax = plt.subplots(figsize=(8, len(or_summary) * 0.6))\n",
    "\n",
    "# Plot the OR as points\n",
    "ax.errorbar(or_summary['Odds Ratio'], or_summary.index,\n",
    "            xerr=[or_summary['Odds Ratio'] - or_summary['2.5% CI OR'], or_summary['97.5% CI OR'] - or_summary['Odds Ratio']],\n",
    "            fmt='o', color='darkblue', ecolor='lightgray', elinewidth=3, capsize=4)\n",
    "\n",
    "# Add a vertical line at OR = 1 (no effect)\n",
    "ax.axvline(1, color='red', linestyle='--')\n",
    "\n",
    "# Set labels\n",
    "ax.set_xlabel(\"Odds Ratio (log scale)\")\n",
    "ax.set_title(\"Forest Plot of Odds Ratios with 95% CI\")\n",
    "ax.set_xscale(\"log\")  # Log scale for better visualization\n",
    "\n",
    "plt.show()"
   ]
  },
  {
   "cell_type": "markdown",
   "metadata": {
    "id": "hz-lbU45_5QZ"
   },
   "source": [
    "Infatti come si può notare all'aumentare della age, si avrà sempre un aumento della probabilità di morte"
   ]
  },
  {
   "cell_type": "markdown",
   "metadata": {
    "id": "kr7pPzqXATxW"
   },
   "source": [
    "## Confusion Matrix"
   ]
  },
  {
   "cell_type": "code",
   "execution_count": 15,
   "metadata": {
    "executionInfo": {
     "elapsed": 42,
     "status": "ok",
     "timestamp": 1752239966448,
     "user": {
      "displayName": "Emanuele Alberti",
      "userId": "01048477993232507094"
     },
     "user_tz": -120
    },
    "id": "30UdjbOQ3ycF"
   },
   "outputs": [],
   "source": [
    "from sklearn.metrics import confusion_matrix"
   ]
  },
  {
   "cell_type": "code",
   "execution_count": 16,
   "metadata": {
    "executionInfo": {
     "elapsed": 4,
     "status": "ok",
     "timestamp": 1752239967002,
     "user": {
      "displayName": "Emanuele Alberti",
      "userId": "01048477993232507094"
     },
     "user_tz": -120
    },
    "id": "_8w02RtK0wSY"
   },
   "outputs": [],
   "source": [
    "y_test_pred_prob = logit_model.predict(X_test_1)"
   ]
  },
  {
   "cell_type": "code",
   "execution_count": 17,
   "metadata": {
    "colab": {
     "base_uri": "https://localhost:8080/",
     "height": 1000
    },
    "executionInfo": {
     "elapsed": 23,
     "status": "ok",
     "timestamp": 1752239967472,
     "user": {
      "displayName": "Emanuele Alberti",
      "userId": "01048477993232507094"
     },
     "user_tz": -120
    },
    "id": "z4ec-y9lEtHm",
    "outputId": "9fc65b06-6cb3-415b-c122-0fdeb2f381a5"
   },
   "outputs": [
    {
     "data": {
      "text/plain": [
       "73    0.28\n",
       "110   0.27\n",
       "291   0.02\n",
       "168   0.17\n",
       "289   0.03\n",
       "124   0.81\n",
       "286   0.03\n",
       "164   0.29\n",
       "296   0.00\n",
       "261   0.01\n",
       "138   0.37\n",
       "166   0.03\n",
       "66    0.58\n",
       "69    0.70\n",
       "101   0.32\n",
       "7     0.26\n",
       "260   0.01\n",
       "145   0.20\n",
       "287   0.00\n",
       "112   0.59\n",
       "163   0.17\n",
       "100   0.58\n",
       "40    0.93\n",
       "6     0.95\n",
       "22    0.74\n",
       "223   0.05\n",
       "213   0.05\n",
       "108   0.45\n",
       "283   0.03\n",
       "132   0.20\n",
       "106   0.28\n",
       "234   0.02\n",
       "186   0.01\n",
       "149   0.20\n",
       "273   0.01\n",
       "235   0.03\n",
       "74    0.76\n",
       "227   0.04\n",
       "274   0.04\n",
       "31    0.94\n",
       "127   0.04\n",
       "156   0.15\n",
       "125   0.08\n",
       "181   0.30\n",
       "221   0.03\n",
       "242   0.01\n",
       "229   0.08\n",
       "170   0.15\n",
       "276   0.03\n",
       "99    0.37\n",
       "29    0.87\n",
       "80    0.56\n",
       "67    0.72\n",
       "210   0.27\n",
       "93    0.68\n",
       "241   0.07\n",
       "205   0.03\n",
       "122   0.12\n",
       "244   0.05\n",
       "162   0.12\n",
       "dtype: float64"
      ]
     },
     "execution_count": 17,
     "metadata": {},
     "output_type": "execute_result"
    }
   ],
   "source": [
    "y_test_pred_prob"
   ]
  },
  {
   "cell_type": "code",
   "execution_count": 18,
   "metadata": {
    "executionInfo": {
     "elapsed": 4,
     "status": "ok",
     "timestamp": 1752239969750,
     "user": {
      "displayName": "Emanuele Alberti",
      "userId": "01048477993232507094"
     },
     "user_tz": -120
    },
    "id": "QDPNGdh0Exzt"
   },
   "outputs": [],
   "source": [
    "# Convert probabilities to binary outcomes based on a threshold\n",
    "threshold = 0.5\n",
    "y_test_pred_class = (y_test_pred_prob > threshold).astype(int)"
   ]
  },
  {
   "cell_type": "code",
   "execution_count": 20,
   "metadata": {
    "colab": {
     "base_uri": "https://localhost:8080/"
    },
    "executionInfo": {
     "elapsed": 11,
     "status": "ok",
     "timestamp": 1752239972298,
     "user": {
      "displayName": "Emanuele Alberti",
      "userId": "01048477993232507094"
     },
     "user_tz": -120
    },
    "id": "UI1fOJ1YUh3j",
    "outputId": "ab535091-9152-4693-bc0b-d9a05878444b"
   },
   "outputs": [
    {
     "name": "stdout",
     "output_type": "stream",
     "text": [
      "Confusion Matrix on Test Set:\n",
      "[[39  3]\n",
      " [ 7 11]]\n"
     ]
    }
   ],
   "source": [
    "print(\"Confusion Matrix on Test Set:\")\n",
    "print(confusion_matrix(y_test, y_test_pred_class))"
   ]
  },
  {
   "cell_type": "markdown",
   "metadata": {
    "id": "cHZIOeScqBJQ"
   },
   "source": [
    "With a more nice visualization:"
   ]
  },
  {
   "cell_type": "code",
   "execution_count": 21,
   "metadata": {
    "colab": {
     "base_uri": "https://localhost:8080/",
     "height": 564
    },
    "executionInfo": {
     "elapsed": 302,
     "status": "ok",
     "timestamp": 1752240133314,
     "user": {
      "displayName": "Emanuele Alberti",
      "userId": "01048477993232507094"
     },
     "user_tz": -120
    },
    "id": "uvyzUja1pk8T",
    "outputId": "d4d90176-b357-4781-8a7e-88476ef2df97"
   },
   "outputs": [
    {
     "data": {
      "image/png": "[encoded data removed]",
      "text/plain": [
       "<Figure size 800x600 with 2 Axes>"
      ]
     },
     "metadata": {},
     "output_type": "display_data"
    }
   ],
   "source": [
    "cm = confusion_matrix(y_test, y_test_pred_class)\n",
    "\n",
    "class_names = ['Survived', 'Dead']\n",
    "\n",
    "plt.figure(figsize=(8, 6))\n",
    "sns.heatmap(cm, annot=True, fmt=\"d\", cmap=\"Blues\", xticklabels=class_names, yticklabels=class_names)\n",
    "plt.xlabel(\"Predicted Label\")\n",
    "plt.ylabel(\"True Label\")\n",
    "plt.title(\"Confusion Matrix\")\n",
    "plt.show()"
   ]
  },
  {
   "cell_type": "markdown",
   "metadata": {
    "id": "ZZSVA8hw2J5a"
   },
   "source": [
    "[  TN    FP  \n",
    "   FN    TP]"
   ]
  },
  {
   "cell_type": "markdown",
   "metadata": {
    "id": "6t56rgWxASPc"
   },
   "source": [
    "## AUC"
   ]
  },
  {
   "cell_type": "markdown",
   "metadata": {
    "id": "fXXMAvxSouKd"
   },
   "source": [
    "The Receiver-Operating-Characteristic Curve (ROC Curve) plots the FPR vs TPR at varying the classification threshold from 0 to 1, where\n",
    "\n",
    "$$TPR = \\frac{TP}{TP+FN} (= Sensitivity = Recall)$$\n",
    "\n",
    "$$FPR = \\frac{FP}{FP+TN}$$"
   ]
  },
  {
   "cell_type": "markdown",
   "metadata": {
    "id": "-oOlWKz6pLus"
   },
   "source": [
    "The ideal point is (0,1), which maximizes the TPR and minimizes the FPR"
   ]
  },
  {
   "cell_type": "markdown",
   "metadata": {
    "id": "GnA3n0fVpQ0Z"
   },
   "source": [
    "The Area Under the Curve (AUC) is a measure of goodness of the model that is not influences by the choice of a classification threshold"
   ]
  },
  {
   "cell_type": "code",
   "execution_count": 22,
   "metadata": {
    "colab": {
     "base_uri": "https://localhost:8080/",
     "height": 564
    },
    "executionInfo": {
     "elapsed": 469,
     "status": "ok",
     "timestamp": 1752240223673,
     "user": {
      "displayName": "Emanuele Alberti",
      "userId": "01048477993232507094"
     },
     "user_tz": -120
    },
    "id": "9Wk-ZcRU3F4y",
    "outputId": "14c3aac9-deb7-46b3-b87d-a8c4a68bb8f0"
   },
   "outputs": [
    {
     "data": {
      "image/png": "[encoded data removed]",
      "text/plain": [
       "<Figure size 800x600 with 1 Axes>"
      ]
     },
     "metadata": {},
     "output_type": "display_data"
    }
   ],
   "source": [
    "from sklearn.metrics import roc_curve\n",
    "\n",
    "fpr, tpr, _ = roc_curve(y_test, y_test_pred_prob)\n",
    "\n",
    "# Plot the ROC Curve\n",
    "plt.figure(figsize=(8, 6))\n",
    "plt.plot(fpr, tpr, color='blue', label=f\"ROC Curve\")\n",
    "\n",
    "# Plot the diagonal line representing random chance\n",
    "plt.plot([0, 1], [0, 1], color='gray', linestyle='--', label=\"Chance\")\n",
    "\n",
    "# Labels and legend\n",
    "plt.xlabel(\"False Positive Rate\")\n",
    "plt.ylabel(\"True Positive Rate\")\n",
    "plt.title(\"ROC Curve for Binary Classification\")\n",
    "plt.legend(loc=\"lower right\")\n",
    "plt.show()\n"
   ]
  },
  {
   "cell_type": "code",
   "execution_count": 23,
   "metadata": {
    "id": "retBsP9QeJxr"
   },
   "outputs": [
    {
     "name": "stdout",
     "output_type": "stream",
     "text": [
      "ROC-AUC Score on Test Set: 0.8597883597883599\n"
     ]
    }
   ],
   "source": [
    "from sklearn.metrics import roc_auc_score\n",
    "\n",
    "auc_score = roc_auc_score(y_test, y_test_pred_prob)\n",
    "print(f\"ROC-AUC Score on Test Set: {auc_score}\")"
   ]
  },
  {
   "cell_type": "markdown",
   "metadata": {
    "id": "-sUQYEcdARk7"
   },
   "source": [
    "## Accuracy, Precision, Recall/Sensitivity, F1-Score, Specificity"
   ]
  },
  {
   "cell_type": "markdown",
   "metadata": {
    "id": "7uT-Y4G2n3YD"
   },
   "source": [
    "$$Accuracy = \\frac{TP+TN}{TP+FP+TN+FN}$$\n",
    "$$Precision = \\frac{TP}{TP+FP}$$\n",
    "$$Recall = Sensitivity = \\frac{TP}{TP+FN}$$\n",
    "$$\\text{F1-Score} = \\frac{2 \\cdot Precision \\cdot Recall}{Precision + Recall}$$\n",
    "$$Specificity = \\frac{TN}{TN+FP}$$"
   ]
  },
  {
   "cell_type": "code",
   "execution_count": 24,
   "metadata": {
    "id": "nbtAwP9ZUiiO"
   },
   "outputs": [
    {
     "name": "stdout",
     "output_type": "stream",
     "text": [
      "\n",
      "Classification Report on Test Set:\n",
      "              precision    recall  f1-score   support\n",
      "\n",
      "    Survived       0.85      0.93      0.89        42\n",
      "        Dead       0.79      0.61      0.69        18\n",
      "\n",
      "    accuracy                           0.83        60\n",
      "   macro avg       0.82      0.77      0.79        60\n",
      "weighted avg       0.83      0.83      0.83        60\n",
      "\n"
     ]
    }
   ],
   "source": [
    "from sklearn.metrics import classification_report\n",
    "\n",
    "print(\"\\nClassification Report on Test Set:\")\n",
    "print(classification_report(y_test, y_test_pred_class, target_names=['Survived', 'Dead']))"
   ]
  },
  {
   "cell_type": "code",
   "execution_count": 25,
   "metadata": {
    "id": "Xnpc_akvIcIp"
   },
   "outputs": [
    {
     "data": {
      "text/plain": [
       "array([[39,  3],\n",
       "       [ 7, 11]])"
      ]
     },
     "execution_count": 25,
     "metadata": {},
     "output_type": "execute_result"
    }
   ],
   "source": [
    "from sklearn.metrics import confusion_matrix\n",
    "cm = confusion_matrix(y_test, y_test_pred_class)\n",
    "cm"
   ]
  },
  {
   "cell_type": "code",
   "execution_count": 26,
   "metadata": {
    "id": "rgqNrAdHoU0R"
   },
   "outputs": [
    {
     "name": "stdout",
     "output_type": "stream",
     "text": [
      "Specificity on Test Set: 0.9285714285714286\n"
     ]
    }
   ],
   "source": [
    "## TODO: try to compute the specificity from the confusion matrix\n",
    "tn, fp, fn, tp = cm.ravel()\n",
    "specificity = tn / (tn + fp) #percentuale di negativi che\n",
    "\n",
    "print(f\"Specificity on Test Set: {specificity}\") # It is the recall of class that we defined as negative (Survived)"
   ]
  },
  {
   "cell_type": "markdown",
   "metadata": {
    "id": "PYqAh7M8DPdN"
   },
   "source": [
    "## Choice of the threshold"
   ]
  },
  {
   "cell_type": "markdown",
   "metadata": {
    "id": "_uv3fLGcm0bD"
   },
   "source": [
    "Using 0.5 as threshold is the most common choice, but it might not be the optimal one, especially in case of class unbalance"
   ]
  },
  {
   "cell_type": "markdown",
   "metadata": {
    "id": "O2gf7g7mDbKS"
   },
   "source": [
    "One suggest value is the percentage of negative samples"
   ]
  },
  {
   "cell_type": "code",
   "execution_count": 27,
   "metadata": {
    "id": "kcqNCkXFDRh4"
   },
   "outputs": [],
   "source": [
    "optimal_threshold_1 = 1 - df['DEATH_EVENT'].mean() # 1 - % of positive samples"
   ]
  },
  {
   "cell_type": "code",
   "execution_count": 28,
   "metadata": {
    "id": "h1N52rlqD79W"
   },
   "outputs": [
    {
     "data": {
      "text/plain": [
       "np.float64(0.6789297658862876)"
      ]
     },
     "execution_count": 28,
     "metadata": {},
     "output_type": "execute_result"
    }
   ],
   "source": [
    "optimal_threshold_1"
   ]
  },
  {
   "cell_type": "code",
   "execution_count": 29,
   "metadata": {
    "id": "vCao_b_sD9Th"
   },
   "outputs": [
    {
     "name": "stdout",
     "output_type": "stream",
     "text": [
      "Confusion Matrix on Test Set:\n",
      "[[42  0]\n",
      " [ 9  9]]\n"
     ]
    }
   ],
   "source": [
    "y_test_pred_class = (y_test_pred_prob > optimal_threshold_1).astype(int)\n",
    "\n",
    "print(\"Confusion Matrix on Test Set:\")\n",
    "print(confusion_matrix(y_test, y_test_pred_class))"
   ]
  },
  {
   "cell_type": "code",
   "execution_count": 30,
   "metadata": {
    "id": "eRtk7-Lr44zN"
   },
   "outputs": [],
   "source": [
    "tn, fp, fn, tp = confusion_matrix(y_test, y_test_pred_class).ravel()\n",
    "\n",
    "tpr_1 = tp / (tp + fn)  # Sensitivity or Recall or TPR\n",
    "fpr_1 = fp / (fp + tn)  # False Positive Rate (FPR)"
   ]
  },
  {
   "cell_type": "code",
   "execution_count": 31,
   "metadata": {
    "id": "TWdx2CuyEDvP"
   },
   "outputs": [
    {
     "name": "stdout",
     "output_type": "stream",
     "text": [
      "\n",
      "Classification Report on Test Set:\n",
      "              precision    recall  f1-score   support\n",
      "\n",
      "    Survived       0.82      1.00      0.90        42\n",
      "        Dead       1.00      0.50      0.67        18\n",
      "\n",
      "    accuracy                           0.85        60\n",
      "   macro avg       0.91      0.75      0.78        60\n",
      "weighted avg       0.88      0.85      0.83        60\n",
      "\n"
     ]
    }
   ],
   "source": [
    "print(\"\\nClassification Report on Test Set:\")\n",
    "print(classification_report(y_test, y_test_pred_class, target_names=['Survived', 'Dead']))"
   ]
  },
  {
   "cell_type": "code",
   "execution_count": 32,
   "metadata": {
    "id": "eCvRsIeb4SVU"
   },
   "outputs": [
    {
     "data": {
      "image/png": "[encoded data removed]",
      "text/plain": [
       "<Figure size 800x600 with 1 Axes>"
      ]
     },
     "metadata": {},
     "output_type": "display_data"
    }
   ],
   "source": [
    "# Plot ROC Curve\n",
    "plt.figure(figsize=(8, 6))\n",
    "plt.plot(fpr, tpr, color='blue', label=f\"ROC Curve\")\n",
    "\n",
    "# Plot the optimal threshold point\n",
    "plt.scatter(fpr_1, tpr_1, color='orange', s=100, label=f\"Threshold with Proportion of Negative Samples (= {optimal_threshold_1:.2f})\")\n",
    "\n",
    "\n",
    "# Plot the diagonal line representing random chance\n",
    "plt.plot([0, 1], [0, 1], color='gray', linestyle='--', label=\"Chance\")\n",
    "\n",
    "# Labels and legend\n",
    "plt.xlabel(\"False Positive Rate\")\n",
    "plt.ylabel(\"True Positive Rate\")\n",
    "plt.title(\"ROC Curve with Threshold = Proportion of negative samples\")\n",
    "plt.legend(loc=\"lower right\")\n",
    "plt.show()"
   ]
  },
  {
   "cell_type": "code",
   "execution_count": 33,
   "metadata": {
    "id": "s8n45CJrQu9q"
   },
   "outputs": [
    {
     "data": {
      "text/plain": [
       "array([           inf, 9.53908076e-01, 6.76273712e-01, 5.93853823e-01,\n",
       "       5.77516053e-01, 3.24850371e-01, 2.85982628e-01, 2.73123438e-01,\n",
       "       2.57326703e-01, 1.66578594e-01, 1.66227879e-01, 7.39754074e-02,\n",
       "       4.85524201e-02, 1.74947868e-02, 1.38845912e-02, 3.97924223e-04])"
      ]
     },
     "execution_count": 33,
     "metadata": {},
     "output_type": "execute_result"
    }
   ],
   "source": [
    "fpr, tpr, thresholds= roc_curve(y_test, y_test_pred_prob)\n",
    "thresholds"
   ]
  },
  {
   "cell_type": "code",
   "execution_count": 34,
   "metadata": {
    "id": "vzpZcaGSQ1ob"
   },
   "outputs": [
    {
     "data": {
      "text/plain": [
       "array([           inf, 9.53908076e-01, 6.76273712e-01, 5.93853823e-01,\n",
       "       5.77516053e-01, 3.24850371e-01, 2.85982628e-01, 2.73123438e-01,\n",
       "       2.57326703e-01, 1.66578594e-01, 1.66227879e-01, 7.39754074e-02,\n",
       "       4.85524201e-02, 1.74947868e-02, 1.38845912e-02, 3.97924223e-04])"
      ]
     },
     "execution_count": 34,
     "metadata": {},
     "output_type": "execute_result"
    }
   ],
   "source": [
    "#calcolare la roc curve per un valore del threshold dato\n",
    "threshold = 0.5\n",
    "probabilities = logit_model.predict(X_test_1)\n",
    "y_pred = [1 if p>threshold else 0 for p in probabilities]\n",
    "cm = confusion_matrix(y_test, y_pred)\n",
    "tn, fp, fn, tp = cm.ravel()\n",
    "\n",
    "# fpr = fp / (fp + tn)\n",
    "# tpr = tp / (tp + fn)\n",
    "#oppure\n",
    "\n",
    "fpr, tpr, thresholds = roc_curve(y_test, probabilities)\n",
    "thresholds"
   ]
  },
  {
   "cell_type": "markdown",
   "metadata": {
    "id": "3VD6JSEMu8cZ"
   },
   "source": [
    "# Multiclass logistic regression"
   ]
  },
  {
   "cell_type": "markdown",
   "metadata": {
    "id": "pnd5ntmCsYYf"
   },
   "source": [
    "We want to develop a model to classify HF patients in three ejection fraction classes"
   ]
  },
  {
   "cell_type": "code",
   "execution_count": 35,
   "metadata": {
    "executionInfo": {
     "elapsed": 10,
     "status": "ok",
     "timestamp": 1752247076129,
     "user": {
      "displayName": "Emanuele Alberti",
      "userId": "01048477993232507094"
     },
     "user_tz": -120
    },
    "id": "M_Kb3v-8vALA"
   },
   "outputs": [],
   "source": [
    "df['ef_cat'] = pd.cut(df['ejection_fraction'], bins=[0,40,50,100], labels=['reduced', 'mildly reduced', 'preserved'])"
   ]
  },
  {
   "cell_type": "code",
   "execution_count": 36,
   "metadata": {
    "colab": {
     "base_uri": "https://localhost:8080/",
     "height": 424
    },
    "executionInfo": {
     "elapsed": 8,
     "status": "ok",
     "timestamp": 1752247077132,
     "user": {
      "displayName": "Emanuele Alberti",
      "userId": "01048477993232507094"
     },
     "user_tz": -120
    },
    "id": "foe7WAnRq5Bw",
    "outputId": "e5d70300-6968-4e4f-af30-8146b57f285f"
   },
   "outputs": [
    {
     "data": {
      "text/html": [
       "<div>\n",
       "<style scoped>\n",
       "    .dataframe tbody tr th:only-of-type {\n",
       "        vertical-align: middle;\n",
       "    }\n",
       "\n",
       "    .dataframe tbody tr th {\n",
       "        vertical-align: top;\n",
       "    }\n",
       "\n",
       "    .dataframe thead th {\n",
       "        text-align: right;\n",
       "    }\n",
       "</style>\n",
       "<table border=\"1\" class=\"dataframe\">\n",
       "  <thead>\n",
       "    <tr style=\"text-align: right;\">\n",
       "      <th></th>\n",
       "      <th>ejection_fraction</th>\n",
       "      <th>ef_cat</th>\n",
       "    </tr>\n",
       "  </thead>\n",
       "  <tbody>\n",
       "    <tr>\n",
       "      <th>0</th>\n",
       "      <td>20.73</td>\n",
       "      <td>reduced</td>\n",
       "    </tr>\n",
       "    <tr>\n",
       "      <th>1</th>\n",
       "      <td>29.02</td>\n",
       "      <td>reduced</td>\n",
       "    </tr>\n",
       "    <tr>\n",
       "      <th>2</th>\n",
       "      <td>26.24</td>\n",
       "      <td>reduced</td>\n",
       "    </tr>\n",
       "    <tr>\n",
       "      <th>3</th>\n",
       "      <td>10.21</td>\n",
       "      <td>reduced</td>\n",
       "    </tr>\n",
       "    <tr>\n",
       "      <th>4</th>\n",
       "      <td>19.33</td>\n",
       "      <td>reduced</td>\n",
       "    </tr>\n",
       "    <tr>\n",
       "      <th>...</th>\n",
       "      <td>...</td>\n",
       "      <td>...</td>\n",
       "    </tr>\n",
       "    <tr>\n",
       "      <th>294</th>\n",
       "      <td>38.05</td>\n",
       "      <td>reduced</td>\n",
       "    </tr>\n",
       "    <tr>\n",
       "      <th>295</th>\n",
       "      <td>35.20</td>\n",
       "      <td>reduced</td>\n",
       "    </tr>\n",
       "    <tr>\n",
       "      <th>296</th>\n",
       "      <td>62.32</td>\n",
       "      <td>preserved</td>\n",
       "    </tr>\n",
       "    <tr>\n",
       "      <th>297</th>\n",
       "      <td>37.49</td>\n",
       "      <td>reduced</td>\n",
       "    </tr>\n",
       "    <tr>\n",
       "      <th>298</th>\n",
       "      <td>46.40</td>\n",
       "      <td>mildly reduced</td>\n",
       "    </tr>\n",
       "  </tbody>\n",
       "</table>\n",
       "<p>299 rows × 2 columns</p>\n",
       "</div>"
      ],
      "text/plain": [
       "     ejection_fraction          ef_cat\n",
       "0                20.73         reduced\n",
       "1                29.02         reduced\n",
       "2                26.24         reduced\n",
       "3                10.21         reduced\n",
       "4                19.33         reduced\n",
       "..                 ...             ...\n",
       "294              38.05         reduced\n",
       "295              35.20         reduced\n",
       "296              62.32       preserved\n",
       "297              37.49         reduced\n",
       "298              46.40  mildly reduced\n",
       "\n",
       "[299 rows x 2 columns]"
      ]
     },
     "execution_count": 36,
     "metadata": {},
     "output_type": "execute_result"
    }
   ],
   "source": [
    "df[['ejection_fraction', 'ef_cat']]"
   ]
  },
  {
   "cell_type": "markdown",
   "metadata": {
    "id": "UCFYHo876QCC"
   },
   "source": [
    "## Model"
   ]
  },
  {
   "cell_type": "markdown",
   "metadata": {
    "id": "gz1wIkgv2_Ot"
   },
   "source": [
    "A multinomial logistic regression model assumes a baseline class (assume the *K*-th without loss of generality) and computes a set of coefficients for each other class *k*:\n",
    "\n",
    "$$\n",
    "P(y = k | x) = \\frac{e^{\\beta_{k0} + \\beta_{k1} x_1 + \\beta_{k2} x_2 + \\dots + \\beta_{kp} x_p}}{1 + \\sum_{j=1}^{K-1} e^{\\beta_{j0} + \\beta_{j1} x_1 + \\beta_{j2} x_2 + \\dots + \\beta_{jp} x_p}} \\quad\\text{for }k < K \\\\\n",
    "P(y = K | x) = \\frac{1}{1 + \\sum_{j=1}^{K-1} e^{\\beta_{j0} + \\beta_{j1} x_1 + \\beta_{j2} x_2 + \\dots + \\beta_{jp} x_p}}\n",
    "$$"
   ]
  },
  {
   "cell_type": "markdown",
   "metadata": {
    "id": "XdEESfgYtOTo"
   },
   "source": [
    "The multinomial logistic regression model implemented in the *statsmodels* library requires categorical input variables to be *one-hot encoded*"
   ]
  },
  {
   "cell_type": "code",
   "execution_count": 37,
   "metadata": {
    "executionInfo": {
     "elapsed": 16,
     "status": "ok",
     "timestamp": 1752247079611,
     "user": {
      "displayName": "Emanuele Alberti",
      "userId": "01048477993232507094"
     },
     "user_tz": -120
    },
    "id": "BSSK0VCjvlOa"
   },
   "outputs": [],
   "source": [
    "df_encoded = pd.get_dummies(df, columns=cat_vars, drop_first=True, dtype=int) # another way to apply one-hot encoding"
   ]
  },
  {
   "cell_type": "code",
   "execution_count": null,
   "metadata": {
    "colab": {
     "base_uri": "https://localhost:8080/",
     "height": 1000
    },
    "executionInfo": {
     "elapsed": 43,
     "status": "ok",
     "timestamp": 1752247081209,
     "user": {
      "displayName": "Emanuele Alberti",
      "userId": "01048477993232507094"
     },
     "user_tz": -120
    },
    "id": "MnLo4CWHvL7g",
    "outputId": "0da91a6c-30a2-493c-f260-20688895a8b5"
   },
   "outputs": [
    {
     "name": "stdout",
     "output_type": "stream",
     "text": [
      "Optimization terminated successfully.\n",
      "         Current function value: 0.625371\n",
      "         Iterations 8\n"
     ]
    },
    {
     "data": {
      "text/html": [
       "<div>\n",
       "<style scoped>\n",
       "    .dataframe tbody tr th:only-of-type {\n",
       "        vertical-align: middle;\n",
       "    }\n",
       "\n",
       "    .dataframe tbody tr th {\n",
       "        vertical-align: top;\n",
       "    }\n",
       "\n",
       "    .dataframe thead th {\n",
       "        text-align: right;\n",
       "    }\n",
       "</style>\n",
       "<table border=\"1\" class=\"dataframe\">\n",
       "  <thead>\n",
       "    <tr style=\"text-align: right;\">\n",
       "      <th></th>\n",
       "      <th>0</th>\n",
       "      <th>1</th>\n",
       "      <th>2</th>\n",
       "    </tr>\n",
       "  </thead>\n",
       "  <tbody>\n",
       "    <tr>\n",
       "      <th>170</th>\n",
       "      <td>0.95</td>\n",
       "      <td>0.04</td>\n",
       "      <td>0.01</td>\n",
       "    </tr>\n",
       "    <tr>\n",
       "      <th>237</th>\n",
       "      <td>0.89</td>\n",
       "      <td>0.10</td>\n",
       "      <td>0.01</td>\n",
       "    </tr>\n",
       "    <tr>\n",
       "      <th>218</th>\n",
       "      <td>0.88</td>\n",
       "      <td>0.10</td>\n",
       "      <td>0.01</td>\n",
       "    </tr>\n",
       "    <tr>\n",
       "      <th>228</th>\n",
       "      <td>0.88</td>\n",
       "      <td>0.12</td>\n",
       "      <td>0.00</td>\n",
       "    </tr>\n",
       "    <tr>\n",
       "      <th>264</th>\n",
       "      <td>0.19</td>\n",
       "      <td>0.25</td>\n",
       "      <td>0.55</td>\n",
       "    </tr>\n",
       "    <tr>\n",
       "      <th>129</th>\n",
       "      <td>0.46</td>\n",
       "      <td>0.23</td>\n",
       "      <td>0.31</td>\n",
       "    </tr>\n",
       "    <tr>\n",
       "      <th>97</th>\n",
       "      <td>0.12</td>\n",
       "      <td>0.12</td>\n",
       "      <td>0.77</td>\n",
       "    </tr>\n",
       "    <tr>\n",
       "      <th>139</th>\n",
       "      <td>0.77</td>\n",
       "      <td>0.18</td>\n",
       "      <td>0.05</td>\n",
       "    </tr>\n",
       "    <tr>\n",
       "      <th>193</th>\n",
       "      <td>0.92</td>\n",
       "      <td>0.07</td>\n",
       "      <td>0.00</td>\n",
       "    </tr>\n",
       "    <tr>\n",
       "      <th>39</th>\n",
       "      <td>0.91</td>\n",
       "      <td>0.08</td>\n",
       "      <td>0.01</td>\n",
       "    </tr>\n",
       "    <tr>\n",
       "      <th>277</th>\n",
       "      <td>0.88</td>\n",
       "      <td>0.12</td>\n",
       "      <td>0.00</td>\n",
       "    </tr>\n",
       "    <tr>\n",
       "      <th>294</th>\n",
       "      <td>0.66</td>\n",
       "      <td>0.24</td>\n",
       "      <td>0.10</td>\n",
       "    </tr>\n",
       "    <tr>\n",
       "      <th>221</th>\n",
       "      <td>0.73</td>\n",
       "      <td>0.17</td>\n",
       "      <td>0.10</td>\n",
       "    </tr>\n",
       "    <tr>\n",
       "      <th>114</th>\n",
       "      <td>0.66</td>\n",
       "      <td>0.22</td>\n",
       "      <td>0.12</td>\n",
       "    </tr>\n",
       "    <tr>\n",
       "      <th>251</th>\n",
       "      <td>0.38</td>\n",
       "      <td>0.28</td>\n",
       "      <td>0.35</td>\n",
       "    </tr>\n",
       "    <tr>\n",
       "      <th>206</th>\n",
       "      <td>0.98</td>\n",
       "      <td>0.02</td>\n",
       "      <td>0.00</td>\n",
       "    </tr>\n",
       "    <tr>\n",
       "      <th>10</th>\n",
       "      <td>0.86</td>\n",
       "      <td>0.13</td>\n",
       "      <td>0.01</td>\n",
       "    </tr>\n",
       "    <tr>\n",
       "      <th>104</th>\n",
       "      <td>0.49</td>\n",
       "      <td>0.34</td>\n",
       "      <td>0.16</td>\n",
       "    </tr>\n",
       "    <tr>\n",
       "      <th>26</th>\n",
       "      <td>0.79</td>\n",
       "      <td>0.19</td>\n",
       "      <td>0.02</td>\n",
       "    </tr>\n",
       "    <tr>\n",
       "      <th>22</th>\n",
       "      <td>0.82</td>\n",
       "      <td>0.14</td>\n",
       "      <td>0.05</td>\n",
       "    </tr>\n",
       "    <tr>\n",
       "      <th>279</th>\n",
       "      <td>0.94</td>\n",
       "      <td>0.05</td>\n",
       "      <td>0.00</td>\n",
       "    </tr>\n",
       "    <tr>\n",
       "      <th>126</th>\n",
       "      <td>0.95</td>\n",
       "      <td>0.05</td>\n",
       "      <td>0.00</td>\n",
       "    </tr>\n",
       "    <tr>\n",
       "      <th>20</th>\n",
       "      <td>0.97</td>\n",
       "      <td>0.03</td>\n",
       "      <td>0.00</td>\n",
       "    </tr>\n",
       "    <tr>\n",
       "      <th>117</th>\n",
       "      <td>0.26</td>\n",
       "      <td>0.52</td>\n",
       "      <td>0.23</td>\n",
       "    </tr>\n",
       "    <tr>\n",
       "      <th>108</th>\n",
       "      <td>0.94</td>\n",
       "      <td>0.06</td>\n",
       "      <td>0.00</td>\n",
       "    </tr>\n",
       "    <tr>\n",
       "      <th>65</th>\n",
       "      <td>0.43</td>\n",
       "      <td>0.48</td>\n",
       "      <td>0.09</td>\n",
       "    </tr>\n",
       "    <tr>\n",
       "      <th>110</th>\n",
       "      <td>0.46</td>\n",
       "      <td>0.37</td>\n",
       "      <td>0.17</td>\n",
       "    </tr>\n",
       "    <tr>\n",
       "      <th>162</th>\n",
       "      <td>0.46</td>\n",
       "      <td>0.22</td>\n",
       "      <td>0.31</td>\n",
       "    </tr>\n",
       "    <tr>\n",
       "      <th>268</th>\n",
       "      <td>0.75</td>\n",
       "      <td>0.16</td>\n",
       "      <td>0.09</td>\n",
       "    </tr>\n",
       "    <tr>\n",
       "      <th>202</th>\n",
       "      <td>0.12</td>\n",
       "      <td>0.34</td>\n",
       "      <td>0.53</td>\n",
       "    </tr>\n",
       "    <tr>\n",
       "      <th>112</th>\n",
       "      <td>0.90</td>\n",
       "      <td>0.09</td>\n",
       "      <td>0.00</td>\n",
       "    </tr>\n",
       "    <tr>\n",
       "      <th>238</th>\n",
       "      <td>0.85</td>\n",
       "      <td>0.10</td>\n",
       "      <td>0.06</td>\n",
       "    </tr>\n",
       "    <tr>\n",
       "      <th>190</th>\n",
       "      <td>0.66</td>\n",
       "      <td>0.33</td>\n",
       "      <td>0.01</td>\n",
       "    </tr>\n",
       "    <tr>\n",
       "      <th>46</th>\n",
       "      <td>0.89</td>\n",
       "      <td>0.11</td>\n",
       "      <td>0.00</td>\n",
       "    </tr>\n",
       "    <tr>\n",
       "      <th>160</th>\n",
       "      <td>0.80</td>\n",
       "      <td>0.18</td>\n",
       "      <td>0.02</td>\n",
       "    </tr>\n",
       "    <tr>\n",
       "      <th>82</th>\n",
       "      <td>0.98</td>\n",
       "      <td>0.02</td>\n",
       "      <td>0.00</td>\n",
       "    </tr>\n",
       "    <tr>\n",
       "      <th>168</th>\n",
       "      <td>0.89</td>\n",
       "      <td>0.09</td>\n",
       "      <td>0.01</td>\n",
       "    </tr>\n",
       "    <tr>\n",
       "      <th>241</th>\n",
       "      <td>0.73</td>\n",
       "      <td>0.20</td>\n",
       "      <td>0.08</td>\n",
       "    </tr>\n",
       "    <tr>\n",
       "      <th>36</th>\n",
       "      <td>0.04</td>\n",
       "      <td>0.13</td>\n",
       "      <td>0.83</td>\n",
       "    </tr>\n",
       "    <tr>\n",
       "      <th>44</th>\n",
       "      <td>0.10</td>\n",
       "      <td>0.07</td>\n",
       "      <td>0.84</td>\n",
       "    </tr>\n",
       "    <tr>\n",
       "      <th>90</th>\n",
       "      <td>0.13</td>\n",
       "      <td>0.18</td>\n",
       "      <td>0.69</td>\n",
       "    </tr>\n",
       "    <tr>\n",
       "      <th>223</th>\n",
       "      <td>0.75</td>\n",
       "      <td>0.19</td>\n",
       "      <td>0.06</td>\n",
       "    </tr>\n",
       "    <tr>\n",
       "      <th>195</th>\n",
       "      <td>0.30</td>\n",
       "      <td>0.43</td>\n",
       "      <td>0.27</td>\n",
       "    </tr>\n",
       "    <tr>\n",
       "      <th>254</th>\n",
       "      <td>0.16</td>\n",
       "      <td>0.17</td>\n",
       "      <td>0.67</td>\n",
       "    </tr>\n",
       "    <tr>\n",
       "      <th>92</th>\n",
       "      <td>0.35</td>\n",
       "      <td>0.27</td>\n",
       "      <td>0.38</td>\n",
       "    </tr>\n",
       "    <tr>\n",
       "      <th>159</th>\n",
       "      <td>0.72</td>\n",
       "      <td>0.16</td>\n",
       "      <td>0.12</td>\n",
       "    </tr>\n",
       "    <tr>\n",
       "      <th>127</th>\n",
       "      <td>0.09</td>\n",
       "      <td>0.06</td>\n",
       "      <td>0.85</td>\n",
       "    </tr>\n",
       "    <tr>\n",
       "      <th>18</th>\n",
       "      <td>0.97</td>\n",
       "      <td>0.03</td>\n",
       "      <td>0.00</td>\n",
       "    </tr>\n",
       "    <tr>\n",
       "      <th>183</th>\n",
       "      <td>0.81</td>\n",
       "      <td>0.18</td>\n",
       "      <td>0.00</td>\n",
       "    </tr>\n",
       "    <tr>\n",
       "      <th>282</th>\n",
       "      <td>0.73</td>\n",
       "      <td>0.26</td>\n",
       "      <td>0.01</td>\n",
       "    </tr>\n",
       "    <tr>\n",
       "      <th>102</th>\n",
       "      <td>0.75</td>\n",
       "      <td>0.23</td>\n",
       "      <td>0.02</td>\n",
       "    </tr>\n",
       "    <tr>\n",
       "      <th>51</th>\n",
       "      <td>0.97</td>\n",
       "      <td>0.03</td>\n",
       "      <td>0.00</td>\n",
       "    </tr>\n",
       "    <tr>\n",
       "      <th>2</th>\n",
       "      <td>0.93</td>\n",
       "      <td>0.07</td>\n",
       "      <td>0.00</td>\n",
       "    </tr>\n",
       "    <tr>\n",
       "      <th>236</th>\n",
       "      <td>0.37</td>\n",
       "      <td>0.49</td>\n",
       "      <td>0.14</td>\n",
       "    </tr>\n",
       "    <tr>\n",
       "      <th>24</th>\n",
       "      <td>0.96</td>\n",
       "      <td>0.04</td>\n",
       "      <td>0.00</td>\n",
       "    </tr>\n",
       "    <tr>\n",
       "      <th>96</th>\n",
       "      <td>0.31</td>\n",
       "      <td>0.25</td>\n",
       "      <td>0.44</td>\n",
       "    </tr>\n",
       "    <tr>\n",
       "      <th>225</th>\n",
       "      <td>0.16</td>\n",
       "      <td>0.43</td>\n",
       "      <td>0.40</td>\n",
       "    </tr>\n",
       "    <tr>\n",
       "      <th>54</th>\n",
       "      <td>0.89</td>\n",
       "      <td>0.08</td>\n",
       "      <td>0.03</td>\n",
       "    </tr>\n",
       "    <tr>\n",
       "      <th>123</th>\n",
       "      <td>0.53</td>\n",
       "      <td>0.17</td>\n",
       "      <td>0.30</td>\n",
       "    </tr>\n",
       "    <tr>\n",
       "      <th>89</th>\n",
       "      <td>0.96</td>\n",
       "      <td>0.04</td>\n",
       "      <td>0.00</td>\n",
       "    </tr>\n",
       "  </tbody>\n",
       "</table>\n",
       "</div>"
      ],
      "text/plain": [
       "       0    1    2\n",
       "170 0.95 0.04 0.01\n",
       "237 0.89 0.10 0.01\n",
       "218 0.88 0.10 0.01\n",
       "228 0.88 0.12 0.00\n",
       "264 0.19 0.25 0.55\n",
       "129 0.46 0.23 0.31\n",
       "97  0.12 0.12 0.77\n",
       "139 0.77 0.18 0.05\n",
       "193 0.92 0.07 0.00\n",
       "39  0.91 0.08 0.01\n",
       "277 0.88 0.12 0.00\n",
       "294 0.66 0.24 0.10\n",
       "221 0.73 0.17 0.10\n",
       "114 0.66 0.22 0.12\n",
       "251 0.38 0.28 0.35\n",
       "206 0.98 0.02 0.00\n",
       "10  0.86 0.13 0.01\n",
       "104 0.49 0.34 0.16\n",
       "26  0.79 0.19 0.02\n",
       "22  0.82 0.14 0.05\n",
       "279 0.94 0.05 0.00\n",
       "126 0.95 0.05 0.00\n",
       "20  0.97 0.03 0.00\n",
       "117 0.26 0.52 0.23\n",
       "108 0.94 0.06 0.00\n",
       "65  0.43 0.48 0.09\n",
       "110 0.46 0.37 0.17\n",
       "162 0.46 0.22 0.31\n",
       "268 0.75 0.16 0.09\n",
       "202 0.12 0.34 0.53\n",
       "112 0.90 0.09 0.00\n",
       "238 0.85 0.10 0.06\n",
       "190 0.66 0.33 0.01\n",
       "46  0.89 0.11 0.00\n",
       "160 0.80 0.18 0.02\n",
       "82  0.98 0.02 0.00\n",
       "168 0.89 0.09 0.01\n",
       "241 0.73 0.20 0.08\n",
       "36  0.04 0.13 0.83\n",
       "44  0.10 0.07 0.84\n",
       "90  0.13 0.18 0.69\n",
       "223 0.75 0.19 0.06\n",
       "195 0.30 0.43 0.27\n",
       "254 0.16 0.17 0.67\n",
       "92  0.35 0.27 0.38\n",
       "159 0.72 0.16 0.12\n",
       "127 0.09 0.06 0.85\n",
       "18  0.97 0.03 0.00\n",
       "183 0.81 0.18 0.00\n",
       "282 0.73 0.26 0.01\n",
       "102 0.75 0.23 0.02\n",
       "51  0.97 0.03 0.00\n",
       "2   0.93 0.07 0.00\n",
       "236 0.37 0.49 0.14\n",
       "24  0.96 0.04 0.00\n",
       "96  0.31 0.25 0.44\n",
       "225 0.16 0.43 0.40\n",
       "54  0.89 0.08 0.03\n",
       "123 0.53 0.17 0.30\n",
       "89  0.96 0.04 0.00"
      ]
     },
     "execution_count": 39,
     "metadata": {},
     "output_type": "execute_result"
    }
   ],
   "source": [
    "\n",
    "X = df_encoded[['age', 'bmi', 'serum_sodium', 'serum_creatinine', 'diabetes_1', 'sex_Male', 'smoking_1', 'high_blood_pressure_1', 'anaemia_1']]\n",
    "y = df_encoded['ef_cat']  # Multiclass target variable\n",
    "\n",
    "X = sm.add_constant(X)\n",
    "\n",
    "X_train, X_test, y_train, y_test = train_test_split(X, y, test_size=0.2, random_state=1234, stratify=y) #STRATIFICATION WITH RESPECT TO THE TARGET CLASS\n",
    "\n",
    "model = sm.MNLogit(y_train, X_train)\n",
    "result = model.fit()\n",
    "\n",
    "result.predict(X_test)"
   ]
  },
  {
   "cell_type": "code",
   "execution_count": 40,
   "metadata": {
    "colab": {
     "base_uri": "https://localhost:8080/",
     "height": 363
    },
    "executionInfo": {
     "elapsed": 14,
     "status": "ok",
     "timestamp": 1752247087588,
     "user": {
      "displayName": "Emanuele Alberti",
      "userId": "01048477993232507094"
     },
     "user_tz": -120
    },
    "id": "Bwm3leiFOc3X",
    "outputId": "a9662ced-16c0-4257-d09b-0f0bdfd11847"
   },
   "outputs": [
    {
     "data": {
      "text/html": [
       "<div>\n",
       "<style scoped>\n",
       "    .dataframe tbody tr th:only-of-type {\n",
       "        vertical-align: middle;\n",
       "    }\n",
       "\n",
       "    .dataframe tbody tr th {\n",
       "        vertical-align: top;\n",
       "    }\n",
       "\n",
       "    .dataframe thead th {\n",
       "        text-align: right;\n",
       "    }\n",
       "</style>\n",
       "<table border=\"1\" class=\"dataframe\">\n",
       "  <thead>\n",
       "    <tr style=\"text-align: right;\">\n",
       "      <th></th>\n",
       "      <th>mildly_reduced OR</th>\n",
       "      <th>preserved OR</th>\n",
       "    </tr>\n",
       "  </thead>\n",
       "  <tbody>\n",
       "    <tr>\n",
       "      <th>const</th>\n",
       "      <td>15812631.77</td>\n",
       "      <td>40511846878.96</td>\n",
       "    </tr>\n",
       "    <tr>\n",
       "      <th>age</th>\n",
       "      <td>1.02</td>\n",
       "      <td>1.00</td>\n",
       "    </tr>\n",
       "    <tr>\n",
       "      <th>bmi</th>\n",
       "      <td>0.71</td>\n",
       "      <td>0.41</td>\n",
       "    </tr>\n",
       "    <tr>\n",
       "      <th>serum_sodium</th>\n",
       "      <td>0.92</td>\n",
       "      <td>0.95</td>\n",
       "    </tr>\n",
       "    <tr>\n",
       "      <th>serum_creatinine</th>\n",
       "      <td>3.16</td>\n",
       "      <td>12.32</td>\n",
       "    </tr>\n",
       "    <tr>\n",
       "      <th>diabetes_1</th>\n",
       "      <td>0.92</td>\n",
       "      <td>1.83</td>\n",
       "    </tr>\n",
       "    <tr>\n",
       "      <th>sex_Male</th>\n",
       "      <td>1.59</td>\n",
       "      <td>0.94</td>\n",
       "    </tr>\n",
       "    <tr>\n",
       "      <th>smoking_1</th>\n",
       "      <td>0.70</td>\n",
       "      <td>1.42</td>\n",
       "    </tr>\n",
       "    <tr>\n",
       "      <th>high_blood_pressure_1</th>\n",
       "      <td>0.96</td>\n",
       "      <td>0.74</td>\n",
       "    </tr>\n",
       "    <tr>\n",
       "      <th>anaemia_1</th>\n",
       "      <td>0.61</td>\n",
       "      <td>1.37</td>\n",
       "    </tr>\n",
       "  </tbody>\n",
       "</table>\n",
       "</div>"
      ],
      "text/plain": [
       "                       mildly_reduced OR   preserved OR\n",
       "const                        15812631.77 40511846878.96\n",
       "age                                 1.02           1.00\n",
       "bmi                                 0.71           0.41\n",
       "serum_sodium                        0.92           0.95\n",
       "serum_creatinine                    3.16          12.32\n",
       "diabetes_1                          0.92           1.83\n",
       "sex_Male                            1.59           0.94\n",
       "smoking_1                           0.70           1.42\n",
       "high_blood_pressure_1               0.96           0.74\n",
       "anaemia_1                           0.61           1.37"
      ]
     },
     "execution_count": 40,
     "metadata": {},
     "output_type": "execute_result"
    }
   ],
   "source": [
    "np.exp(result.params).rename(columns={0: 'mildly_reduced OR', 1:'preserved OR'})"
   ]
  },
  {
   "cell_type": "code",
   "execution_count": 41,
   "metadata": {
    "id": "dBSEKo6BTwhr"
   },
   "outputs": [
    {
     "data": {
      "text/plain": [
       "{0: 'reduced', 1: 'mildly reduced', 2: 'preserved'}"
      ]
     },
     "execution_count": 41,
     "metadata": {},
     "output_type": "execute_result"
    }
   ],
   "source": [
    "model._ynames_map"
   ]
  },
  {
   "cell_type": "code",
   "execution_count": 42,
   "metadata": {
    "colab": {
     "base_uri": "https://localhost:8080/",
     "height": 569
    },
    "executionInfo": {
     "elapsed": 473,
     "status": "ok",
     "timestamp": 1752246911047,
     "user": {
      "displayName": "Emanuele Alberti",
      "userId": "01048477993232507094"
     },
     "user_tz": -120
    },
    "id": "edwg_MEkPfn3",
    "outputId": "ba4549d4-61ba-4efd-ca28-020e5b579624"
   },
   "outputs": [
    {
     "data": {
      "image/png": "[encoded data removed]",
      "text/plain": [
       "<Figure size 800x600 with 1 Axes>"
      ]
     },
     "metadata": {},
     "output_type": "display_data"
    }
   ],
   "source": [
    "coef = result.params[0]\n",
    "odds_ratios = np.exp(coef)\n",
    "\n",
    "conf = result.conf_int().loc['mildly reduced']\n",
    "conf.columns = ['2.5%', '97.5%']\n",
    "conf = np.exp(conf)  # Exponentiate to get ORs' CIs\n",
    "\n",
    "or_summary = pd.DataFrame({\n",
    "    \"Coefficient Mildly Reduced\": coef,\n",
    "    \"Odds Ratio Mildly Reduced\": odds_ratios,\n",
    "    \"2.5% CI OR Mildly Reduced\": conf['2.5%'],\n",
    "    \"97.5% CI OR Mildly Reduced\": conf['97.5%']\n",
    "})\n",
    "\n",
    "fig, ax = plt.subplots(figsize=(8, len(or_summary) * 0.6))\n",
    "\n",
    "ax.errorbar(or_summary['Odds Ratio Mildly Reduced'], or_summary.index,\n",
    "            xerr=[or_summary['Odds Ratio Mildly Reduced'] - or_summary['2.5% CI OR Mildly Reduced'], or_summary['97.5% CI OR Mildly Reduced'] - or_summary['Odds Ratio Mildly Reduced']],\n",
    "            fmt='o', color='darkblue', ecolor='lightgray', elinewidth=3, capsize=4)\n",
    "\n",
    "ax.axvline(1, color='red', linestyle='--')\n",
    "\n",
    "ax.set_xlabel(\"Odds Ratio (log scale) Mildly Reduced\")\n",
    "ax.set_title(\"Forest Plot of Odds Ratios for Mildly Reduced class with 95% CI\")\n",
    "ax.set_xscale(\"log\")  # Log scale for better visualization\n",
    "\n",
    "plt.show()"
   ]
  },
  {
   "cell_type": "markdown",
   "metadata": {
    "id": "_2dMNLMf6Z71"
   },
   "source": [
    "## Test set evaluation"
   ]
  },
  {
   "cell_type": "code",
   "execution_count": 43,
   "metadata": {
    "colab": {
     "base_uri": "https://localhost:8080/",
     "height": 1000
    },
    "executionInfo": {
     "elapsed": 26,
     "status": "ok",
     "timestamp": 1752249545527,
     "user": {
      "displayName": "Emanuele Alberti",
      "userId": "01048477993232507094"
     },
     "user_tz": -120
    },
    "id": "Zt7bX6-n5qnh",
    "outputId": "aac43ac4-8cdd-478a-b031-8bc9b91a5f38"
   },
   "outputs": [
    {
     "data": {
      "text/html": [
       "<div>\n",
       "<style scoped>\n",
       "    .dataframe tbody tr th:only-of-type {\n",
       "        vertical-align: middle;\n",
       "    }\n",
       "\n",
       "    .dataframe tbody tr th {\n",
       "        vertical-align: top;\n",
       "    }\n",
       "\n",
       "    .dataframe thead th {\n",
       "        text-align: right;\n",
       "    }\n",
       "</style>\n",
       "<table border=\"1\" class=\"dataframe\">\n",
       "  <thead>\n",
       "    <tr style=\"text-align: right;\">\n",
       "      <th></th>\n",
       "      <th>0</th>\n",
       "      <th>1</th>\n",
       "      <th>2</th>\n",
       "    </tr>\n",
       "  </thead>\n",
       "  <tbody>\n",
       "    <tr>\n",
       "      <th>170</th>\n",
       "      <td>0.95</td>\n",
       "      <td>0.04</td>\n",
       "      <td>0.01</td>\n",
       "    </tr>\n",
       "    <tr>\n",
       "      <th>237</th>\n",
       "      <td>0.89</td>\n",
       "      <td>0.10</td>\n",
       "      <td>0.01</td>\n",
       "    </tr>\n",
       "    <tr>\n",
       "      <th>218</th>\n",
       "      <td>0.88</td>\n",
       "      <td>0.10</td>\n",
       "      <td>0.01</td>\n",
       "    </tr>\n",
       "    <tr>\n",
       "      <th>228</th>\n",
       "      <td>0.88</td>\n",
       "      <td>0.12</td>\n",
       "      <td>0.00</td>\n",
       "    </tr>\n",
       "    <tr>\n",
       "      <th>264</th>\n",
       "      <td>0.19</td>\n",
       "      <td>0.25</td>\n",
       "      <td>0.55</td>\n",
       "    </tr>\n",
       "    <tr>\n",
       "      <th>129</th>\n",
       "      <td>0.46</td>\n",
       "      <td>0.23</td>\n",
       "      <td>0.31</td>\n",
       "    </tr>\n",
       "    <tr>\n",
       "      <th>97</th>\n",
       "      <td>0.12</td>\n",
       "      <td>0.12</td>\n",
       "      <td>0.77</td>\n",
       "    </tr>\n",
       "    <tr>\n",
       "      <th>139</th>\n",
       "      <td>0.77</td>\n",
       "      <td>0.18</td>\n",
       "      <td>0.05</td>\n",
       "    </tr>\n",
       "    <tr>\n",
       "      <th>193</th>\n",
       "      <td>0.92</td>\n",
       "      <td>0.07</td>\n",
       "      <td>0.00</td>\n",
       "    </tr>\n",
       "    <tr>\n",
       "      <th>39</th>\n",
       "      <td>0.91</td>\n",
       "      <td>0.08</td>\n",
       "      <td>0.01</td>\n",
       "    </tr>\n",
       "    <tr>\n",
       "      <th>277</th>\n",
       "      <td>0.88</td>\n",
       "      <td>0.12</td>\n",
       "      <td>0.00</td>\n",
       "    </tr>\n",
       "    <tr>\n",
       "      <th>294</th>\n",
       "      <td>0.66</td>\n",
       "      <td>0.24</td>\n",
       "      <td>0.10</td>\n",
       "    </tr>\n",
       "    <tr>\n",
       "      <th>221</th>\n",
       "      <td>0.73</td>\n",
       "      <td>0.17</td>\n",
       "      <td>0.10</td>\n",
       "    </tr>\n",
       "    <tr>\n",
       "      <th>114</th>\n",
       "      <td>0.66</td>\n",
       "      <td>0.22</td>\n",
       "      <td>0.12</td>\n",
       "    </tr>\n",
       "    <tr>\n",
       "      <th>251</th>\n",
       "      <td>0.38</td>\n",
       "      <td>0.28</td>\n",
       "      <td>0.35</td>\n",
       "    </tr>\n",
       "    <tr>\n",
       "      <th>206</th>\n",
       "      <td>0.98</td>\n",
       "      <td>0.02</td>\n",
       "      <td>0.00</td>\n",
       "    </tr>\n",
       "    <tr>\n",
       "      <th>10</th>\n",
       "      <td>0.86</td>\n",
       "      <td>0.13</td>\n",
       "      <td>0.01</td>\n",
       "    </tr>\n",
       "    <tr>\n",
       "      <th>104</th>\n",
       "      <td>0.49</td>\n",
       "      <td>0.34</td>\n",
       "      <td>0.16</td>\n",
       "    </tr>\n",
       "    <tr>\n",
       "      <th>26</th>\n",
       "      <td>0.79</td>\n",
       "      <td>0.19</td>\n",
       "      <td>0.02</td>\n",
       "    </tr>\n",
       "    <tr>\n",
       "      <th>22</th>\n",
       "      <td>0.82</td>\n",
       "      <td>0.14</td>\n",
       "      <td>0.05</td>\n",
       "    </tr>\n",
       "    <tr>\n",
       "      <th>279</th>\n",
       "      <td>0.94</td>\n",
       "      <td>0.05</td>\n",
       "      <td>0.00</td>\n",
       "    </tr>\n",
       "    <tr>\n",
       "      <th>126</th>\n",
       "      <td>0.95</td>\n",
       "      <td>0.05</td>\n",
       "      <td>0.00</td>\n",
       "    </tr>\n",
       "    <tr>\n",
       "      <th>20</th>\n",
       "      <td>0.97</td>\n",
       "      <td>0.03</td>\n",
       "      <td>0.00</td>\n",
       "    </tr>\n",
       "    <tr>\n",
       "      <th>117</th>\n",
       "      <td>0.26</td>\n",
       "      <td>0.52</td>\n",
       "      <td>0.23</td>\n",
       "    </tr>\n",
       "    <tr>\n",
       "      <th>108</th>\n",
       "      <td>0.94</td>\n",
       "      <td>0.06</td>\n",
       "      <td>0.00</td>\n",
       "    </tr>\n",
       "    <tr>\n",
       "      <th>65</th>\n",
       "      <td>0.43</td>\n",
       "      <td>0.48</td>\n",
       "      <td>0.09</td>\n",
       "    </tr>\n",
       "    <tr>\n",
       "      <th>110</th>\n",
       "      <td>0.46</td>\n",
       "      <td>0.37</td>\n",
       "      <td>0.17</td>\n",
       "    </tr>\n",
       "    <tr>\n",
       "      <th>162</th>\n",
       "      <td>0.46</td>\n",
       "      <td>0.22</td>\n",
       "      <td>0.31</td>\n",
       "    </tr>\n",
       "    <tr>\n",
       "      <th>268</th>\n",
       "      <td>0.75</td>\n",
       "      <td>0.16</td>\n",
       "      <td>0.09</td>\n",
       "    </tr>\n",
       "    <tr>\n",
       "      <th>202</th>\n",
       "      <td>0.12</td>\n",
       "      <td>0.34</td>\n",
       "      <td>0.53</td>\n",
       "    </tr>\n",
       "    <tr>\n",
       "      <th>112</th>\n",
       "      <td>0.90</td>\n",
       "      <td>0.09</td>\n",
       "      <td>0.00</td>\n",
       "    </tr>\n",
       "    <tr>\n",
       "      <th>238</th>\n",
       "      <td>0.85</td>\n",
       "      <td>0.10</td>\n",
       "      <td>0.06</td>\n",
       "    </tr>\n",
       "    <tr>\n",
       "      <th>190</th>\n",
       "      <td>0.66</td>\n",
       "      <td>0.33</td>\n",
       "      <td>0.01</td>\n",
       "    </tr>\n",
       "    <tr>\n",
       "      <th>46</th>\n",
       "      <td>0.89</td>\n",
       "      <td>0.11</td>\n",
       "      <td>0.00</td>\n",
       "    </tr>\n",
       "    <tr>\n",
       "      <th>160</th>\n",
       "      <td>0.80</td>\n",
       "      <td>0.18</td>\n",
       "      <td>0.02</td>\n",
       "    </tr>\n",
       "    <tr>\n",
       "      <th>82</th>\n",
       "      <td>0.98</td>\n",
       "      <td>0.02</td>\n",
       "      <td>0.00</td>\n",
       "    </tr>\n",
       "    <tr>\n",
       "      <th>168</th>\n",
       "      <td>0.89</td>\n",
       "      <td>0.09</td>\n",
       "      <td>0.01</td>\n",
       "    </tr>\n",
       "    <tr>\n",
       "      <th>241</th>\n",
       "      <td>0.73</td>\n",
       "      <td>0.20</td>\n",
       "      <td>0.08</td>\n",
       "    </tr>\n",
       "    <tr>\n",
       "      <th>36</th>\n",
       "      <td>0.04</td>\n",
       "      <td>0.13</td>\n",
       "      <td>0.83</td>\n",
       "    </tr>\n",
       "    <tr>\n",
       "      <th>44</th>\n",
       "      <td>0.10</td>\n",
       "      <td>0.07</td>\n",
       "      <td>0.84</td>\n",
       "    </tr>\n",
       "    <tr>\n",
       "      <th>90</th>\n",
       "      <td>0.13</td>\n",
       "      <td>0.18</td>\n",
       "      <td>0.69</td>\n",
       "    </tr>\n",
       "    <tr>\n",
       "      <th>223</th>\n",
       "      <td>0.75</td>\n",
       "      <td>0.19</td>\n",
       "      <td>0.06</td>\n",
       "    </tr>\n",
       "    <tr>\n",
       "      <th>195</th>\n",
       "      <td>0.30</td>\n",
       "      <td>0.43</td>\n",
       "      <td>0.27</td>\n",
       "    </tr>\n",
       "    <tr>\n",
       "      <th>254</th>\n",
       "      <td>0.16</td>\n",
       "      <td>0.17</td>\n",
       "      <td>0.67</td>\n",
       "    </tr>\n",
       "    <tr>\n",
       "      <th>92</th>\n",
       "      <td>0.35</td>\n",
       "      <td>0.27</td>\n",
       "      <td>0.38</td>\n",
       "    </tr>\n",
       "    <tr>\n",
       "      <th>159</th>\n",
       "      <td>0.72</td>\n",
       "      <td>0.16</td>\n",
       "      <td>0.12</td>\n",
       "    </tr>\n",
       "    <tr>\n",
       "      <th>127</th>\n",
       "      <td>0.09</td>\n",
       "      <td>0.06</td>\n",
       "      <td>0.85</td>\n",
       "    </tr>\n",
       "    <tr>\n",
       "      <th>18</th>\n",
       "      <td>0.97</td>\n",
       "      <td>0.03</td>\n",
       "      <td>0.00</td>\n",
       "    </tr>\n",
       "    <tr>\n",
       "      <th>183</th>\n",
       "      <td>0.81</td>\n",
       "      <td>0.18</td>\n",
       "      <td>0.00</td>\n",
       "    </tr>\n",
       "    <tr>\n",
       "      <th>282</th>\n",
       "      <td>0.73</td>\n",
       "      <td>0.26</td>\n",
       "      <td>0.01</td>\n",
       "    </tr>\n",
       "    <tr>\n",
       "      <th>102</th>\n",
       "      <td>0.75</td>\n",
       "      <td>0.23</td>\n",
       "      <td>0.02</td>\n",
       "    </tr>\n",
       "    <tr>\n",
       "      <th>51</th>\n",
       "      <td>0.97</td>\n",
       "      <td>0.03</td>\n",
       "      <td>0.00</td>\n",
       "    </tr>\n",
       "    <tr>\n",
       "      <th>2</th>\n",
       "      <td>0.93</td>\n",
       "      <td>0.07</td>\n",
       "      <td>0.00</td>\n",
       "    </tr>\n",
       "    <tr>\n",
       "      <th>236</th>\n",
       "      <td>0.37</td>\n",
       "      <td>0.49</td>\n",
       "      <td>0.14</td>\n",
       "    </tr>\n",
       "    <tr>\n",
       "      <th>24</th>\n",
       "      <td>0.96</td>\n",
       "      <td>0.04</td>\n",
       "      <td>0.00</td>\n",
       "    </tr>\n",
       "    <tr>\n",
       "      <th>96</th>\n",
       "      <td>0.31</td>\n",
       "      <td>0.25</td>\n",
       "      <td>0.44</td>\n",
       "    </tr>\n",
       "    <tr>\n",
       "      <th>225</th>\n",
       "      <td>0.16</td>\n",
       "      <td>0.43</td>\n",
       "      <td>0.40</td>\n",
       "    </tr>\n",
       "    <tr>\n",
       "      <th>54</th>\n",
       "      <td>0.89</td>\n",
       "      <td>0.08</td>\n",
       "      <td>0.03</td>\n",
       "    </tr>\n",
       "    <tr>\n",
       "      <th>123</th>\n",
       "      <td>0.53</td>\n",
       "      <td>0.17</td>\n",
       "      <td>0.30</td>\n",
       "    </tr>\n",
       "    <tr>\n",
       "      <th>89</th>\n",
       "      <td>0.96</td>\n",
       "      <td>0.04</td>\n",
       "      <td>0.00</td>\n",
       "    </tr>\n",
       "  </tbody>\n",
       "</table>\n",
       "</div>"
      ],
      "text/plain": [
       "       0    1    2\n",
       "170 0.95 0.04 0.01\n",
       "237 0.89 0.10 0.01\n",
       "218 0.88 0.10 0.01\n",
       "228 0.88 0.12 0.00\n",
       "264 0.19 0.25 0.55\n",
       "129 0.46 0.23 0.31\n",
       "97  0.12 0.12 0.77\n",
       "139 0.77 0.18 0.05\n",
       "193 0.92 0.07 0.00\n",
       "39  0.91 0.08 0.01\n",
       "277 0.88 0.12 0.00\n",
       "294 0.66 0.24 0.10\n",
       "221 0.73 0.17 0.10\n",
       "114 0.66 0.22 0.12\n",
       "251 0.38 0.28 0.35\n",
       "206 0.98 0.02 0.00\n",
       "10  0.86 0.13 0.01\n",
       "104 0.49 0.34 0.16\n",
       "26  0.79 0.19 0.02\n",
       "22  0.82 0.14 0.05\n",
       "279 0.94 0.05 0.00\n",
       "126 0.95 0.05 0.00\n",
       "20  0.97 0.03 0.00\n",
       "117 0.26 0.52 0.23\n",
       "108 0.94 0.06 0.00\n",
       "65  0.43 0.48 0.09\n",
       "110 0.46 0.37 0.17\n",
       "162 0.46 0.22 0.31\n",
       "268 0.75 0.16 0.09\n",
       "202 0.12 0.34 0.53\n",
       "112 0.90 0.09 0.00\n",
       "238 0.85 0.10 0.06\n",
       "190 0.66 0.33 0.01\n",
       "46  0.89 0.11 0.00\n",
       "160 0.80 0.18 0.02\n",
       "82  0.98 0.02 0.00\n",
       "168 0.89 0.09 0.01\n",
       "241 0.73 0.20 0.08\n",
       "36  0.04 0.13 0.83\n",
       "44  0.10 0.07 0.84\n",
       "90  0.13 0.18 0.69\n",
       "223 0.75 0.19 0.06\n",
       "195 0.30 0.43 0.27\n",
       "254 0.16 0.17 0.67\n",
       "92  0.35 0.27 0.38\n",
       "159 0.72 0.16 0.12\n",
       "127 0.09 0.06 0.85\n",
       "18  0.97 0.03 0.00\n",
       "183 0.81 0.18 0.00\n",
       "282 0.73 0.26 0.01\n",
       "102 0.75 0.23 0.02\n",
       "51  0.97 0.03 0.00\n",
       "2   0.93 0.07 0.00\n",
       "236 0.37 0.49 0.14\n",
       "24  0.96 0.04 0.00\n",
       "96  0.31 0.25 0.44\n",
       "225 0.16 0.43 0.40\n",
       "54  0.89 0.08 0.03\n",
       "123 0.53 0.17 0.30\n",
       "89  0.96 0.04 0.00"
      ]
     },
     "execution_count": 43,
     "metadata": {},
     "output_type": "execute_result"
    }
   ],
   "source": [
    "y_test_pred_prob = result.predict(X_test)  # Returns probabilities for each class\n",
    "y_test_pred_prob"
   ]
  },
  {
   "cell_type": "code",
   "execution_count": 44,
   "metadata": {
    "executionInfo": {
     "elapsed": 17,
     "status": "ok",
     "timestamp": 1752249547988,
     "user": {
      "displayName": "Emanuele Alberti",
      "userId": "01048477993232507094"
     },
     "user_tz": -120
    },
    "id": "KQmUC1jXAuBD"
   },
   "outputs": [],
   "source": [
    "y_test_pred_prob.rename(model._ynames_map, axis='columns', inplace=True)\n",
    "\n",
    "y_test_pred_class = y_test_pred_prob.idxmax(axis=1) #for each sample, assign the class with maximum probability"
   ]
  },
  {
   "cell_type": "code",
   "execution_count": 45,
   "metadata": {
    "colab": {
     "base_uri": "https://localhost:8080/",
     "height": 564
    },
    "executionInfo": {
     "elapsed": 171,
     "status": "ok",
     "timestamp": 1752249550364,
     "user": {
      "displayName": "Emanuele Alberti",
      "userId": "01048477993232507094"
     },
     "user_tz": -120
    },
    "id": "10TeMM6e0DcR",
    "outputId": "1c79b38d-8055-47bb-c142-8acf08485fec"
   },
   "outputs": [
    {
     "data": {
      "image/png": "[encoded data removed]",
      "text/plain": [
       "<Figure size 800x600 with 2 Axes>"
      ]
     },
     "metadata": {},
     "output_type": "display_data"
    }
   ],
   "source": [
    "cm = confusion_matrix(y_test, y_test_pred_class, labels=list(model._ynames_map.values()))\n",
    "\n",
    "class_names = model._ynames_map.values()\n",
    "\n",
    "plt.figure(figsize=(8, 6))\n",
    "sns.heatmap(cm, annot=True, fmt=\"d\", cmap=\"Blues\", xticklabels=class_names, yticklabels=class_names)\n",
    "plt.xlabel(\"Predicted Label\")\n",
    "plt.ylabel(\"True Label\")\n",
    "plt.title(\"Confusion Matrix\")\n",
    "plt.show()"
   ]
  },
  {
   "cell_type": "code",
   "execution_count": 46,
   "metadata": {
    "colab": {
     "base_uri": "https://localhost:8080/",
     "height": 193
    },
    "executionInfo": {
     "elapsed": 14,
     "status": "error",
     "timestamp": 1752249589108,
     "user": {
      "displayName": "Emanuele Alberti",
      "userId": "01048477993232507094"
     },
     "user_tz": -120
    },
    "id": "cmwcR8co0Uy1",
    "outputId": "9b5b14e7-d1d5-4eec-d9bd-d962e82c431d"
   },
   "outputs": [
    {
     "name": "stdout",
     "output_type": "stream",
     "text": [
      "\n",
      "Classification Report:\n",
      "                precision    recall  f1-score   support\n",
      "\n",
      "mildly reduced       0.40      0.18      0.25        11\n",
      "     preserved       0.70      0.70      0.70        10\n",
      "       reduced       0.82      0.95      0.88        39\n",
      "\n",
      "      accuracy                           0.77        60\n",
      "     macro avg       0.64      0.61      0.61        60\n",
      "  weighted avg       0.72      0.77      0.74        60\n",
      "\n"
     ]
    }
   ],
   "source": [
    "print(\"\\nClassification Report:\")\n",
    "print(classification_report(y_test, y_test_pred_class))"
   ]
  },
  {
   "cell_type": "markdown",
   "metadata": {
    "id": "VI8shPgJ_FeI"
   },
   "source": [
    "In a multiclass context, the ROC-AUC can be computed per class with a one-vs-all approach"
   ]
  },
  {
   "cell_type": "code",
   "execution_count": 47,
   "metadata": {
    "colab": {
     "base_uri": "https://localhost:8080/",
     "height": 211
    },
    "executionInfo": {
     "elapsed": 46,
     "status": "error",
     "timestamp": 1752249582637,
     "user": {
      "displayName": "Emanuele Alberti",
      "userId": "01048477993232507094"
     },
     "user_tz": -120
    },
    "id": "K4e_pKF2--Ef",
    "outputId": "1b04ba31-9e1e-4078-e91d-af627449c5b9"
   },
   "outputs": [
    {
     "name": "stdout",
     "output_type": "stream",
     "text": [
      "ROC AUC for reduced: 0.93\n",
      "ROC AUC for mildly reduced: 0.73\n",
      "ROC AUC for preserved: 0.95\n"
     ]
    }
   ],
   "source": [
    "# Compute ROC AUC for each class (one-vs-all)\n",
    "roc_auc_scores = {}\n",
    "for i in (y_test_pred_prob.columns):\n",
    "    roc_auc = roc_auc_score(y_test == i, y_test_pred_prob.loc[:, i])  # Treat class i as positive\n",
    "    roc_auc_scores[i] = roc_auc\n",
    "\n",
    "# Output the ROC AUC scores\n",
    "for class_name, auc in roc_auc_scores.items():\n",
    "    print(f'ROC AUC for {class_name}: {auc:.2f}')"
   ]
  },
  {
   "cell_type": "markdown",
   "metadata": {
    "id": "A63wXA82_0w7"
   },
   "source": [
    "An aggregate ROC-AUC can be computed in different ways"
   ]
  },
  {
   "cell_type": "code",
   "execution_count": 48,
   "metadata": {
    "id": "noHPH-Ur_4ay"
   },
   "outputs": [
    {
     "name": "stdout",
     "output_type": "stream",
     "text": [
      "Micro-average ROC AUC: 0.92\n",
      "Macro-average ROC AUC: 0.87\n",
      "Weighted-average ROC AUC: 0.89\n"
     ]
    }
   ],
   "source": [
    "y_test = y_test.map({'reduced': 0, 'mildly reduced': 1, 'preserved': 2})\n",
    "y_test_pred_prob.rename(columns={'reduced': 0, 'mildly reduced': 1, 'preserved': 2}, inplace=True)\n",
    "\n",
    "roc_auc_micro = roc_auc_score(y_test, y_test_pred_prob, average='micro', multi_class='ovr')\n",
    "print(f'Micro-average ROC AUC: {roc_auc_micro:.2f}')\n",
    "\n",
    "roc_auc_micro = roc_auc_score(y_test, y_test_pred_prob, average='macro', multi_class='ovr')\n",
    "print(f'Macro-average ROC AUC: {roc_auc_micro:.2f}')\n",
    "\n",
    "roc_auc_micro = roc_auc_score(y_test, y_test_pred_prob, average='weighted', multi_class='ovr')\n",
    "print(f'Weighted-average ROC AUC: {roc_auc_micro:.2f}')"
   ]
  },
  {
   "cell_type": "markdown",
   "metadata": {
    "id": "MaNpDfJYArJ_"
   },
   "source": [
    "\\begin{array}{|c|c|c|c|}\n",
    "\\hline\n",
    "\\textbf{Aspect} & \\textbf{Macro-Averaging} & \\textbf{Micro-Averaging} & \\textbf{Weighted Averaging} \\\\\n",
    "\\hline\n",
    "\\textbf{Calculation} & \\text{Average of individual class metrics} & \\text{Aggregated metrics across all classes} & \\text{Average of class metrics weighted by class size} \\\\\n",
    "\\hline\n",
    "\\textbf{Class Weighting} & \\text{Treats all classes equally} & \\text{Larger classes have more influence} & \\text{Larger classes influence the average more} \\\\\n",
    "\\hline\n",
    "\\textbf{Performance Insight} & \\text{Insight into performance of each class} & \\text{Overall performance across the entire dataset} & \\text{Balanced evaluation considering class sizes} \\\\\n",
    "\\hline\n",
    "\\textbf{Sensitivity} & \\text{Sensitive to class imbalance} & \\text{More robust to class imbalance} & \\text{Moderately sensitive to class imbalance} \\\\\n",
    "\\hline\n",
    "\\textbf{Use Cases} & \\text{Class-specific performance} & \\text{Overall model performance} & \\text{Balanced performance in imbalanced datasets} \\\\\n",
    "\\hline\n",
    "\\end{array}\n"
   ]
  },
  {
   "cell_type": "markdown",
   "metadata": {
    "id": "BDa_gcPYaO2m"
   },
   "source": [
    "$$\n",
    "\\text{Precision}_{\\text{micro}} = \\frac{\\sum_{i=1}^{C} \\text{TP}_i}{\\sum_{i=1}^{C} (\\text{TP}_i + \\text{FP}_i)}\n",
    "$$\n",
    "\n",
    "$$\n",
    "\\text{Recall}_{\\text{micro}} = \\frac{\\sum_{i=1}^{C} \\text{TP}_i}{\\sum_{i=1}^{C} (\\text{TP}_i + \\text{FN}_i)}\n",
    "$$\n",
    "\n",
    "$$\n",
    "\\text{F1}_{\\text{micro}} = 2 \\times \\frac{\\text{Precision}_{\\text{micro}} \\times \\text{Recall}_{\\text{micro}}}{\\text{Precision}_{\\text{micro}} + \\text{Recall}_{\\text{micro}}}\n",
    "$$\n"
   ]
  },
  {
   "cell_type": "markdown",
   "metadata": {
    "id": "kSehOv6SiWbJ"
   },
   "source": [
    "Use macro when:\n",
    "\n",
    "*  You care about per-class behavior, and you want to treat all classes equally, regardless of their frequency.\n",
    "\n",
    "*  You want to evaluate model fairness across all classes, including rare or underrepresented ones.\n",
    "\n",
    "*  You're dealing with imbalanced data, and you want to make sure small classes still matter in the evaluation.\n",
    "\n",
    "*  You want to highlight weaknesses in your model’s performance on rare classes.\n",
    "\n",
    "\n",
    "\n",
    "Use micro when:\n",
    "\n",
    "*  You don't care about classes individually.\n",
    "\n",
    "* You only care about total prediction quality.\n",
    "\n",
    "* You are working with highly multilabel settings (many labels per sample).\n",
    "\n",
    "* You want one simple number for \"How many labels did I guess right?\".\n",
    "\n",
    "Use weighted when:\n",
    "\n",
    "* You do care about per-class behavior.\n",
    "\n",
    "* You want a summary that adjusts for imbalance but still thinks per-class.\n",
    "\n",
    "* You have imbalanced classes, but you still want per-class precision/recall insight."
   ]
  },
  {
   "cell_type": "markdown",
   "metadata": {
    "id": "19YXnDAi2CLv"
   },
   "source": [
    "## Change baseline class"
   ]
  },
  {
   "cell_type": "markdown",
   "metadata": {
    "id": "n-KufCN592KX"
   },
   "source": [
    "Manually encoding the target variable allows us to change the order of the numerical labels and consequently change the variable used as base"
   ]
  },
  {
   "cell_type": "code",
   "execution_count": 49,
   "metadata": {
    "executionInfo": {
     "elapsed": 36,
     "status": "ok",
     "timestamp": 1752249824336,
     "user": {
      "displayName": "Emanuele Alberti",
      "userId": "01048477993232507094"
     },
     "user_tz": -120
    },
    "id": "FKiDyndE1D2F"
   },
   "outputs": [],
   "source": [
    "df_encoded = pd.get_dummies(df, columns=cat_vars, drop_first=True, dtype=int)\n",
    "df_encoded['ef_cat'] = pd.Categorical(df['ef_cat'], categories=['mildly reduced', 'preserved', 'reduced'], ordered=True)"
   ]
  },
  {
   "cell_type": "code",
   "execution_count": 50,
   "metadata": {
    "executionInfo": {
     "elapsed": 19,
     "status": "ok",
     "timestamp": 1752249825113,
     "user": {
      "displayName": "Emanuele Alberti",
      "userId": "01048477993232507094"
     },
     "user_tz": -120
    },
    "id": "Jfs_Y9eF2VBa"
   },
   "outputs": [],
   "source": [
    "X = df_encoded[['age', 'bmi', 'serum_sodium', 'serum_creatinine', 'diabetes_1', 'sex_Male', 'smoking_1', 'high_blood_pressure_1', 'anaemia_1']]\n",
    "y = df_encoded['ef_cat']  # Multiclass target variable\n",
    "\n",
    "X = sm.add_constant(X)\n",
    "\n",
    "X_train, X_test, y_train, y_test = train_test_split(X, y, test_size=0.2, random_state=1234, stratify=y)"
   ]
  },
  {
   "cell_type": "code",
   "execution_count": 51,
   "metadata": {
    "colab": {
     "base_uri": "https://localhost:8080/"
    },
    "executionInfo": {
     "elapsed": 40,
     "status": "ok",
     "timestamp": 1752249826051,
     "user": {
      "displayName": "Emanuele Alberti",
      "userId": "01048477993232507094"
     },
     "user_tz": -120
    },
    "id": "QiboF4it2ZQk",
    "outputId": "6836adee-3aea-4ee9-8dda-26f5e71892cb"
   },
   "outputs": [
    {
     "name": "stdout",
     "output_type": "stream",
     "text": [
      "Optimization terminated successfully.\n",
      "         Current function value: 0.625371\n",
      "         Iterations 8\n",
      "                          MNLogit Regression Results                          \n",
      "==============================================================================\n",
      "Dep. Variable:                 ef_cat   No. Observations:                  239\n",
      "Model:                        MNLogit   Df Residuals:                      219\n",
      "Method:                           MLE   Df Model:                           18\n",
      "Date:                Sun, 13 Jul 2025   Pseudo R-squ.:                  0.2901\n",
      "Time:                        15:48:21   Log-Likelihood:                -149.46\n",
      "converged:                       True   LL-Null:                       -210.53\n",
      "Covariance Type:            nonrobust   LLR p-value:                 1.657e-17\n",
      "=========================================================================================\n",
      "     ef_cat=preserved       coef    std err          z      P>|z|      [0.025      0.975]\n",
      "-----------------------------------------------------------------------------------------\n",
      "const                     7.8485      8.602      0.912      0.362      -9.011      24.708\n",
      "age                      -0.0286      0.023     -1.252      0.211      -0.073       0.016\n",
      "bmi                      -0.5542      0.127     -4.371      0.000      -0.803      -0.306\n",
      "serum_sodium              0.0382      0.059      0.651      0.515      -0.077       0.153\n",
      "serum_creatinine          1.3594      0.382      3.560      0.000       0.611       2.108\n",
      "diabetes_1                0.6914      0.542      1.276      0.202      -0.371       1.754\n",
      "sex_Male                 -0.5190      0.612     -0.848      0.396      -1.718       0.680\n",
      "smoking_1                 0.7084      0.647      1.095      0.274      -0.560       1.977\n",
      "high_blood_pressure_1    -0.2614      0.547     -0.478      0.633      -1.334       0.811\n",
      "anaemia_1                 0.8091      0.538      1.504      0.133      -0.246       1.864\n",
      "-----------------------------------------------------------------------------------------\n",
      "       ef_cat=reduced       coef    std err          z      P>|z|      [0.025      0.975]\n",
      "-----------------------------------------------------------------------------------------\n",
      "const                   -16.5763      6.723     -2.466      0.014     -29.753      -3.400\n",
      "age                      -0.0241      0.016     -1.533      0.125      -0.055       0.007\n",
      "bmi                       0.3384      0.081      4.203      0.000       0.181       0.496\n",
      "serum_sodium              0.0861      0.047      1.819      0.069      -0.007       0.179\n",
      "serum_creatinine         -1.1518      0.337     -3.415      0.001      -1.813      -0.491\n",
      "diabetes_1                0.0873      0.401      0.218      0.827      -0.698       0.872\n",
      "sex_Male                 -0.4620      0.462     -1.000      0.318      -1.368       0.444\n",
      "smoking_1                 0.3606      0.458      0.787      0.431      -0.538       1.259\n",
      "high_blood_pressure_1     0.0457      0.415      0.110      0.912      -0.768       0.860\n",
      "anaemia_1                 0.4954      0.401      1.236      0.217      -0.290       1.281\n",
      "=========================================================================================\n"
     ]
    }
   ],
   "source": [
    "model = sm.MNLogit(y_train, X_train)\n",
    "result = model.fit()\n",
    "\n",
    "print(result.summary())"
   ]
  },
  {
   "cell_type": "code",
   "execution_count": 52,
   "metadata": {
    "colab": {
     "base_uri": "https://localhost:8080/",
     "height": 363
    },
    "executionInfo": {
     "elapsed": 20,
     "status": "ok",
     "timestamp": 1752249828301,
     "user": {
      "displayName": "Emanuele Alberti",
      "userId": "01048477993232507094"
     },
     "user_tz": -120
    },
    "id": "A0Ks2EspRtQo",
    "outputId": "b49726f7-6a6d-48b8-9536-ea62781ebb1c"
   },
   "outputs": [
    {
     "data": {
      "text/html": [
       "<div>\n",
       "<style scoped>\n",
       "    .dataframe tbody tr th:only-of-type {\n",
       "        vertical-align: middle;\n",
       "    }\n",
       "\n",
       "    .dataframe tbody tr th {\n",
       "        vertical-align: top;\n",
       "    }\n",
       "\n",
       "    .dataframe thead th {\n",
       "        text-align: right;\n",
       "    }\n",
       "</style>\n",
       "<table border=\"1\" class=\"dataframe\">\n",
       "  <thead>\n",
       "    <tr style=\"text-align: right;\">\n",
       "      <th></th>\n",
       "      <th>preserved OR</th>\n",
       "      <th>reduced OR</th>\n",
       "    </tr>\n",
       "  </thead>\n",
       "  <tbody>\n",
       "    <tr>\n",
       "      <th>const</th>\n",
       "      <td>2561.99</td>\n",
       "      <td>0.00</td>\n",
       "    </tr>\n",
       "    <tr>\n",
       "      <th>age</th>\n",
       "      <td>0.97</td>\n",
       "      <td>0.98</td>\n",
       "    </tr>\n",
       "    <tr>\n",
       "      <th>bmi</th>\n",
       "      <td>0.57</td>\n",
       "      <td>1.40</td>\n",
       "    </tr>\n",
       "    <tr>\n",
       "      <th>serum_sodium</th>\n",
       "      <td>1.04</td>\n",
       "      <td>1.09</td>\n",
       "    </tr>\n",
       "    <tr>\n",
       "      <th>serum_creatinine</th>\n",
       "      <td>3.89</td>\n",
       "      <td>0.32</td>\n",
       "    </tr>\n",
       "    <tr>\n",
       "      <th>diabetes_1</th>\n",
       "      <td>2.00</td>\n",
       "      <td>1.09</td>\n",
       "    </tr>\n",
       "    <tr>\n",
       "      <th>sex_Male</th>\n",
       "      <td>0.60</td>\n",
       "      <td>0.63</td>\n",
       "    </tr>\n",
       "    <tr>\n",
       "      <th>smoking_1</th>\n",
       "      <td>2.03</td>\n",
       "      <td>1.43</td>\n",
       "    </tr>\n",
       "    <tr>\n",
       "      <th>high_blood_pressure_1</th>\n",
       "      <td>0.77</td>\n",
       "      <td>1.05</td>\n",
       "    </tr>\n",
       "    <tr>\n",
       "      <th>anaemia_1</th>\n",
       "      <td>2.25</td>\n",
       "      <td>1.64</td>\n",
       "    </tr>\n",
       "  </tbody>\n",
       "</table>\n",
       "</div>"
      ],
      "text/plain": [
       "                       preserved OR  reduced OR\n",
       "const                       2561.99        0.00\n",
       "age                            0.97        0.98\n",
       "bmi                            0.57        1.40\n",
       "serum_sodium                   1.04        1.09\n",
       "serum_creatinine               3.89        0.32\n",
       "diabetes_1                     2.00        1.09\n",
       "sex_Male                       0.60        0.63\n",
       "smoking_1                      2.03        1.43\n",
       "high_blood_pressure_1          0.77        1.05\n",
       "anaemia_1                      2.25        1.64"
      ]
     },
     "execution_count": 52,
     "metadata": {},
     "output_type": "execute_result"
    }
   ],
   "source": [
    "np.exp(result.params).rename(columns={0: 'preserved OR', 1:'reduced OR'})"
   ]
  }
 ],
 "metadata": {
  "colab": {
   "provenance": [
    {
     "file_id": "1k9txhf7cIBfiyf3osqQfPNjcpcdIT8tF",
     "timestamp": 1749475750152
    }
   ],
   "toc_visible": true
  },
  "kernelspec": {
   "display_name": ".venv",
   "language": "python",
   "name": "python3"
  },
  "language_info": {
   "codemirror_mode": {
    "name": "ipython",
    "version": 3
   },
   "file_extension": ".py",
   "mimetype": "text/x-python",
   "name": "python",
   "nbconvert_exporter": "python",
   "pygments_lexer": "ipython3",
   "version": "3.13.5"
  }
 },
 "nbformat": 4,
 "nbformat_minor": 0
}
