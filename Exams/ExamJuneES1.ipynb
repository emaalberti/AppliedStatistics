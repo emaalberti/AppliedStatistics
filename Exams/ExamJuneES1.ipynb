{
 "cells": [
  {
   "cell_type": "markdown",
   "id": "9153f321",
   "metadata": {},
   "source": [
    "### ES 1"
   ]
  },
  {
   "cell_type": "code",
   "execution_count": 63,
   "id": "95cde9dc",
   "metadata": {},
   "outputs": [],
   "source": [
    "# import to avoid warning about unused imports\n",
    "import warnings\n",
    "warnings.filterwarnings(\"ignore\")"
   ]
  },
  {
   "cell_type": "markdown",
   "id": "3afae1fb",
   "metadata": {},
   "source": [
    "The CSV file disease_screening.csv contains 20 biomarkers and the categorical outcome disease. The disease variable takes values 0, 1, 2, 3, and 4, where 0 corresponds to a healthy patient and 1 to 4 are associated with four different kinds of diseases.\n",
    "\n",
    "Split the dataset into training and testing using the `train_test_split` function with parameters `test_size=0.3, random_state=42."
   ]
  },
  {
   "cell_type": "code",
   "execution_count": 64,
   "id": "fce69feb",
   "metadata": {},
   "outputs": [],
   "source": [
    "import pandas as pd\n",
    "import numpy as np\n",
    "from sklearn.model_selection import train_test_split\n",
    "df = pd.read_csv(\"disease_screening (3).csv\")\n",
    "df.head()\n",
    "X = pd.DataFrame(df.drop(columns=['disease']))\n",
    "y = df['disease']\n",
    "\n",
    "X_train, X_test, y_train, y_test = train_test_split(X, y, test_size=0.2, random_state=42, stratify=y)"
   ]
  },
  {
   "cell_type": "code",
   "execution_count": 65,
   "id": "1a2e9da1",
   "metadata": {},
   "outputs": [
    {
     "name": "stdout",
     "output_type": "stream",
     "text": [
      "Selected features: ['bio_15', 'bio_17', 'bio_19', 'bio_3', 'bio_14', 'bio_5']\n"
     ]
    }
   ],
   "source": [
    "#Apply forward step-wise feature selection on a logistic regression model using BIC as the criterion. List the selected variables.\n",
    "from sklearn.linear_model import LogisticRegression\n",
    "import statsmodels.api as sm\n",
    "\n",
    "def compute_bic(X_sub, y_sub):\n",
    "    X_const = sm.add_constant(X_sub)\n",
    "    model = sm.MNLogit(y_sub, X_const)\n",
    "    result = model.fit(disp=False)\n",
    "    return result.bic\n",
    "\n",
    "\n",
    "selected = [] #features selezionate \n",
    "remaining = list(X_train.columns) #feature che rimangono\n",
    "best_bic = np.inf #miglior bic fino ad ora\n",
    "\n",
    "while remaining: #finche ci sono delle feature \n",
    "    bic_list = []\n",
    "    for feat in remaining:\n",
    "        bic = compute_bic(X_train[selected + [feat]], y_train)\n",
    "        bic_list.append((bic, feat))\n",
    "    bic_list.sort() #ordino i bic\n",
    "    bic_candidate, feature_candidate = bic_list[0] #prendo il miglior bic e la feature associata\n",
    "\n",
    "    \n",
    "    if bic_candidate < best_bic: #se il bic candidato è migliore del miglior bic\n",
    "        best_bic = bic_candidate #aggiorno il miglior bic\n",
    "        selected.append(feature_candidate) #aggiungo la feature selezionata\n",
    "        remaining.remove(feature_candidate) #rimuovo la feature selezionata dalle rimanenti\n",
    "    else:\n",
    "        break\n",
    "    \n",
    "print(\"Selected features:\", selected)\n"
   ]
  },
  {
   "cell_type": "code",
   "execution_count": 66,
   "id": "e691c8a3",
   "metadata": {},
   "outputs": [
    {
     "name": "stdout",
     "output_type": "stream",
     "text": [
      "Selected features: ['bio_1', 'bio_2', 'bio_3', 'bio_4', 'bio_5', 'bio_6', 'bio_7', 'bio_8', 'bio_11', 'bio_12', 'bio_14', 'bio_15', 'bio_16', 'bio_17', 'bio_19', 'bio_20']\n"
     ]
    }
   ],
   "source": [
    "def compute_bic(X_sub, y_sub):\n",
    "    X_const = sm.add_constant(X_sub)\n",
    "    model = sm.MNLogit(y_sub, X_const)\n",
    "    result = model.fit(disp=False, max_iter=100)\n",
    "    return result.bic\n",
    "\n",
    "\n",
    "selected = list(X_train.columns)  # Parti con TUTTE le features\n",
    "best_bic = compute_bic(X_train[selected], y_train)  # BIC iniziale con tutte le features\n",
    "\n",
    "while len(selected) > 1:  # Finché hai più di 1 feature\n",
    "    bic_list = []\n",
    "    for feat in selected:\n",
    "        # Testa rimuovendo questa feature\n",
    "        remaining_features = [f for f in selected if f != feat]\n",
    "        bic = compute_bic(X_train[remaining_features], y_train)\n",
    "        bic_list.append((bic, feat))\n",
    "    \n",
    "    bic_list.sort()  # Ordino i BIC\n",
    "    bic_candidate, feature_candidate = bic_list[0]  # Prendo il miglior BIC e la feature da rimuovere\n",
    "    \n",
    "    if bic_candidate < best_bic:  # Se rimuovere questa feature migliora il BIC\n",
    "        best_bic = bic_candidate  # Aggiorno il miglior BIC\n",
    "        selected.remove(feature_candidate)  # Rimuovo la feature dalle selezionate\n",
    "    else:\n",
    "        break  # Stop se rimuovere qualsiasi feature peggiora il modello\n",
    "    \n",
    "print(\"Selected features:\", selected)\n"
   ]
  },
  {
   "cell_type": "markdown",
   "id": "3a91bdba",
   "metadata": {},
   "source": [
    "Fit a lasso-penalised logistic regression (solver='saga') with nested 5-fold cross-validation to tune the shrinkage parameter. Report the value of the optimal C. \n",
    "Use as candidate values: Cs = np.logspace(-3, 3, 15)"
   ]
  },
  {
   "cell_type": "code",
   "execution_count": 67,
   "id": "da4a7216",
   "metadata": {},
   "outputs": [
    {
     "data": {
      "text/plain": [
       "np.float64(0.3727593720314938)"
      ]
     },
     "execution_count": 67,
     "metadata": {},
     "output_type": "execute_result"
    }
   ],
   "source": [
    "# finding the best value of C for Lasso regression\n",
    "from sklearn.linear_model import LogisticRegression\n",
    "from sklearn.metrics import make_scorer\n",
    "from sklearn.model_selection import cross_val_score \n",
    "\n",
    "\n",
    "Cs = np.logspace(-3, 3, 15)\n",
    "from sklearn.model_selection import GridSearchCV\n",
    "\n",
    "lasso_search = GridSearchCV(\n",
    "    LogisticRegression(penalty='l1', solver='saga', max_iter=1000),\n",
    "    param_grid={'C': Cs}, cv=10, scoring='accuracy'\n",
    ")\n",
    "lasso_search.fit(X_train, y_train)\n",
    "lasso_best = lasso_search.best_estimator_\n",
    "lasso_cv_acc = lasso_search.best_score_\n",
    "lasso_test_acc = lasso_best.score(X_test, y_test)\n",
    "\n",
    "lasso_best.C"
   ]
  },
  {
   "cell_type": "code",
   "execution_count": 68,
   "id": "a1c4fb67",
   "metadata": {},
   "outputs": [],
   "source": [
    "# cross validation with accuracy\n",
    "lasso_scores = cross_val_score(lasso_search, X_train, y_train, cv=5, scoring='accuracy')\n",
    "\n",
    "lasso_cv_acc = lasso_scores.mean()\n",
    "lasso_cv_acc_std = lasso_scores.std()\n"
   ]
  },
  {
   "cell_type": "code",
   "execution_count": 69,
   "id": "54b8bff5",
   "metadata": {},
   "outputs": [
    {
     "data": {
      "text/plain": [
       "np.float64(0.7666666666666666)"
      ]
     },
     "execution_count": 69,
     "metadata": {},
     "output_type": "execute_result"
    }
   ],
   "source": [
    "lasso_scores.mean()"
   ]
  },
  {
   "cell_type": "code",
   "execution_count": 70,
   "id": "b79973e5",
   "metadata": {},
   "outputs": [
    {
     "name": "stdout",
     "output_type": "stream",
     "text": [
      "Selected features from forward selection: ['bio_1', 'bio_2', 'bio_3', 'bio_4', 'bio_5', 'bio_6', 'bio_7', 'bio_8', 'bio_11', 'bio_12', 'bio_14', 'bio_15', 'bio_16', 'bio_17', 'bio_19', 'bio_20']\n"
     ]
    },
    {
     "data": {
      "text/plain": [
       "np.float64(0.763888888888889)"
      ]
     },
     "execution_count": 70,
     "metadata": {},
     "output_type": "execute_result"
    }
   ],
   "source": [
    "# using the best features from the forward step-wise selection\n",
    "print(\"Selected features from forward selection:\", selected)\n",
    "\n",
    "model = LogisticRegression()\n",
    "\n",
    "scores = cross_val_score(model, X_train[selected], y_train, cv=5, scoring='accuracy')\n",
    "\n",
    "scores.mean() "
   ]
  },
  {
   "cell_type": "markdown",
   "id": "7ac0015e",
   "metadata": {},
   "source": [
    "For all the following questions, consider the multiclass classification problem where the goal is to predict exactly the feature disease. \n",
    "Fit a gradient boosting classifier algorithm. Use 5-fold cross-validation to select the learning rate parameter among the values [1e-3, 1e-2, 1e-1, 1, 1e1, 1e2]. What is the value of the learning rate?"
   ]
  },
  {
   "cell_type": "code",
   "execution_count": 71,
   "id": "c5a217ed",
   "metadata": {},
   "outputs": [
    {
     "data": {
      "text/plain": [
       "0.1"
      ]
     },
     "execution_count": 71,
     "metadata": {},
     "output_type": "execute_result"
    }
   ],
   "source": [
    "# gradient boosting classifier algorithm\n",
    "from sklearn.ensemble import GradientBoostingClassifier\n",
    "from sklearn.model_selection import GridSearchCV\n",
    "\n",
    "learning_rated = [1e-3, 1e-2, 1e-1, 1, 1e1, 1e2]\n",
    "search = GridSearchCV(\n",
    "    GradientBoostingClassifier(),\n",
    "    param_grid={'learning_rate': learning_rated},\n",
    "    cv=5,\n",
    "    scoring='accuracy'\n",
    ")\n",
    "search.fit(X_train, y_train)\n",
    "gb_best = search.best_estimator_\n",
    "best_param = search.best_params_['learning_rate']\n",
    "best_param"
   ]
  },
  {
   "cell_type": "markdown",
   "id": "13d39288",
   "metadata": {},
   "source": [
    "Compute the 5 × 5 confusion matrix for the classification on the test set."
   ]
  },
  {
   "cell_type": "code",
   "execution_count": 72,
   "id": "1ac25589",
   "metadata": {},
   "outputs": [
    {
     "data": {
      "image/png": "[encoded data removed]",
      "text/plain": [
       "<Figure size 800x600 with 2 Axes>"
      ]
     },
     "metadata": {},
     "output_type": "display_data"
    }
   ],
   "source": [
    "# computing the confusion matrix\n",
    "from sklearn.metrics import confusion_matrix\n",
    "import seaborn as sns\n",
    "import matplotlib.pyplot as plt\n",
    "\n",
    "conf_matrix = confusion_matrix(y_test, search.predict(X_test))\n",
    "conf_matrix\n",
    "# heatmap of the confusion matrix\n",
    "plt.figure(figsize=(8, 6))\n",
    "sns.heatmap(conf_matrix, annot=True, fmt='d', cmap='Blues',\n",
    "            xticklabels=['No Disease', 'Disease'], yticklabels=['No Disease', 'Disease'])\n",
    "plt.xlabel('Predicted')\n",
    "plt.ylabel('Actual')\n",
    "plt.title('Confusion Matrix')\n",
    "plt.show()"
   ]
  },
  {
   "cell_type": "markdown",
   "id": "084f93be",
   "metadata": {},
   "source": [
    "Fit a random forest classifier and report the OOB accuracy and the accuracy on the test set."
   ]
  },
  {
   "cell_type": "code",
   "execution_count": 78,
   "id": "dbc0b4cd",
   "metadata": {},
   "outputs": [
    {
     "data": {
      "text/plain": [
       "(0.8305555555555556, 0.7888888888888889)"
      ]
     },
     "execution_count": 78,
     "metadata": {},
     "output_type": "execute_result"
    }
   ],
   "source": [
    "# importing random forest classifier\n",
    "from sklearn.ensemble import RandomForestClassifier\n",
    "from sklearn.model_selection import RandomizedSearchCV\n",
    "from scipy.stats import randint\n",
    "\n",
    "model = RandomForestClassifier(oob_score=True)\n",
    "model.fit(X_train, y_train)\n",
    "\n",
    "model.predict(X_test)\n",
    "\n",
    "model.oob_score_, model.score(X_test, y_test)"
   ]
  }
 ],
 "metadata": {
  "kernelspec": {
   "display_name": ".venv",
   "language": "python",
   "name": "python3"
  },
  "language_info": {
   "codemirror_mode": {
    "name": "ipython",
    "version": 3
   },
   "file_extension": ".py",
   "mimetype": "text/x-python",
   "name": "python",
   "nbconvert_exporter": "python",
   "pygments_lexer": "ipython3",
   "version": "3.13.5"
  }
 },
 "nbformat": 4,
 "nbformat_minor": 5
}
