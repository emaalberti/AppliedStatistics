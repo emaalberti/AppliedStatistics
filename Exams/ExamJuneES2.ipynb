{
 "cells": [
  {
   "cell_type": "markdown",
   "id": "e51cfcf8",
   "metadata": {},
   "source": [
    "The file house_prices.csv contains 20 predictors and the sale price.\n",
    "\n",
    "Split the dataset into training and testing using the `train_test_split` function with parameters `test_size=0.3, random_state=42.`"
   ]
  },
  {
   "cell_type": "code",
   "execution_count": 2,
   "id": "2e03f82e",
   "metadata": {},
   "outputs": [],
   "source": [
    "import pandas as pd\n",
    "import numpy as np\n",
    "from sklearn.model_selection import train_test_split\n",
    "from sklearn.linear_model import LogisticRegression, LassoCV\n",
    "from sklearn.model_selection import cross_val_score\n",
    "from sklearn.feature_selection import RFE\n",
    "from sklearn.pipeline import Pipeline\n",
    "from sklearn.preprocessing import StandardScaler\n",
    "from sklearn.model_selection import GridSearchCV\n",
    "from sklearn.metrics import accuracy_score\n",
    "import warnings\n",
    "warnings.filterwarnings(\"ignore\")"
   ]
  },
  {
   "cell_type": "code",
   "execution_count": 34,
   "id": "14c44d9a",
   "metadata": {},
   "outputs": [
    {
     "data": {
      "text/html": [
       "<div>\n",
       "<style scoped>\n",
       "    .dataframe tbody tr th:only-of-type {\n",
       "        vertical-align: middle;\n",
       "    }\n",
       "\n",
       "    .dataframe tbody tr th {\n",
       "        vertical-align: top;\n",
       "    }\n",
       "\n",
       "    .dataframe thead th {\n",
       "        text-align: right;\n",
       "    }\n",
       "</style>\n",
       "<table border=\"1\" class=\"dataframe\">\n",
       "  <thead>\n",
       "    <tr style=\"text-align: right;\">\n",
       "      <th></th>\n",
       "      <th>feat_1</th>\n",
       "      <th>feat_2</th>\n",
       "      <th>feat_3</th>\n",
       "      <th>feat_4</th>\n",
       "      <th>feat_5</th>\n",
       "      <th>feat_6</th>\n",
       "      <th>feat_7</th>\n",
       "      <th>feat_8</th>\n",
       "      <th>feat_9</th>\n",
       "      <th>feat_10</th>\n",
       "      <th>feat_11</th>\n",
       "      <th>feat_12</th>\n",
       "      <th>feat_13</th>\n",
       "      <th>feat_14</th>\n",
       "      <th>feat_15</th>\n",
       "      <th>feat_16</th>\n",
       "      <th>feat_17</th>\n",
       "      <th>feat_18</th>\n",
       "      <th>feat_19</th>\n",
       "      <th>feat_20</th>\n",
       "    </tr>\n",
       "  </thead>\n",
       "  <tbody>\n",
       "    <tr>\n",
       "      <th>108</th>\n",
       "      <td>13.964434</td>\n",
       "      <td>-4.217861</td>\n",
       "      <td>23.243539</td>\n",
       "      <td>2.463535</td>\n",
       "      <td>-17.835723</td>\n",
       "      <td>18.220957</td>\n",
       "      <td>26.315294</td>\n",
       "      <td>-10.881611</td>\n",
       "      <td>27.015424</td>\n",
       "      <td>-10.525323</td>\n",
       "      <td>15.717846</td>\n",
       "      <td>19.500206</td>\n",
       "      <td>-12.684585</td>\n",
       "      <td>-21.114710</td>\n",
       "      <td>12.631730</td>\n",
       "      <td>10.529218</td>\n",
       "      <td>-4.849612</td>\n",
       "      <td>0.426829</td>\n",
       "      <td>16.809657</td>\n",
       "      <td>-0.544594</td>\n",
       "    </tr>\n",
       "    <tr>\n",
       "      <th>272</th>\n",
       "      <td>4.709036</td>\n",
       "      <td>-3.243007</td>\n",
       "      <td>-21.255261</td>\n",
       "      <td>-15.820980</td>\n",
       "      <td>10.529057</td>\n",
       "      <td>6.204234</td>\n",
       "      <td>13.971754</td>\n",
       "      <td>-1.564073</td>\n",
       "      <td>30.560271</td>\n",
       "      <td>25.187701</td>\n",
       "      <td>-17.768742</td>\n",
       "      <td>13.376431</td>\n",
       "      <td>27.416316</td>\n",
       "      <td>14.864511</td>\n",
       "      <td>-10.129580</td>\n",
       "      <td>-4.873142</td>\n",
       "      <td>0.790096</td>\n",
       "      <td>19.500528</td>\n",
       "      <td>14.937885</td>\n",
       "      <td>-7.317204</td>\n",
       "    </tr>\n",
       "    <tr>\n",
       "      <th>599</th>\n",
       "      <td>13.376900</td>\n",
       "      <td>-19.996406</td>\n",
       "      <td>-35.435604</td>\n",
       "      <td>-20.193387</td>\n",
       "      <td>26.608800</td>\n",
       "      <td>17.085965</td>\n",
       "      <td>8.298858</td>\n",
       "      <td>9.315915</td>\n",
       "      <td>-13.174055</td>\n",
       "      <td>2.125168</td>\n",
       "      <td>1.482018</td>\n",
       "      <td>17.230434</td>\n",
       "      <td>12.273938</td>\n",
       "      <td>15.707255</td>\n",
       "      <td>3.987012</td>\n",
       "      <td>13.192227</td>\n",
       "      <td>14.178322</td>\n",
       "      <td>19.729620</td>\n",
       "      <td>-19.621219</td>\n",
       "      <td>19.483585</td>\n",
       "    </tr>\n",
       "    <tr>\n",
       "      <th>479</th>\n",
       "      <td>5.906190</td>\n",
       "      <td>-10.957342</td>\n",
       "      <td>-5.437273</td>\n",
       "      <td>-22.530948</td>\n",
       "      <td>3.327451</td>\n",
       "      <td>-3.832104</td>\n",
       "      <td>34.847128</td>\n",
       "      <td>-6.493656</td>\n",
       "      <td>2.561833</td>\n",
       "      <td>18.812451</td>\n",
       "      <td>-4.803824</td>\n",
       "      <td>47.590075</td>\n",
       "      <td>-1.298306</td>\n",
       "      <td>23.614756</td>\n",
       "      <td>-16.344267</td>\n",
       "      <td>13.361025</td>\n",
       "      <td>18.896597</td>\n",
       "      <td>34.130041</td>\n",
       "      <td>-3.431386</td>\n",
       "      <td>29.701159</td>\n",
       "    </tr>\n",
       "    <tr>\n",
       "      <th>436</th>\n",
       "      <td>9.888188</td>\n",
       "      <td>-26.574310</td>\n",
       "      <td>-20.215125</td>\n",
       "      <td>-21.003896</td>\n",
       "      <td>26.001843</td>\n",
       "      <td>9.738360</td>\n",
       "      <td>17.393519</td>\n",
       "      <td>-2.208022</td>\n",
       "      <td>-10.161064</td>\n",
       "      <td>5.873282</td>\n",
       "      <td>6.691287</td>\n",
       "      <td>18.309348</td>\n",
       "      <td>1.022868</td>\n",
       "      <td>16.870912</td>\n",
       "      <td>-0.608969</td>\n",
       "      <td>10.199093</td>\n",
       "      <td>11.941669</td>\n",
       "      <td>26.238357</td>\n",
       "      <td>-18.059690</td>\n",
       "      <td>24.912501</td>\n",
       "    </tr>\n",
       "  </tbody>\n",
       "</table>\n",
       "</div>"
      ],
      "text/plain": [
       "        feat_1     feat_2     feat_3     feat_4     feat_5     feat_6  \\\n",
       "108  13.964434  -4.217861  23.243539   2.463535 -17.835723  18.220957   \n",
       "272   4.709036  -3.243007 -21.255261 -15.820980  10.529057   6.204234   \n",
       "599  13.376900 -19.996406 -35.435604 -20.193387  26.608800  17.085965   \n",
       "479   5.906190 -10.957342  -5.437273 -22.530948   3.327451  -3.832104   \n",
       "436   9.888188 -26.574310 -20.215125 -21.003896  26.001843   9.738360   \n",
       "\n",
       "        feat_7     feat_8     feat_9    feat_10    feat_11    feat_12  \\\n",
       "108  26.315294 -10.881611  27.015424 -10.525323  15.717846  19.500206   \n",
       "272  13.971754  -1.564073  30.560271  25.187701 -17.768742  13.376431   \n",
       "599   8.298858   9.315915 -13.174055   2.125168   1.482018  17.230434   \n",
       "479  34.847128  -6.493656   2.561833  18.812451  -4.803824  47.590075   \n",
       "436  17.393519  -2.208022 -10.161064   5.873282   6.691287  18.309348   \n",
       "\n",
       "       feat_13    feat_14    feat_15    feat_16    feat_17    feat_18  \\\n",
       "108 -12.684585 -21.114710  12.631730  10.529218  -4.849612   0.426829   \n",
       "272  27.416316  14.864511 -10.129580  -4.873142   0.790096  19.500528   \n",
       "599  12.273938  15.707255   3.987012  13.192227  14.178322  19.729620   \n",
       "479  -1.298306  23.614756 -16.344267  13.361025  18.896597  34.130041   \n",
       "436   1.022868  16.870912  -0.608969  10.199093  11.941669  26.238357   \n",
       "\n",
       "       feat_19    feat_20  \n",
       "108  16.809657  -0.544594  \n",
       "272  14.937885  -7.317204  \n",
       "599 -19.621219  19.483585  \n",
       "479  -3.431386  29.701159  \n",
       "436 -18.059690  24.912501  "
      ]
     },
     "execution_count": 34,
     "metadata": {},
     "output_type": "execute_result"
    }
   ],
   "source": [
    "df = pd.read_csv('house_prices (3).csv')\n",
    "df.head()\n",
    "X = pd.DataFrame(df.drop(columns=['price']))\n",
    "y = df['price']\n",
    "X_train, X_test, y_train, y_test = train_test_split(X, y, test_size=0.3, random_state=42)\n",
    "X_train.head()"
   ]
  },
  {
   "cell_type": "markdown",
   "id": "be89ad61",
   "metadata": {},
   "source": [
    "Perform K-means clustering on the training set, selecting the optimal number of clusters via the elbow criterion on the within-cluster sum of squares. What is the selected number of clusters?"
   ]
  },
  {
   "cell_type": "code",
   "execution_count": 9,
   "id": "00a44a0a",
   "metadata": {},
   "outputs": [
    {
     "data": {
      "image/png": "[encoded data removed]",
      "text/plain": [
       "<Figure size 640x480 with 1 Axes>"
      ]
     },
     "metadata": {},
     "output_type": "display_data"
    }
   ],
   "source": [
    "# importing kmeans for clustering\n",
    "from sklearn.cluster import KMeans\n",
    "wcss_ = []\n",
    "for i in range(1, 8):\n",
    "    model = KMeans(n_clusters=i, random_state=42)\n",
    "    model.fit(X_train)\n",
    "    wcss_.append(model.inertia_)\n",
    "\n",
    "import matplotlib.pyplot as plt\n",
    "plt.plot(range(1, 8), wcss_)\n",
    "plt.xlabel('Number of clusters')\n",
    "plt.ylabel('WCSS')\n",
    "plt.title('Elbow Method for Optimal Clusters')\n",
    "plt.show()\n"
   ]
  },
  {
   "cell_type": "code",
   "execution_count": null,
   "id": "0b717e99",
   "metadata": {},
   "outputs": [],
   "source": []
  },
  {
   "cell_type": "markdown",
   "id": "6d487fdf",
   "metadata": {},
   "source": [
    "Fit a separate linear regression with ridge penalty in each cluster. In each cluster, use cross-validation (5-fold) to select the optimal shrinkage parameter in the range  alpha = np.logspace(-3, 3, 15)"
   ]
  },
  {
   "cell_type": "code",
   "execution_count": null,
   "id": "b25f89d8",
   "metadata": {},
   "outputs": [],
   "source": []
  },
  {
   "cell_type": "code",
   "execution_count": null,
   "id": "00d7d9a3",
   "metadata": {},
   "outputs": [
    {
     "data": {
      "text/plain": [
       "({'cluster0': {'alpha': np.float64(0.004281332398719396)},\n",
       "  'cluster1': {'alpha': np.float64(0.018329807108324356)},\n",
       "  'cluster2': {'alpha': np.float64(0.00206913808111479)},\n",
       "  'cluster3': {'alpha': np.float64(0.001)}},\n",
       " {'cluster0': 35.66228017726311,\n",
       "  'cluster1': 31.866140397963907,\n",
       "  'cluster2': 22.1845189303148,\n",
       "  'cluster3': 39.956096184251784})"
      ]
     },
     "execution_count": 50,
     "metadata": {},
     "output_type": "execute_result"
    }
   ],
   "source": [
    "# importing Ridge for regression\n",
    "from sklearn.linear_model import Ridge\n",
    "from sklearn.model_selection import GridSearchCV\n",
    "from sklearn.metrics import mean_squared_error\n",
    "\n",
    "clusters = KMeans(n_clusters=4, random_state=42).fit_predict(X)\n",
    "\n",
    "clusters_train = clusters[X_train.index]\n",
    "clusters_test = clusters[X_test.index]\n",
    "\n",
    "best_parameters = {}\n",
    "mse_scores = {}\n",
    "for i in range(4):\n",
    "\n",
    "    X_sub_train = X_train.loc[clusters_train == i, :]\n",
    "    y_sub_train = y_train.loc[clusters_train == i]\n",
    "\n",
    "    model = Ridge()\n",
    "    ridge_search = GridSearchCV(model, param_grid={'alpha': np.logspace(-3, 3, 20)}, cv=5)\n",
    "    ridge_search.fit(X_sub_train, y_sub_train)\n",
    "    best_parameters[f'cluster{i}'] = ridge_search.best_params_\n",
    "    \n",
    "    X_sub_test = X_test.loc[clusters_test == i, :]\n",
    "    y_sub_test = y_test.loc[clusters_test == i]\n",
    "\n",
    "    mse = mean_squared_error(y_sub_test, ridge_search.predict(X_sub_test))\n",
    "    mse_scores[f'cluster{i}'] = mse\n",
    "\n",
    "best_parameters, mse_scores"
   ]
  },
  {
   "cell_type": "markdown",
   "id": "956add54",
   "metadata": {},
   "source": [
    "Now we add another layer before performing K-means: first we perform dimensionality reduction by PCA. Contrary to the previous point 2, the ridge penalty parameter is now fixed to alpha = 0.1.\n",
    "\n",
    "Select the number of components as well as the number of clusters for K-means via 5-fold cross-validation.\n",
    "\n",
    "For the number of components, consider the possible values [2, 3, 4, 5, 6, 7], while for the number of clusters [2, 4, 6, 8, 10].\n",
    "\n",
    "Report the optimal number of clusters, the number of components, the cross-validation error, and the error on the test set."
   ]
  },
  {
   "cell_type": "code",
   "execution_count": 67,
   "id": "459f23ad",
   "metadata": {},
   "outputs": [
    {
     "data": {
      "text/plain": [
       "Text(0.5, 1.0, 'WCSS for Different PCA Components and Clusters')"
      ]
     },
     "execution_count": 67,
     "metadata": {},
     "output_type": "execute_result"
    },
    {
     "data": {
      "image/png": "[encoded data removed]",
      "text/plain": [
       "<Figure size 640x480 with 1 Axes>"
      ]
     },
     "metadata": {},
     "output_type": "display_data"
    }
   ],
   "source": [
    "# Now we add another layer before performing K-means: first we perform dimensionality reduction by PCA. Contrary to the previous point 2, the ridge penalty parameter is now fixed to alpha = 0.1.\n",
    "\n",
    "# Select the number of components as well as the number of clusters for K-means via 5-fold cross-validation.\n",
    "\n",
    "# For the number of components, consider the possible values [2, 3, 4, 5, 6, 7], while for the number of clusters [2, 4, 6, 8, 10].\n",
    "\n",
    "# Report the optimal number of clusters, the number of components, the cross-validation error, and the error on the test set.\n",
    "\n",
    "#importing pca\n",
    "from sklearn.decomposition import PCA\n",
    "components = [2,3,4,5,6,7,8,9,10,11,12,13,14,15,16,17,18,19,20]\n",
    "clusters = [2,3,4,6,8,10]\n",
    "\n",
    "#choosing the best combination based on wcss\n",
    "wcss = {}\n",
    "for co in components:\n",
    "    for cl in clusters:\n",
    "        pca = PCA(n_components=co)\n",
    "        X_pca = pca.fit_transform(X_train)\n",
    "        \n",
    "        kmeans = KMeans(n_clusters=cl, random_state=42)\n",
    "        kmeans.fit(X_pca)\n",
    "        inertia = kmeans.inertia_\n",
    "        wcss[(co)] = inertia\n",
    "\n",
    "plt.plot(wcss.keys(), wcss.values())\n",
    "plt.xlabel('Number of Components and Clusters')\n",
    "plt.ylabel('WCSS')\n",
    "plt.title('WCSS for Different PCA Components and Clusters')"
   ]
  },
  {
   "cell_type": "code",
   "execution_count": null,
   "id": "062ae926",
   "metadata": {},
   "outputs": [],
   "source": []
  }
 ],
 "metadata": {
  "kernelspec": {
   "display_name": ".venv",
   "language": "python",
   "name": "python3"
  },
  "language_info": {
   "codemirror_mode": {
    "name": "ipython",
    "version": 3
   },
   "file_extension": ".py",
   "mimetype": "text/x-python",
   "name": "python",
   "nbconvert_exporter": "python",
   "pygments_lexer": "ipython3",
   "version": "3.13.5"
  }
 },
 "nbformat": 4,
 "nbformat_minor": 5
}
